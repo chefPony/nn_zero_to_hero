{
  "cells": [
    {
      "cell_type": "markdown",
      "metadata": {
        "id": "view-in-github",
        "colab_type": "text"
      },
      "source": [
        "<a href=\"https://colab.research.google.com/github/chefPony/nn_zero_to_hero/blob/master/build_makemore_backprop_ninja.ipynb\" target=\"_parent\"><img src=\"https://colab.research.google.com/assets/colab-badge.svg\" alt=\"Open In Colab\"/></a>"
      ]
    },
    {
      "cell_type": "markdown",
      "metadata": {
        "id": "rToK0Tku8PPn"
      },
      "source": [
        "## makemore: becoming a backprop ninja"
      ]
    },
    {
      "cell_type": "code",
      "execution_count": 1,
      "metadata": {
        "id": "8sFElPqq8PPp"
      },
      "outputs": [],
      "source": [
        "# there no change change in the first several cells from last lecture"
      ]
    },
    {
      "cell_type": "code",
      "execution_count": 2,
      "metadata": {
        "id": "ChBbac4y8PPq"
      },
      "outputs": [],
      "source": [
        "import torch\n",
        "import torch.nn.functional as F\n",
        "import matplotlib.pyplot as plt # for making figures\n",
        "%matplotlib inline"
      ]
    },
    {
      "cell_type": "code",
      "source": [
        "# download the names.txt file from github\n",
        "!wget https://raw.githubusercontent.com/karpathy/makemore/master/names.txt"
      ],
      "metadata": {
        "id": "x6GhEWW18aCS",
        "outputId": "9955f389-ac3b-48bb-b1a2-9a679e2cad7c",
        "colab": {
          "base_uri": "https://localhost:8080/"
        }
      },
      "execution_count": 3,
      "outputs": [
        {
          "output_type": "stream",
          "name": "stdout",
          "text": [
            "--2024-07-20 17:57:10--  https://raw.githubusercontent.com/karpathy/makemore/master/names.txt\n",
            "Resolving raw.githubusercontent.com (raw.githubusercontent.com)... 185.199.110.133, 185.199.111.133, 185.199.108.133, ...\n",
            "Connecting to raw.githubusercontent.com (raw.githubusercontent.com)|185.199.110.133|:443... connected.\n",
            "HTTP request sent, awaiting response... 200 OK\n",
            "Length: 228145 (223K) [text/plain]\n",
            "Saving to: ‘names.txt’\n",
            "\n",
            "\rnames.txt             0%[                    ]       0  --.-KB/s               \rnames.txt           100%[===================>] 222.80K  --.-KB/s    in 0.006s  \n",
            "\n",
            "2024-07-20 17:57:11 (34.0 MB/s) - ‘names.txt’ saved [228145/228145]\n",
            "\n"
          ]
        }
      ]
    },
    {
      "cell_type": "code",
      "execution_count": 4,
      "metadata": {
        "id": "klmu3ZG08PPr",
        "outputId": "ccf7eaea-9bf5-4245-ef15-263764e9e1a3",
        "colab": {
          "base_uri": "https://localhost:8080/"
        }
      },
      "outputs": [
        {
          "output_type": "stream",
          "name": "stdout",
          "text": [
            "32033\n",
            "15\n",
            "['emma', 'olivia', 'ava', 'isabella', 'sophia', 'charlotte', 'mia', 'amelia']\n"
          ]
        }
      ],
      "source": [
        "# read in all the words\n",
        "words = open('names.txt', 'r').read().splitlines()\n",
        "print(len(words))\n",
        "print(max(len(w) for w in words))\n",
        "print(words[:8])"
      ]
    },
    {
      "cell_type": "code",
      "execution_count": 5,
      "metadata": {
        "id": "BCQomLE_8PPs",
        "outputId": "7e94c8c9-d684-4f25-c497-29caee985aad",
        "colab": {
          "base_uri": "https://localhost:8080/"
        }
      },
      "outputs": [
        {
          "output_type": "stream",
          "name": "stdout",
          "text": [
            "{1: 'a', 2: 'b', 3: 'c', 4: 'd', 5: 'e', 6: 'f', 7: 'g', 8: 'h', 9: 'i', 10: 'j', 11: 'k', 12: 'l', 13: 'm', 14: 'n', 15: 'o', 16: 'p', 17: 'q', 18: 'r', 19: 's', 20: 't', 21: 'u', 22: 'v', 23: 'w', 24: 'x', 25: 'y', 26: 'z', 0: '.'}\n",
            "27\n"
          ]
        }
      ],
      "source": [
        "# build the vocabulary of characters and mappings to/from integers\n",
        "chars = sorted(list(set(''.join(words))))\n",
        "stoi = {s:i+1 for i,s in enumerate(chars)}\n",
        "stoi['.'] = 0\n",
        "itos = {i:s for s,i in stoi.items()}\n",
        "vocab_size = len(itos)\n",
        "print(itos)\n",
        "print(vocab_size)"
      ]
    },
    {
      "cell_type": "code",
      "execution_count": 6,
      "metadata": {
        "id": "V_zt2QHr8PPs",
        "outputId": "a50d3fd7-4f48-4b60-fedc-7166e1b3b36f",
        "colab": {
          "base_uri": "https://localhost:8080/"
        }
      },
      "outputs": [
        {
          "output_type": "stream",
          "name": "stdout",
          "text": [
            "torch.Size([182625, 3]) torch.Size([182625])\n",
            "torch.Size([22655, 3]) torch.Size([22655])\n",
            "torch.Size([22866, 3]) torch.Size([22866])\n"
          ]
        }
      ],
      "source": [
        "# build the dataset\n",
        "block_size = 3 # context length: how many characters do we take to predict the next one?\n",
        "\n",
        "def build_dataset(words):\n",
        "  X, Y = [], []\n",
        "\n",
        "  for w in words:\n",
        "    context = [0] * block_size\n",
        "    for ch in w + '.':\n",
        "      ix = stoi[ch]\n",
        "      X.append(context)\n",
        "      Y.append(ix)\n",
        "      context = context[1:] + [ix] # crop and append\n",
        "\n",
        "  X = torch.tensor(X)\n",
        "  Y = torch.tensor(Y)\n",
        "  print(X.shape, Y.shape)\n",
        "  return X, Y\n",
        "\n",
        "import random\n",
        "random.seed(42)\n",
        "random.shuffle(words)\n",
        "n1 = int(0.8*len(words))\n",
        "n2 = int(0.9*len(words))\n",
        "\n",
        "Xtr,  Ytr  = build_dataset(words[:n1])     # 80%\n",
        "Xdev, Ydev = build_dataset(words[n1:n2])   # 10%\n",
        "Xte,  Yte  = build_dataset(words[n2:])     # 10%"
      ]
    },
    {
      "cell_type": "code",
      "execution_count": 7,
      "metadata": {
        "id": "eg20-vsg8PPt"
      },
      "outputs": [],
      "source": [
        "# ok biolerplate done, now we get to the action:"
      ]
    },
    {
      "cell_type": "code",
      "execution_count": 8,
      "metadata": {
        "id": "MJPU8HT08PPu"
      },
      "outputs": [],
      "source": [
        "# utility function we will use later when comparing manual gradients to PyTorch gradients\n",
        "def cmp(s, dt, t):\n",
        "  ex = torch.all(dt == t.grad).item()\n",
        "  app = torch.allclose(dt, t.grad)\n",
        "  maxdiff = (dt - t.grad).abs().max().item()\n",
        "  print(f'{s:15s} | exact: {str(ex):5s} | approximate: {str(app):5s} | maxdiff: {maxdiff}')"
      ]
    },
    {
      "cell_type": "code",
      "execution_count": 9,
      "metadata": {
        "id": "ZlFLjQyT8PPu",
        "outputId": "82fd0ba7-25f4-4ff9-8800-8668cb90599f",
        "colab": {
          "base_uri": "https://localhost:8080/"
        }
      },
      "outputs": [
        {
          "output_type": "stream",
          "name": "stdout",
          "text": [
            "4137\n"
          ]
        }
      ],
      "source": [
        "n_embd = 10 # the dimensionality of the character embedding vectors\n",
        "n_hidden = 64 # the number of neurons in the hidden layer of the MLP\n",
        "\n",
        "g = torch.Generator().manual_seed(2147483647) # for reproducibility\n",
        "C  = torch.randn((vocab_size, n_embd),            generator=g)\n",
        "# Layer 1\n",
        "W1 = torch.randn((n_embd * block_size, n_hidden), generator=g) * (5/3)/((n_embd * block_size)**0.5)\n",
        "b1 = torch.randn(n_hidden,                        generator=g) * 0.1 # using b1 just for fun, it's useless because of BN\n",
        "# Layer 2\n",
        "W2 = torch.randn((n_hidden, vocab_size),          generator=g) * 0.1\n",
        "b2 = torch.randn(vocab_size,                      generator=g) * 0.1\n",
        "# BatchNorm parameters\n",
        "bngain = torch.randn((1, n_hidden))*0.1 + 1.0\n",
        "bnbias = torch.randn((1, n_hidden))*0.1\n",
        "\n",
        "# Note: I am initializating many of these parameters in non-standard ways\n",
        "# because sometimes initializating with e.g. all zeros could mask an incorrect\n",
        "# implementation of the backward pass.\n",
        "\n",
        "parameters = [C, W1, b1, W2, b2, bngain, bnbias]\n",
        "print(sum(p.nelement() for p in parameters)) # number of parameters in total\n",
        "for p in parameters:\n",
        "  p.requires_grad = True"
      ]
    },
    {
      "cell_type": "code",
      "execution_count": 10,
      "metadata": {
        "id": "QY-y96Y48PPv"
      },
      "outputs": [],
      "source": [
        "batch_size = 32\n",
        "n = batch_size # a shorter variable also, for convenience\n",
        "# construct a minibatch\n",
        "ix = torch.randint(0, Xtr.shape[0], (batch_size,), generator=g)\n",
        "Xb, Yb = Xtr[ix], Ytr[ix] # batch X,Y"
      ]
    },
    {
      "cell_type": "code",
      "execution_count": 11,
      "metadata": {
        "id": "8ofj1s6d8PPv",
        "outputId": "e77f5f57-5c01-4df1-ca6d-dd3a3fe03c5e",
        "colab": {
          "base_uri": "https://localhost:8080/"
        }
      },
      "outputs": [
        {
          "output_type": "execute_result",
          "data": {
            "text/plain": [
              "tensor(3.3389, grad_fn=<NegBackward0>)"
            ]
          },
          "metadata": {},
          "execution_count": 11
        }
      ],
      "source": [
        "# forward pass, \"chunkated\" into smaller steps that are possible to backward one at a time\n",
        "\n",
        "emb = C[Xb] # embed the characters into vectors\n",
        "embcat = emb.view(emb.shape[0], -1) # concatenate the vectors\n",
        "# Linear layer 1\n",
        "hprebn = embcat @ W1 + b1 # hidden layer pre-activation\n",
        "# BatchNorm layer\n",
        "bnmeani = 1/n*hprebn.sum(0, keepdim=True)\n",
        "bndiff = hprebn - bnmeani\n",
        "bndiff2 = bndiff**2\n",
        "bnvar = 1/(n-1)*(bndiff2).sum(0, keepdim=True) # note: Bessel's correction (dividing by n-1, not n)\n",
        "bnvar_inv = (bnvar + 1e-5)**-0.5\n",
        "bnraw = bndiff * bnvar_inv\n",
        "hpreact = bngain * bnraw + bnbias\n",
        "# Non-linearity\n",
        "h = torch.tanh(hpreact) # hidden layer\n",
        "# Linear layer 2\n",
        "logits = h @ W2 + b2 # output layer\n",
        "# cross entropy loss (same as F.cross_entropy(logits, Yb))\n",
        "logit_maxes = logits.max(1, keepdim=True).values\n",
        "norm_logits = logits - logit_maxes # subtract max for numerical stability\n",
        "counts = norm_logits.exp()\n",
        "counts_sum = counts.sum(1, keepdims=True)\n",
        "counts_sum_inv = counts_sum**-1 # if I use (1.0 / counts_sum) instead then I can't get backprop to be bit exact...\n",
        "probs = counts * counts_sum_inv\n",
        "logprobs = probs.log()\n",
        "loss = -logprobs[range(n), Yb].mean()\n",
        "\n",
        "# PyTorch backward pass\n",
        "for p in parameters:\n",
        "  p.grad = None\n",
        "for t in [logprobs, probs, counts, counts_sum, counts_sum_inv, # afaik there is no cleaner way\n",
        "          norm_logits, logit_maxes, logits, h, hpreact, bnraw,\n",
        "         bnvar_inv, bnvar, bndiff2, bndiff, hprebn, bnmeani,\n",
        "         embcat, emb]:\n",
        "  t.retain_grad()\n",
        "loss.backward()\n",
        "loss"
      ]
    },
    {
      "cell_type": "markdown",
      "source": [
        "## Notation\n",
        "\n",
        "$$\n",
        "n = batch\\ size\\\\\n",
        "n_v = vocab\\ size\\\\\n",
        "i = 1, ..., n\\\\\n",
        "j = 1, 2, ..., n_v\\\\\n",
        "$$\n",
        "\n",
        "### Derivative with respect to logprobs\n",
        "$$\n",
        "z_{ij} = log(p_{ij})\\\\\n",
        "L(\\mathbf{Z}, \\mathbf{Y})=-\\frac{1}{n}\\sum_{i=1}^{n}\\sum_{j=1}^{n_v}z_{ij}y_{ij}\\\\\n",
        "\\frac{\\partial{L}}{\\partial{z_{ij}}} = -\\frac{1}{n}y_{ij}\n",
        "$$\n",
        "\n",
        "\n",
        "#### Computational graph\n",
        "```\n",
        "logprobs --  L\n",
        "```\n",
        "\n"
      ],
      "metadata": {
        "id": "JcC7GXAouRIA"
      }
    },
    {
      "cell_type": "code",
      "source": [
        "Ymat = torch.zeros((n, vocab_size))\n",
        "Ymat[range(n), Yb] = 1.\n",
        "dlogprobs = - 1/n * Ymat"
      ],
      "metadata": {
        "id": "xaA8zWqSuBbS"
      },
      "execution_count": 12,
      "outputs": []
    },
    {
      "cell_type": "markdown",
      "source": [
        "### Derivative with respect to probs\n",
        "\n",
        "$$\n",
        "\\frac{\\partial{L}}{\\partial{p_{ij}}}=\\frac{\\partial{L}}{\\partial{z_{ij}}}\\frac{\\partial{z_{ij}}}{\\partial{p_{ij}}}\\\\\n",
        "\\frac{\\partial{log(p_{ij})}}{\\partial{p_{ij}}} = \\frac{1}{p_{ij}}\n",
        "$$\n",
        "\n",
        "#### Computational graph\n",
        "```\n",
        "probs --  logprobs\n",
        "```"
      ],
      "metadata": {
        "id": "AuIMi0XQx_qA"
      }
    },
    {
      "cell_type": "code",
      "source": [
        "dprobs = dlogprobs * 1./probs"
      ],
      "metadata": {
        "id": "xvYF4E6ly853"
      },
      "execution_count": 13,
      "outputs": []
    },
    {
      "cell_type": "markdown",
      "source": [
        "### Derivative with respect to counts_sum_inv\n",
        "$$\n",
        "\\mathbf{P}(\\mathbf{cs}^{inv})=\n",
        "  \\left[ {\\begin{array}{cccc}\n",
        "    p_{11}(cs_1^{inv}) & p_{12}(cs_1^{inv}) & \\cdots & p_{1n_{v}}(cs_1^{inv})\\\\\n",
        "    p_{21}(cs_2^{inv}) & p_{22}(cs_2^{inv}) & \\cdots & p_{2n_{v}}(cs_2^{inv})\\\\\n",
        "    \\vdots & \\vdots & \\ddots & \\vdots\\\\\n",
        "    p_{n1}(cs_n^{inv}) & p_{n2}(cs_n^{inv}) & \\cdots & p_{nn_{v}}(cs_n^{inv})\\\\\n",
        "  \\end{array} } \\right]\\\\\n",
        "\\frac{\\partial{p_{kq}}}{\\partial{cs_{i}^{inv}}}=\\frac{\\partial{(c_{kq} \\cdot cs_{k}^{inv})}}{cs_i^{inv}} =\n",
        "\\begin{cases}\n",
        "  c_{iq} & \\text{if } i=k\\\\    \n",
        "  0      & \\text{if } i \\neq k\\\\\n",
        "\\end{cases}\\\\\n",
        "\\frac{\\partial{L(\\mathbf{P}(cs_i^{inv}))}}{\\partial{cs_i^{inv}}}=\n",
        "\\sum_{k=1}^{n}\\sum_{q=1}^{n_v}\\frac{\\partial{L}}{\\partial{p_{kq}}}\\frac{\\partial{p_{kq}}}{\\partial{cs_i^{inv}}}=\n",
        "\\sum_{q=1}^{n_v}\\frac{\\partial{L}}{\\partial{p_{iq}}}c_{iq}\\\\\n",
        "$$\n",
        "\n",
        "#### Computational graph\n",
        "```\n",
        "counts_sum_inv --  probs\n",
        "```"
      ],
      "metadata": {
        "id": "SuOWljArzLKL"
      }
    },
    {
      "cell_type": "code",
      "source": [
        "dcounts_sum_inv = (dprobs * Ymat * counts).sum(1, keepdim=True)"
      ],
      "metadata": {
        "id": "WhwM_2ZV3r1X"
      },
      "execution_count": 14,
      "outputs": []
    },
    {
      "cell_type": "markdown",
      "source": [
        "### Derivative with respect to counts_sum\n",
        "$$\n",
        "\\mathbf{cs^{inv}} = [cs_1^{inv}(cs_1), \\cdots, cs_n^{inv}(cs_n)]\\\\\n",
        "\\frac{\\partial{cs_j^{inv}}}{\\partial{cs_i}}=\\frac{\\partial{(cs_j^{-1})}}{\\partial{cs_i}}\n",
        "\\begin{cases}\n",
        "  -cs_{i}^{-2} & \\text{if } i=j\\\\    \n",
        "  0      & \\text{if } i \\neq j\\\\\n",
        "\\end{cases}\\\\\n",
        "\\frac{\\partial{L(\\mathbf{cs^{inv}}(cs_i))}}{\\partial{cs_i}}=\n",
        "\\sum_{j=1}^n\\frac{\\partial{L}}{\\partial{cs_j^{inv}}}\\frac{\\partial{cs_j^{inv}}}{\\partial{cs_i}}=\\frac{\\partial{L}}{\\partial{cs_i^{inv}}} \\cdot \\frac{-1}{cs_i^2}\n",
        "\\\\\n",
        "$$\n",
        "\n",
        "#### Computational graph\n",
        "```\n",
        "counts_sum -- counts_sum_inv\n",
        "```"
      ],
      "metadata": {
        "id": "vujo6M8uVysq"
      }
    },
    {
      "cell_type": "code",
      "source": [
        "dcounts_sum = dcounts_sum_inv * (-counts_sum**(-2))"
      ],
      "metadata": {
        "id": "w2g1lQjpYCmT"
      },
      "execution_count": 15,
      "outputs": []
    },
    {
      "cell_type": "markdown",
      "source": [
        "### Derivative with respect to counts\n",
        "$$\n",
        "p_{kq}(c_{kq}, cs_{k}^{inv})=c_{kq} \\cdot cs_k^{inv}(cs_{k}(c_{k1}, \\dots, c_{kn_v}))\\\\\n",
        "\\frac{\\partial{p_{kq}}}{\\partial{c_{ij}}}=\n",
        "  \\frac{\\partial{p_{kq}}}{\\partial{c_{kq}}} \\cdot\n",
        "  \\frac{\\partial{c_{kq}}}{\\partial{c_{ij}}} +\n",
        "  \\frac{\\partial{p_{kq}}}{\\partial{cs_k^{inv}}} \\cdot\n",
        "  \\frac{\\partial{cs_k^{inv}}}{\\partial{cs_k}} \\cdot\n",
        "  \\frac{\\partial{cs_k}}{\\partial{c_{ij}}} = \\\\\n",
        "  \\frac{\\partial{p_{kq}}}{\\partial{c_{ij}}} +\n",
        "  \\frac{\\partial{p_{kq}}}{\\partial{cs_k}} \\cdot\n",
        "  \\frac{\\partial{cs_k}}{\\partial{c_{ij}}} = \\\\\n",
        "\\begin{cases}\n",
        "  cs_i^{inv} + \\frac{\\partial{p_{ij}}}{\\partial{cs_i}} \\cdot 1\n",
        "  & \\text{if } i=k\\ and\\ j=q \\\\\n",
        "  0 + \\frac{\\partial{p_{iq}}}{\\partial{cs_i}} \\cdot 1\n",
        "  & \\text{if } i=k\\ and\\ j \\neq q\\\\\n",
        "  0 & otherwise\n",
        "\\end{cases}\n",
        "\\\\\n",
        "\\frac{\\partial{L}}{\\partial{c_{ij}}}=\n",
        "\\sum_{k=1}^{n}\n",
        "  \\sum_{q=1}^{n_v}\n",
        "    \\frac{\\partial{L}}{\\partial{p_{kq}}} \\cdot\n",
        "    \\frac{\\partial{p_{kq}}}{\\partial{c_{ij}}} =\n",
        "\\sum_{q=1}^{n_v}\\frac{\\partial{L}}{\\partial{p_{iq}}} \\cdot (\n",
        "  cs_i^{inv} +\n",
        "  \\frac{\\partial{p_{iq}}}{\\partial{cs_i}} \\cdot\n",
        "  \\frac{\\partial{cs_i}}{\\partial{c_{ij}}}) = \\\\\n",
        "\\sum_{q=1}^{n_v}{\n",
        "  \\frac{\\partial{L}}{\\partial{p_{iq}}} \\cdot cs_i^{inv} +\n",
        "  \\frac{\\partial{L}}{\\partial{cs_i}} \\cdot\n",
        "  \\frac{\\partial{cs_i}}{\\partial{c_{ij}}}}=\\\\\n",
        "\\frac{\\partial{L}}{\\partial{p_{ij}}} \\cdot cs_i^{inv} +\n",
        "\\sum_{q=1}^{n_v}{\n",
        "  \\frac{\\partial{L}}{\\partial{cs_i}} \\cdot 1\n",
        "  }\n",
        "$$\n",
        "\n",
        "Sums are gradient distributors:\n",
        "\n",
        "$$\n",
        "f(\\mathbf{x}) = \\sum_{i=1}^nx_i\\\\\n",
        "[\n",
        "  \\frac{\\partial{f(\\mathbf{x})}}{\\partial{x_n}},\n",
        "  \\cdots ,\n",
        "  \\frac{\\partial{f(\\mathbf{x})}}{\\partial{x_n}}] = [1, \\cdots, 1]\n",
        "$$\n",
        "\n",
        "#### Computational graph\n",
        "```\n",
        "counts -- probs\n",
        " |\n",
        " --- counts_sum\n",
        "```"
      ],
      "metadata": {
        "id": "HfnZj4MTYzyy"
      }
    },
    {
      "cell_type": "code",
      "source": [
        "dcounts = dprobs * counts_sum_inv\n",
        "dcounts += dcounts_sum * torch.ones_like(counts)"
      ],
      "metadata": {
        "id": "LC2gPdmQga3G"
      },
      "execution_count": 16,
      "outputs": []
    },
    {
      "cell_type": "markdown",
      "source": [
        "### Derivative with respect to norm_logits\n",
        "$$\n",
        "nl_{ij} = \\text{normalized logits}\\\\\n",
        "c_{ij} = e^{nl_{ij}} \\\\\n",
        "\\frac{\\partial{c_{ij}}}{\\partial{nl_{ij}}} = e^{nl_{ij}} = c_{ij}\\\\\n",
        "\\frac{\\partial{L}}{\\partial{nl_{ij}}}=\n",
        "  \\frac{\\partial{L}}{\\partial{c_{ij}}} \\cdot\n",
        "  \\frac{\\partial{c_{ij}}}{\\partial{nl_{ij}}} =\n",
        "  \\frac{\\partial{L}}{\\partial{c_{ij}}} \\cdot\n",
        "  c_{ij}\n",
        "$$\n",
        "\n",
        "#### Computational graph\n",
        "```\n",
        "norm_logits -- counts\n",
        "```"
      ],
      "metadata": {
        "id": "0oj0Xq4ftkA8"
      }
    },
    {
      "cell_type": "code",
      "source": [
        "dnorm_logits = dcounts * counts"
      ],
      "metadata": {
        "id": "8cgUMn6RvG4r"
      },
      "execution_count": 17,
      "outputs": []
    },
    {
      "cell_type": "markdown",
      "source": [
        "### Derivative with respect to logit_maxes\n",
        "$$\n",
        "nl_{ij} = l_{ij} - l_i^{max}\\\\\n",
        "\\frac{\\partial{nl_{ij}}}{\\partial{l_i^{max}}}=-1\\\\\n",
        "\\frac{\\partial{L}}{\\partial{l_i^{max}}}=\n",
        "  \\sum_{k=1}^n\\sum_{j=1}^{n_v}\\frac{\\partial{L}}{\\partial{nl_{kj}}}\\frac{\\partial{nl_{kj}}}{\\partial{l_i^{max}}}=\n",
        "  \\sum_{j=1}^{n_v}\\frac{\\partial{L}}{\\partial{nl_{ij}}}\\frac{\\partial{nl_{ij}}}{\\partial{l_i^{max}}}=\n",
        "  -\\sum_{j=1}^{n_v}\\frac{\\partial{L}}{\\partial{nl_{ij}}}\n",
        "$$\n",
        "\n",
        "\n",
        "#### Computational graph\n",
        "```\n",
        "logit_maxes -- logits\n",
        "```\n",
        "\n"
      ],
      "metadata": {
        "id": "W4udoXfXwOw1"
      }
    },
    {
      "cell_type": "code",
      "source": [
        "dlogit_maxes = -dnorm_logits.sum(1, keepdim=True)"
      ],
      "metadata": {
        "id": "nR_3XJdFTlIu"
      },
      "execution_count": 18,
      "outputs": []
    },
    {
      "cell_type": "markdown",
      "source": [
        "### Derivative with respect to logits\n",
        "$$\n",
        "\\mathbf{nl}=  \\left[ {\\begin{array}{cccc}\n",
        "    nl_{11} & nl_{12} & \\cdots & nl_{1n_{v}}\\\\\n",
        "    nl_{21} & nl_{22} & \\cdots & nl_{2n_{v}}\\\\\\\\\n",
        "    \\vdots & \\vdots & \\ddots & \\vdots\\\\\n",
        "    nl_{n1} & nl_{n2} & \\cdots & nl_{nn_{v}}\\\\\\\\\n",
        "  \\end{array}} \\right]\\\\\n",
        "\\\\\n",
        "\\frac{\\partial{nl_{kq}(l_{kq}, l_k^{max})}}{\\partial{l_{ij}}} =\n",
        "  \\frac{\\partial{l_{kq}}}{\\partial{l_{ij}}} +\n",
        "  \\frac{\\partial{nl_{kq}}}{\\partial{l_k^{max}}}\n",
        "  \\frac{\\partial{l_k^{max}}}{\\partial{l_{ij}}}\n",
        "\\\\\n",
        "\\frac{\\partial{L(\\mathbf{nl})}}{\\partial{l_{ij}}}=\n",
        "  \\sum_{k=1}^n\\sum_{q=1}^{n_v}{\n",
        "    \\frac{\\partial{L}}{\\partial{nl_{kq}}}\\frac{\\partial{nl_{kq}}}{\\partial{l_{ij}}}=\n",
        "    \\sum_{q=1}^{n_v}\\frac{\\partial{L}}{\\partial{nl_{iq}}}\\frac{\\partial{nl_{iq}}}{\\partial{l_{ij}}}=\n",
        "    \\sum_{q=1}^{n_v}\\frac{\\partial{L}}{\\partial{nl_{iq}}}(\n",
        "      \\frac{\\partial{l_{iq}}}{\\partial{l_{ij}}} +\n",
        "      \\frac{\\partial{nl_{iq}}}{\\partial{l_i^{max}}} ⋅\n",
        "      \\frac{\\partial{l_i^{max}}}{\\partial{l_{ij}}}\n",
        "    )=\\\\\n",
        "    \\sum_{q=1}^{n_v}{\n",
        "      \\frac{\\partial{L}}{\\partial{nl_{iq}}} \\cdot\n",
        "      \\frac{\\partial{l_{iq}}}{\\partial{l_{ij}}} +\n",
        "      \\frac{\\partial{L}}{\\partial{l_i^{max}}} ⋅\n",
        "      \\frac{\\partial{l_i^{max}}}{\\partial{l_{ij}}}\n",
        "      }\n",
        "  }\\\\\n",
        "$$\n",
        "\n",
        "#### Max is a  gradient router\n",
        "$$\n",
        "\\frac{\\partial{l_i^{max}}}{\\partial{l_{ij}}}=\n",
        "\\begin{cases}\n",
        "  1  & \\text{if } l_{ij}=l_i^{max}\\\\\n",
        "  0  & \\text{otherwise}\n",
        "\\end{cases}\n",
        "$$\n",
        "\n",
        "\n",
        "#### Computational graph\n",
        "```\n",
        "logits -- normalized_logits\n",
        "  |                            \n",
        "  ------------- logit_maxes\n",
        "```\n",
        "\n"
      ],
      "metadata": {
        "id": "TRkHSBQyUT1N"
      }
    },
    {
      "cell_type": "code",
      "source": [
        "dlogits = dnorm_logits * torch.ones_like(logits)\n",
        "dlogits += dlogit_maxes * (logits == logit_maxes).float()"
      ],
      "metadata": {
        "id": "W7XWlZRef5gv"
      },
      "execution_count": 19,
      "outputs": []
    },
    {
      "cell_type": "markdown",
      "source": [
        "## Derivative with respect to h\n",
        "$$\n",
        "l_{kq} = \\sum_{r=1}^m h_{kr} \\cdot w_{rq} + b_k\\\\\n",
        "\\frac{\\partial{l_{kq}}}{\\partial{h_{ij}}}=\n",
        "\\begin{cases}\n",
        "  w_{jq} & \\text{if } k=i\\\\\n",
        "  0 & \\text{otherwise}\n",
        "\\end{cases}\\\\\n",
        "\\frac{\\partial{L}}{\\partial{h_{ij}}} =\n",
        "\\sum_{k=1}^n\\sum_{q=1}^{n_v}{\n",
        "  \\frac{\\partial{L}}{\\partial{l_{kq}}}\n",
        "  \\frac{\\partial{l_{kq}}}{\\partial{h_{ij}}}\n",
        "}=\n",
        "\\sum_{q=1}^{n_v}{\n",
        "  \\frac{\\partial{L}}{\\partial{l_{iq}}}\n",
        "  \\frac{\\partial{l_{iq}}}{\\partial{h_{ij}}}\n",
        "}=\n",
        "\\sum_{q=1}^{n_v}{\n",
        "  \\frac{\\partial{L}}{\\partial{l_{iq}}}\n",
        "  w_{jq}\n",
        "}\n",
        "$$\n",
        "\n",
        "#### Computational graph\n",
        "```\n",
        "h -- logits\n",
        "```"
      ],
      "metadata": {
        "id": "17-wb2zCje0a"
      }
    },
    {
      "cell_type": "code",
      "source": [
        "dh = dlogits @ W2.T"
      ],
      "metadata": {
        "id": "bLbReHQTm79o"
      },
      "execution_count": 20,
      "outputs": []
    },
    {
      "cell_type": "markdown",
      "source": [
        "## Derivative with respect to w2\n",
        "$$\n",
        "l_{kq} = \\sum_{r=1}^m h_{kr} \\cdot w_{rq} + b_k\\\\\n",
        "\\frac{\\partial{l_{kq}}}{\\partial{w_{ij}}}=\n",
        "\\begin{cases}\n",
        "  h_{ki} & \\text{if } q=j\\\\\n",
        "  0 & \\text{otherwise}\n",
        "\\end{cases}\\\\\n",
        "\\frac{\\partial{L}}{\\partial{w_{ij}}} =\n",
        "\\sum_{k=1}^n\\sum_{q=1}^{n_v}{\n",
        "  \\frac{\\partial{L}}{\\partial{l_{kq}}}\n",
        "  \\frac{\\partial{l_{kq}}}{\\partial{w_{ij}}}\n",
        "}=\n",
        "\\sum_{k=1}^{n}{\n",
        "  \\frac{\\partial{L}}{\\partial{l_{kj}}}\n",
        "  \\frac{\\partial{l_{kj}}}{\\partial{w_{ij}}}\n",
        "}=\n",
        "\\sum_{k=1}^{n}{\n",
        "  \\frac{\\partial{L}}{\\partial{l_{kj}}}\n",
        "  h_{ki}\n",
        "}\n",
        "$$\n",
        "\n",
        "#### Computational graph\n",
        "```\n",
        "W2 -- logits\n",
        "```"
      ],
      "metadata": {
        "id": "4YRehVT6nau3"
      }
    },
    {
      "cell_type": "code",
      "source": [
        "dW2 = h.T @ dlogits"
      ],
      "metadata": {
        "id": "x4iGnnC1oKJ6"
      },
      "execution_count": 21,
      "outputs": []
    },
    {
      "cell_type": "markdown",
      "source": [
        "## Derivative with respect to b2\n",
        "$$\n",
        "l_{kq} = \\sum_{r=1}^m h_{kr} \\cdot w_{rq} + b_q\\\\\n",
        "\\frac{\\partial{l_{kq}}}{\\partial{b_i}}=\n",
        "\\begin{cases}\n",
        "  1 & \\text{if } q=i\\\\\n",
        "  0 & \\text{otherwise}\n",
        "\\end{cases}\\\\\n",
        "\\frac{\\partial{L}}{\\partial{b_i}} =\n",
        "\\sum_{k=1}^n\\sum_{q=1}^{n_v}{\n",
        "  \\frac{\\partial{L}}{\\partial{l_{kq}}}\n",
        "  \\frac{\\partial{l_{kq}}}{\\partial{b_i}}\n",
        "}=\n",
        "\\sum_{k=1}^{n}{\n",
        "  \\frac{\\partial{L}}{\\partial{l_{ki}}}\n",
        "  \\frac{\\partial{l_{ki}}}{\\partial{b_i}}\n",
        "}=\n",
        "\\sum_{k=1}^{n}{\n",
        "  \\frac{\\partial{L}}{\\partial{l_{ki}}}\n",
        "}\n",
        "$$\n",
        "\n",
        "#### Computational graph\n",
        "```\n",
        "b2 -- logits\n",
        "```"
      ],
      "metadata": {
        "id": "xgu_oz1rpDy7"
      }
    },
    {
      "cell_type": "code",
      "source": [
        "db2 = dlogits.sum(0, keepdim=True)"
      ],
      "metadata": {
        "id": "SPoK5T7RpfG7"
      },
      "execution_count": 22,
      "outputs": []
    },
    {
      "cell_type": "markdown",
      "source": [
        "### Derivative with respect to hpreact\n",
        "\n",
        "$$\n",
        "\\frac{\\partial{h_{ij}}}{\\partial{hp_{ij}}}=\n",
        "  \\frac{\\partial{tanh(hp_{ij})}}{\\partial{hp_{ij}}}=\n",
        "  1 - h_{ij}^2\n",
        "$$\n",
        "\n",
        "\n",
        "#### Computational graph\n",
        "```\n",
        "hpreact -- h\n",
        "```"
      ],
      "metadata": {
        "id": "Ek1tOnUY9Wlf"
      }
    },
    {
      "cell_type": "code",
      "source": [
        "dhpreact = dh * (1.0 - h**2)"
      ],
      "metadata": {
        "id": "DIfUBeaU-WQw"
      },
      "execution_count": 23,
      "outputs": []
    },
    {
      "cell_type": "markdown",
      "source": [
        "###  Derivative with respect to bgain\n",
        "\n",
        "$$\n",
        "\\frac{\\partial{hp_{ij}}}{\\partial{bg_j}}=\n",
        "  \\frac{\\partial{(bnr_{ij} \\cdot bg_j + bb_j)}}{\\partial{bg_j}}=bnr_{ij}\\\\\n",
        "\\frac{\\partial{L}}{\\partial{bg_j}}=\\sum_{k=1}^{n}\\sum_{q=1}^{n_v}{\n",
        "  \\frac{\\partial{L}}{\\partial{hp_{kq}}}\\frac{\\partial{hp_{kq}}}{\\partial{bg_j}}=\n",
        "  \\sum_{k=1}^n\\frac{\\partial{L}}{\\partial{hp_{kj}}}\\frac{\\partial{hp_{kj}}}{\\partial{bg_j}}=\n",
        "  \\sum_{k=1}^n\\frac{\\partial{L}}{\\partial{hp_{kj}}}bnr_{kj}\n",
        "}\n",
        "$$\n",
        "\n",
        "#### Computational graph\n",
        "```\n",
        "bngain -- hpreact\n",
        "```"
      ],
      "metadata": {
        "id": "VjUyYDLm_EYk"
      }
    },
    {
      "cell_type": "code",
      "source": [
        "dbngain = (dhpreact * bnraw).sum(0, keepdim=True)"
      ],
      "metadata": {
        "id": "H22ho8HGTyO-"
      },
      "execution_count": 24,
      "outputs": []
    },
    {
      "cell_type": "markdown",
      "source": [
        "### Derivative of bnbias\n",
        "\n",
        "$$\n",
        "\\frac{\\partial{hp_{ij}}}{\\partial{bb_j}}=\n",
        "  \\frac{\\partial{(bnr_{ij} \\cdot bg_j + bb_j)}}{\\partial{bb_j}}=1\\\\\n",
        "\\frac{\\partial{L}}{\\partial{bg_j}}=\\sum_{k=1}^{n}\\sum_{q=1}^{n_v}{\n",
        "  \\frac{\\partial{L}}{\\partial{hp_{kq}}}\\frac{\\partial{hp_{kq}}}{\\partial{bb_j}}=\n",
        "  \\sum_{k=1}^n\\frac{\\partial{L}}{\\partial{hp_{kj}}}\\frac{\\partial{hp_{kj}}}{\\partial{bb_j}}=\n",
        "  \\sum_{k=1}^n\\frac{\\partial{L}}{\\partial{hp_{kj}}}\n",
        "}\n",
        "$$\n",
        "\n",
        "#### Computational graph\n",
        "```\n",
        "bnbias -- hpreact\n",
        "```"
      ],
      "metadata": {
        "id": "9zx1g5WTpnaZ"
      }
    },
    {
      "cell_type": "code",
      "source": [
        "dbnbias = dhpreact.sum(0, keepdim=True)"
      ],
      "metadata": {
        "id": "szf1_WX5pmj1"
      },
      "execution_count": 25,
      "outputs": []
    },
    {
      "cell_type": "markdown",
      "source": [
        "### Derivative with respect  to bnraw\n",
        "\n",
        "\n",
        "$$\n",
        "\\frac{\\partial{hp_{ij}}}{\\partial{bnr_{ij}}}=\n",
        "  \\frac{\\partial{(bnr_{ij} \\cdot bg_j + bb_j)}}{\\partial{bnr_{ij}}}=bg_j\\\\\n",
        "\\frac{\\partial{L}}{\\partial{bnr_{ij}}}=\\sum_{k=1}^{n}\\sum_{q=1}^{n_v}{\n",
        "  \\frac{\\partial{L}}{\\partial{hp_{kq}}}\\frac{\\partial{hp_{kq}}}{\\partial{bnr_{ij}}}=\n",
        "  \\frac{\\partial{L}}{\\partial{hp_{ij}}}\\frac{\\partial{hp_{ij}}}{\\partial{bnr_{ij}}}\n",
        "}\n",
        "$$\n",
        "\n",
        "#### Computational graph\n",
        "```\n",
        "bnraw -- hpreact\n",
        "```"
      ],
      "metadata": {
        "id": "02o5lXVqSjd7"
      }
    },
    {
      "cell_type": "code",
      "source": [
        "dbnraw = dhpreact * bngain"
      ],
      "metadata": {
        "id": "zfCWttnLTSgY"
      },
      "execution_count": 30,
      "outputs": []
    },
    {
      "cell_type": "markdown",
      "source": [
        "### Derivative with respect  to bnvar_inv\n",
        "\n",
        "\n",
        "$$\n",
        "\\frac{\\partial{bnr_{ij}}}{\\partial{bnv_j^{inv}}}=\n",
        "  \\frac{\\partial{(bnd_{ij} \\cdot bnv_j^{inv})}}{\\partial{bnv_j^{inv}}}=bnd_{ij}\\\\\n",
        "\\frac{\\partial{L}}{\\partial{bnv_j^{inv}}}=\\sum_{k=1}^{n}\\sum_{q=1}^{n_v}{\n",
        "  \\frac{\\partial{L}}{\\partial{bnr_{kq}}}\\frac{\\partial{bnr_{kq}}}{\\partial{bnv_j^{inv}}}=\n",
        "  \\sum_{k=0}^n{\n",
        "    \\frac{\\partial{L}}{\\partial{bnr_{kj}}}\\frac{\\partial{bnr_{kj}}}{\\partial{bnv_j^{inv}}}\n",
        "  }=\n",
        "  \\sum_{k=0}^n{\n",
        "    \\frac{\\partial{L}}{\\partial{bnr_{kj}}}bnd_{kj}\n",
        "  }\n",
        "}\n",
        "$$\n",
        "\n",
        "#### Computational graph\n",
        "```\n",
        "bnvar_inv -- bnraw\n",
        "```"
      ],
      "metadata": {
        "id": "U02wCBSNUfVa"
      }
    },
    {
      "cell_type": "code",
      "source": [
        "dbnvar_inv = (dbnraw * bndiff).sum(0, keepdim=True)"
      ],
      "metadata": {
        "id": "YRtVC9jXU6LV"
      },
      "execution_count": 35,
      "outputs": []
    },
    {
      "cell_type": "markdown",
      "source": [
        "### Derivative with respect  to bnvar\n",
        "\n",
        "\n",
        "$$\n",
        "\\frac{\\partial{bnv_j^{inv}}}{\\partial{bnv_j}}=\n",
        "  \\frac{\\partial{(bnv_j + 1e^{-5})^{-0.5}}}{\\partial{bnv_j}}=\n",
        "  -0.5 \\cdot (bnv_j + 1e^{-5})^{-1.5} \\cdot 1\\\\\n",
        "\\frac{\\partial{L}}{\\partial{bnv_j}}=\n",
        "\\sum_{k=1}^{n_v}\n",
        "{\n",
        "  \\frac{\\partial{L}}{\\partial{bnv_k^{inv}}}\\frac{\\partial{bnv_k^{inv}}}{\\partial{bnv_j}}\n",
        "}=\n",
        "\\frac{\\partial{L}}{\\partial{bnv_j^{inv}}}\\frac{\\partial{bnv_j^{inv}}}{\\partial{bnv_j}}\n",
        "$$\n",
        "\n",
        "#### Computational graph\n",
        "```\n",
        "bnvar -- bnvar_inv\n",
        "```"
      ],
      "metadata": {
        "id": "ydwbk4FzZL7S"
      }
    },
    {
      "cell_type": "code",
      "source": [
        "dbnvar = dbnvar_inv  * (-0.5) * (bnvar + 1e-5)**(-1.5)"
      ],
      "metadata": {
        "id": "ondesWiWZhmm"
      },
      "execution_count": 38,
      "outputs": []
    },
    {
      "cell_type": "markdown",
      "source": [
        "### Derivative w.r.t bndiff2\n",
        "\n",
        "$$\n",
        "\\frac{\\partial{bnv_j}}{\\partial{bnd^2_{ij}}}=\n",
        "  \\frac{\\partial{(\\frac{1}{n-1}\\sum_{k=0}^n{bnd^2_{kj}})}}{\\partial{bnd^2_{ij}}}=\n",
        "  \\frac{1}{n-1}\\\\\n",
        "\\frac{\\partial{L}}{\\partial{bnd_{ij}^2}}=\n",
        "\\sum_{k=1}^{n_v}\n",
        "{\n",
        "  \\frac{\\partial{L}}{\\partial{bnv_k}}\\frac{\\partial{bnv_k}}{\\partial{bnd_{ij}^2}}\n",
        "}=\n",
        "\\frac{\\partial{L}}{\\partial{bnv_j}}\\frac{\\partial{bnv_j}}{\\partial{bnd_{ij}^2}\n",
        "}=\n",
        "\\frac{\\partial{L}}{\\partial{bnv_j}} \\cdot \\frac{1}{n-1}\n",
        "$$\n",
        "\n",
        "#### Computational graph\n",
        "```\n",
        "bndiff2 -- bnvar\n",
        "```"
      ],
      "metadata": {
        "id": "jTvsb0Y3cAK6"
      }
    },
    {
      "cell_type": "code",
      "source": [
        "dbndiff2 = dbnvar  * 1./(n-1) * torch.ones_like(bndiff2)"
      ],
      "metadata": {
        "id": "89NjTrchcOA4"
      },
      "execution_count": 49,
      "outputs": []
    },
    {
      "cell_type": "markdown",
      "source": [
        "### Derivative w.r.t bndiff\n",
        "\n",
        "$$\n",
        "\\frac{\\partial{bnr_{ij}}}{\\partial{bnd_{ij}}}=\n",
        "  \\frac{\\partial{(bnd_{ij} \\cdot bnv_j^{inv})}}{\\partial{bnd_{ij}}}=bnv_j^{inv}\\\\\n",
        "\\frac{\\partial{bnd^2_{ij}}}{\\partial{bnd_{ij}}}=2bnd_{ij}\\\\\n",
        "$$\n",
        "\n",
        "#### Computational graph\n",
        "```\n",
        "bndiff -- bnraw\n",
        "  |\n",
        "  ------- bndiff2\n",
        "```"
      ],
      "metadata": {
        "id": "Jnqe8k4KhL3r"
      }
    },
    {
      "cell_type": "code",
      "source": [
        "dbndiff = dbnraw * bnvar_inv\n",
        "dbndiff += dbndiff2 * 2 * bndiff"
      ],
      "metadata": {
        "id": "HeNkmgEAe9y4"
      },
      "execution_count": 57,
      "outputs": []
    },
    {
      "cell_type": "markdown",
      "source": [
        "### Derivative w.r.t bnmeani\n",
        "\n",
        "$$\n",
        "\\frac{\\partial{bnd_{ij}}}{\\partial{bnm_j}}=\n",
        "  \\frac{\\partial{(hpb_{ij} - bnm_j)}}{\\partial{bnm_j}}=-1\\\\\n",
        "\\frac{\\partial{L}}{\\partial{bnm_j}}=\n",
        "\\sum_{k=1}^{n}\n",
        "{\n",
        "  \\frac{\\partial{L}}{\\partial{bnd_{kj}}}\\frac{\\partial{bnd_{kj}}}{\\partial{bnm_j}}\n",
        "}=\n",
        "-\\sum_{k=1}^{n}\n",
        "{\n",
        "  \\frac{\\partial{L}}{\\partial{bnd_{kj}}}\n",
        "}\n",
        "$$\n",
        "\n",
        "#### Computational graph\n",
        "```\n",
        "bnmeani -- bndiff\n",
        "```"
      ],
      "metadata": {
        "id": "PNEGTYwDi2lt"
      }
    },
    {
      "cell_type": "code",
      "source": [
        "hprebn.shape"
      ],
      "metadata": {
        "id": "a9JgRj-1jET0",
        "outputId": "32145ad9-04cb-4984-9e7a-8db860d3e3d4",
        "colab": {
          "base_uri": "https://localhost:8080/"
        }
      },
      "execution_count": 60,
      "outputs": [
        {
          "output_type": "execute_result",
          "data": {
            "text/plain": [
              "torch.Size([32, 64])"
            ]
          },
          "metadata": {},
          "execution_count": 60
        }
      ]
    },
    {
      "cell_type": "code",
      "execution_count": 58,
      "metadata": {
        "id": "mO-8aqxK8PPw",
        "outputId": "855cd862-2d5c-4f1b-abc6-cbd8b9f1a781",
        "colab": {
          "base_uri": "https://localhost:8080/"
        }
      },
      "outputs": [
        {
          "output_type": "stream",
          "name": "stdout",
          "text": [
            "logprobs        | exact: True  | approximate: True  | maxdiff: 0.0\n",
            "probs           | exact: True  | approximate: True  | maxdiff: 0.0\n",
            "counts_sum_inv  | exact: True  | approximate: True  | maxdiff: 0.0\n",
            "counts_sum      | exact: True  | approximate: True  | maxdiff: 0.0\n",
            "counts          | exact: True  | approximate: True  | maxdiff: 0.0\n",
            "norm_logits     | exact: True  | approximate: True  | maxdiff: 0.0\n",
            "logit_maxes     | exact: True  | approximate: True  | maxdiff: 0.0\n",
            "logits          | exact: True  | approximate: True  | maxdiff: 0.0\n",
            "h               | exact: True  | approximate: True  | maxdiff: 0.0\n",
            "W2              | exact: True  | approximate: True  | maxdiff: 0.0\n",
            "b2              | exact: True  | approximate: True  | maxdiff: 0.0\n",
            "hpreact         | exact: False | approximate: True  | maxdiff: 9.313225746154785e-10\n",
            "bngain          | exact: False | approximate: True  | maxdiff: 2.3283064365386963e-09\n",
            "bnbias          | exact: False | approximate: True  | maxdiff: 3.725290298461914e-09\n",
            "bnraw           | exact: False | approximate: True  | maxdiff: 9.313225746154785e-10\n",
            "bnvar_inv       | exact: False | approximate: True  | maxdiff: 3.725290298461914e-09\n",
            "bnvar           | exact: False | approximate: True  | maxdiff: 4.656612873077393e-10\n",
            "bndiff2         | exact: False | approximate: True  | maxdiff: 2.9103830456733704e-11\n",
            "bndiff          | exact: False | approximate: True  | maxdiff: 4.656612873077393e-10\n"
          ]
        }
      ],
      "source": [
        "# Exercise 1: backprop through the whole thing manually,\n",
        "# backpropagating through exactly all of the variables\n",
        "# as they are defined in the forward pass above, one by one\n",
        "\n",
        "# -----------------\n",
        "# YOUR CODE HERE :)\n",
        "# -----------------\n",
        "\n",
        "cmp('logprobs', dlogprobs, logprobs)\n",
        "cmp('probs', dprobs, probs)\n",
        "cmp('counts_sum_inv', dcounts_sum_inv, counts_sum_inv)\n",
        "cmp('counts_sum', dcounts_sum, counts_sum)\n",
        "cmp('counts', dcounts, counts)\n",
        "cmp('norm_logits', dnorm_logits, norm_logits)\n",
        "cmp('logit_maxes', dlogit_maxes, logit_maxes)\n",
        "cmp('logits', dlogits, logits)\n",
        "cmp('h', dh, h)\n",
        "cmp('W2', dW2, W2)\n",
        "cmp('b2', db2, b2)\n",
        "cmp('hpreact', dhpreact, hpreact)\n",
        "cmp('bngain', dbngain, bngain)\n",
        "cmp('bnbias', dbnbias, bnbias)\n",
        "cmp('bnraw', dbnraw, bnraw)\n",
        "cmp('bnvar_inv', dbnvar_inv, bnvar_inv)\n",
        "cmp('bnvar', dbnvar, bnvar)\n",
        "cmp('bndiff2', dbndiff2, bndiff2)\n",
        "cmp('bndiff', dbndiff, bndiff)\n",
        "cmp('bnmeani', dbnmeani, bnmeani)\n",
        "#cmp('hprebn', dhprebn, hprebn)\n",
        "#cmp('embcat', dembcat, embcat)\n",
        "#cmp('W1', dW1, W1)\n",
        "#cmp('b1', db1, b1)\n",
        "#cmp('emb', demb, emb)\n",
        "#cmp('C', dC, C)"
      ]
    },
    {
      "cell_type": "code",
      "source": [
        "logits.max(dim=1)[1]"
      ],
      "metadata": {
        "id": "8YXTh21BkEq9",
        "outputId": "4ce8f177-cccd-4800-9f82-f0a1916a590e",
        "colab": {
          "base_uri": "https://localhost:8080/"
        }
      },
      "execution_count": null,
      "outputs": [
        {
          "output_type": "execute_result",
          "data": {
            "text/plain": [
              "tensor([ 1,  2, 19, 15, 15, 25, 16,  3, 19,  8, 15,  3, 22, 18, 17,  5,  2,  7,\n",
              "        22, 19, 15, 19, 22, 22, 23,  5, 22, 20, 24,  8, 24,  4])"
            ]
          },
          "metadata": {},
          "execution_count": 75
        }
      ]
    },
    {
      "cell_type": "code",
      "source": [
        "demb.shape"
      ],
      "metadata": {
        "id": "RXnvgQiTj33k",
        "outputId": "ecaae581-e61b-480d-c641-24df3b0bd8b8",
        "colab": {
          "base_uri": "https://localhost:8080/"
        }
      },
      "execution_count": null,
      "outputs": [
        {
          "output_type": "execute_result",
          "data": {
            "text/plain": [
              "torch.Size([32, 3, 10])"
            ]
          },
          "metadata": {},
          "execution_count": 61
        }
      ]
    },
    {
      "cell_type": "code",
      "source": [
        "demb[Xb].shape"
      ],
      "metadata": {
        "id": "BwlsRTnuiLKr",
        "outputId": "5bbec961-792c-432f-ae44-f8086cb875af",
        "colab": {
          "base_uri": "https://localhost:8080/"
        }
      },
      "execution_count": null,
      "outputs": [
        {
          "output_type": "execute_result",
          "data": {
            "text/plain": [
              "torch.Size([32, 3, 3, 10])"
            ]
          },
          "metadata": {},
          "execution_count": 58
        }
      ]
    },
    {
      "cell_type": "code",
      "source": [
        "C.grad.data.shape"
      ],
      "metadata": {
        "id": "-l7pC45OYCVg",
        "outputId": "7f44d687-a115-4533-80f9-eec0168ba584",
        "colab": {
          "base_uri": "https://localhost:8080/"
        }
      },
      "execution_count": null,
      "outputs": [
        {
          "output_type": "execute_result",
          "data": {
            "text/plain": [
              "torch.Size([27, 10])"
            ]
          },
          "metadata": {},
          "execution_count": 60
        }
      ]
    },
    {
      "cell_type": "code",
      "source": [
        "(dbndiff2 * 2 * bndiff ).shape"
      ],
      "metadata": {
        "id": "62JDQLJyXTFl",
        "outputId": "95dc513a-8f92-4a94-ac46-f3139d4de3ce",
        "colab": {
          "base_uri": "https://localhost:8080/"
        }
      },
      "execution_count": null,
      "outputs": [
        {
          "output_type": "execute_result",
          "data": {
            "text/plain": [
              "torch.Size([32, 64])"
            ]
          },
          "metadata": {},
          "execution_count": 45
        }
      ]
    },
    {
      "cell_type": "code",
      "execution_count": null,
      "metadata": {
        "id": "ebLtYji_8PPw"
      },
      "outputs": [],
      "source": [
        "# Exercise 2: backprop through cross_entropy but all in one go\n",
        "# to complete this challenge look at the mathematical expression of the loss,\n",
        "# take the derivative, simplify the expression, and just write it out\n",
        "\n",
        "# forward pass\n",
        "\n",
        "# before:\n",
        "# logit_maxes = logits.max(1, keepdim=True).values\n",
        "# norm_logits = logits - logit_maxes # subtract max for numerical stability\n",
        "# counts = norm_logits.exp()\n",
        "# counts_sum = counts.sum(1, keepdims=True)\n",
        "# counts_sum_inv = counts_sum**-1 # if I use (1.0 / counts_sum) instead then I can't get backprop to be bit exact...\n",
        "# probs = counts * counts_sum_inv\n",
        "# logprobs = probs.log()\n",
        "# loss = -logprobs[range(n), Yb].mean()\n",
        "\n",
        "# now:\n",
        "loss_fast = F.cross_entropy(logits, Yb)\n",
        "print(loss_fast.item(), 'diff:', (loss_fast - loss).item())"
      ]
    },
    {
      "cell_type": "code",
      "execution_count": null,
      "metadata": {
        "id": "-gCXbB4C8PPx"
      },
      "outputs": [],
      "source": [
        "# backward pass\n",
        "\n",
        "# -----------------\n",
        "# YOUR CODE HERE :)\n",
        "dlogits = None # TODO. my solution is 3 lines\n",
        "# -----------------\n",
        "\n",
        "#cmp('logits', dlogits, logits) # I can only get approximate to be true, my maxdiff is 6e-9"
      ]
    },
    {
      "cell_type": "code",
      "execution_count": null,
      "metadata": {
        "id": "hd-MkhB68PPy"
      },
      "outputs": [],
      "source": [
        "# Exercise 3: backprop through batchnorm but all in one go\n",
        "# to complete this challenge look at the mathematical expression of the output of batchnorm,\n",
        "# take the derivative w.r.t. its input, simplify the expression, and just write it out\n",
        "# BatchNorm paper: https://arxiv.org/abs/1502.03167\n",
        "\n",
        "# forward pass\n",
        "\n",
        "# before:\n",
        "# bnmeani = 1/n*hprebn.sum(0, keepdim=True)\n",
        "# bndiff = hprebn - bnmeani\n",
        "# bndiff2 = bndiff**2\n",
        "# bnvar = 1/(n-1)*(bndiff2).sum(0, keepdim=True) # note: Bessel's correction (dividing by n-1, not n)\n",
        "# bnvar_inv = (bnvar + 1e-5)**-0.5\n",
        "# bnraw = bndiff * bnvar_inv\n",
        "# hpreact = bngain * bnraw + bnbias\n",
        "\n",
        "# now:\n",
        "hpreact_fast = bngain * (hprebn - hprebn.mean(0, keepdim=True)) / torch.sqrt(hprebn.var(0, keepdim=True, unbiased=True) + 1e-5) + bnbias\n",
        "print('max diff:', (hpreact_fast - hpreact).abs().max())"
      ]
    },
    {
      "cell_type": "code",
      "execution_count": null,
      "metadata": {
        "id": "POdeZSKT8PPy"
      },
      "outputs": [],
      "source": [
        "# backward pass\n",
        "\n",
        "# before we had:\n",
        "# dbnraw = bngain * dhpreact\n",
        "# dbndiff = bnvar_inv * dbnraw\n",
        "# dbnvar_inv = (bndiff * dbnraw).sum(0, keepdim=True)\n",
        "# dbnvar = (-0.5*(bnvar + 1e-5)**-1.5) * dbnvar_inv\n",
        "# dbndiff2 = (1.0/(n-1))*torch.ones_like(bndiff2) * dbnvar\n",
        "# dbndiff += (2*bndiff) * dbndiff2\n",
        "# dhprebn = dbndiff.clone()\n",
        "# dbnmeani = (-dbndiff).sum(0)\n",
        "# dhprebn += 1.0/n * (torch.ones_like(hprebn) * dbnmeani)\n",
        "\n",
        "# calculate dhprebn given dhpreact (i.e. backprop through the batchnorm)\n",
        "# (you'll also need to use some of the variables from the forward pass up above)\n",
        "\n",
        "# -----------------\n",
        "# YOUR CODE HERE :)\n",
        "dhprebn = None # TODO. my solution is 1 (long) line\n",
        "# -----------------\n",
        "\n",
        "cmp('hprebn', dhprebn, hprebn) # I can only get approximate to be true, my maxdiff is 9e-10"
      ]
    },
    {
      "cell_type": "code",
      "execution_count": null,
      "metadata": {
        "id": "wPy8DhqB8PPz"
      },
      "outputs": [],
      "source": [
        "# Exercise 4: putting it all together!\n",
        "# Train the MLP neural net with your own backward pass\n",
        "\n",
        "# init\n",
        "n_embd = 10 # the dimensionality of the character embedding vectors\n",
        "n_hidden = 200 # the number of neurons in the hidden layer of the MLP\n",
        "\n",
        "g = torch.Generator().manual_seed(2147483647) # for reproducibility\n",
        "C  = torch.randn((vocab_size, n_embd),            generator=g)\n",
        "# Layer 1\n",
        "W1 = torch.randn((n_embd * block_size, n_hidden), generator=g) * (5/3)/((n_embd * block_size)**0.5)\n",
        "b1 = torch.randn(n_hidden,                        generator=g) * 0.1\n",
        "# Layer 2\n",
        "W2 = torch.randn((n_hidden, vocab_size),          generator=g) * 0.1\n",
        "b2 = torch.randn(vocab_size,                      generator=g) * 0.1\n",
        "# BatchNorm parameters\n",
        "bngain = torch.randn((1, n_hidden))*0.1 + 1.0\n",
        "bnbias = torch.randn((1, n_hidden))*0.1\n",
        "\n",
        "parameters = [C, W1, b1, W2, b2, bngain, bnbias]\n",
        "print(sum(p.nelement() for p in parameters)) # number of parameters in total\n",
        "for p in parameters:\n",
        "  p.requires_grad = True\n",
        "\n",
        "# same optimization as last time\n",
        "max_steps = 200000\n",
        "batch_size = 32\n",
        "n = batch_size # convenience\n",
        "lossi = []\n",
        "\n",
        "# use this context manager for efficiency once your backward pass is written (TODO)\n",
        "#with torch.no_grad():\n",
        "\n",
        "# kick off optimization\n",
        "for i in range(max_steps):\n",
        "\n",
        "  # minibatch construct\n",
        "  ix = torch.randint(0, Xtr.shape[0], (batch_size,), generator=g)\n",
        "  Xb, Yb = Xtr[ix], Ytr[ix] # batch X,Y\n",
        "\n",
        "  # forward pass\n",
        "  emb = C[Xb] # embed the characters into vectors\n",
        "  embcat = emb.view(emb.shape[0], -1) # concatenate the vectors\n",
        "  # Linear layer\n",
        "  hprebn = embcat @ W1 + b1 # hidden layer pre-activation\n",
        "  # BatchNorm layer\n",
        "  # -------------------------------------------------------------\n",
        "  bnmean = hprebn.mean(0, keepdim=True)\n",
        "  bnvar = hprebn.var(0, keepdim=True, unbiased=True)\n",
        "  bnvar_inv = (bnvar + 1e-5)**-0.5\n",
        "  bnraw = (hprebn - bnmean) * bnvar_inv\n",
        "  hpreact = bngain * bnraw + bnbias\n",
        "  # -------------------------------------------------------------\n",
        "  # Non-linearity\n",
        "  h = torch.tanh(hpreact) # hidden layer\n",
        "  logits = h @ W2 + b2 # output layer\n",
        "  loss = F.cross_entropy(logits, Yb) # loss function\n",
        "\n",
        "  # backward pass\n",
        "  for p in parameters:\n",
        "    p.grad = None\n",
        "  loss.backward() # use this for correctness comparisons, delete it later!\n",
        "\n",
        "  # manual backprop! #swole_doge_meme\n",
        "  # -----------------\n",
        "  # YOUR CODE HERE :)\n",
        "  dC, dW1, db1, dW2, db2, dbngain, dbnbias = None, None, None, None, None, None, None\n",
        "  grads = [dC, dW1, db1, dW2, db2, dbngain, dbnbias]\n",
        "  # -----------------\n",
        "\n",
        "  # update\n",
        "  lr = 0.1 if i < 100000 else 0.01 # step learning rate decay\n",
        "  for p, grad in zip(parameters, grads):\n",
        "    p.data += -lr * p.grad # old way of cheems doge (using PyTorch grad from .backward())\n",
        "    #p.data += -lr * grad # new way of swole doge TODO: enable\n",
        "\n",
        "  # track stats\n",
        "  if i % 10000 == 0: # print every once in a while\n",
        "    print(f'{i:7d}/{max_steps:7d}: {loss.item():.4f}')\n",
        "  lossi.append(loss.log10().item())\n",
        "\n",
        "  if i >= 100: # TODO: delete early breaking when you're ready to train the full net\n",
        "    break"
      ]
    },
    {
      "cell_type": "code",
      "execution_count": null,
      "metadata": {
        "id": "ZEpI0hMW8PPz"
      },
      "outputs": [],
      "source": [
        "# useful for checking your gradients\n",
        "# for p,g in zip(parameters, grads):\n",
        "#   cmp(str(tuple(p.shape)), g, p)"
      ]
    },
    {
      "cell_type": "code",
      "execution_count": null,
      "metadata": {
        "id": "KImLWNoh8PP0"
      },
      "outputs": [],
      "source": [
        "# calibrate the batch norm at the end of training\n",
        "\n",
        "with torch.no_grad():\n",
        "  # pass the training set through\n",
        "  emb = C[Xtr]\n",
        "  embcat = emb.view(emb.shape[0], -1)\n",
        "  hpreact = embcat @ W1 + b1\n",
        "  # measure the mean/std over the entire training set\n",
        "  bnmean = hpreact.mean(0, keepdim=True)\n",
        "  bnvar = hpreact.var(0, keepdim=True, unbiased=True)\n"
      ]
    },
    {
      "cell_type": "code",
      "execution_count": null,
      "metadata": {
        "id": "6aFnP_Zc8PP0"
      },
      "outputs": [],
      "source": [
        "# evaluate train and val loss\n",
        "\n",
        "@torch.no_grad() # this decorator disables gradient tracking\n",
        "def split_loss(split):\n",
        "  x,y = {\n",
        "    'train': (Xtr, Ytr),\n",
        "    'val': (Xdev, Ydev),\n",
        "    'test': (Xte, Yte),\n",
        "  }[split]\n",
        "  emb = C[x] # (N, block_size, n_embd)\n",
        "  embcat = emb.view(emb.shape[0], -1) # concat into (N, block_size * n_embd)\n",
        "  hpreact = embcat @ W1 + b1\n",
        "  hpreact = bngain * (hpreact - bnmean) * (bnvar + 1e-5)**-0.5 + bnbias\n",
        "  h = torch.tanh(hpreact) # (N, n_hidden)\n",
        "  logits = h @ W2 + b2 # (N, vocab_size)\n",
        "  loss = F.cross_entropy(logits, y)\n",
        "  print(split, loss.item())\n",
        "\n",
        "split_loss('train')\n",
        "split_loss('val')"
      ]
    },
    {
      "cell_type": "code",
      "execution_count": null,
      "metadata": {
        "id": "esWqmhyj8PP1"
      },
      "outputs": [],
      "source": [
        "# I achieved:\n",
        "# train 2.0718822479248047\n",
        "# val 2.1162495613098145"
      ]
    },
    {
      "cell_type": "code",
      "execution_count": null,
      "metadata": {
        "id": "xHeQNv3s8PP1"
      },
      "outputs": [],
      "source": [
        "# sample from the model\n",
        "g = torch.Generator().manual_seed(2147483647 + 10)\n",
        "\n",
        "for _ in range(20):\n",
        "\n",
        "    out = []\n",
        "    context = [0] * block_size # initialize with all ...\n",
        "    while True:\n",
        "      # forward pass\n",
        "      emb = C[torch.tensor([context])] # (1,block_size,d)\n",
        "      embcat = emb.view(emb.shape[0], -1) # concat into (N, block_size * n_embd)\n",
        "      hpreact = embcat @ W1 + b1\n",
        "      hpreact = bngain * (hpreact - bnmean) * (bnvar + 1e-5)**-0.5 + bnbias\n",
        "      h = torch.tanh(hpreact) # (N, n_hidden)\n",
        "      logits = h @ W2 + b2 # (N, vocab_size)\n",
        "      # sample\n",
        "      probs = F.softmax(logits, dim=1)\n",
        "      ix = torch.multinomial(probs, num_samples=1, generator=g).item()\n",
        "      context = context[1:] + [ix]\n",
        "      out.append(ix)\n",
        "      if ix == 0:\n",
        "        break\n",
        "\n",
        "    print(''.join(itos[i] for i in out))"
      ]
    }
  ],
  "metadata": {
    "kernelspec": {
      "display_name": "Python 3",
      "language": "python",
      "name": "python3"
    },
    "language_info": {
      "codemirror_mode": {
        "name": "ipython",
        "version": 3
      },
      "file_extension": ".py",
      "mimetype": "text/x-python",
      "name": "python",
      "nbconvert_exporter": "python",
      "pygments_lexer": "ipython3",
      "version": "3.8.5"
    },
    "colab": {
      "provenance": [],
      "include_colab_link": true
    }
  },
  "nbformat": 4,
  "nbformat_minor": 0
}