{
 "cells": [
  {
   "cell_type": "code",
   "execution_count": 1,
   "id": "b9c8260f-bda9-4fae-bf8b-8260dde05508",
   "metadata": {},
   "outputs": [],
   "source": [
    "import string\n",
    "import torch\n",
    "import matplotlib.pyplot as plt"
   ]
  },
  {
   "cell_type": "code",
   "execution_count": 2,
   "id": "8b7211f8-49ec-4e3f-8213-fd090a42b578",
   "metadata": {},
   "outputs": [],
   "source": [
    "SPECIAL_CHAR = \"<\""
   ]
  },
  {
   "cell_type": "code",
   "execution_count": 3,
   "id": "1a8b6d92-06b4-4d53-851d-02f615068b6b",
   "metadata": {},
   "outputs": [],
   "source": [
    "with open(\"data/names_usa.txt\", \"r\") as f:\n",
    "    names = f.read().split(\"\\n\")"
   ]
  },
  {
   "cell_type": "code",
   "execution_count": 4,
   "id": "f9dcc707-43b6-4e9f-b821-e97a33ec5e26",
   "metadata": {},
   "outputs": [],
   "source": [
    "name_to_int = {n: k for k, n in enumerate(names)}"
   ]
  },
  {
   "cell_type": "code",
   "execution_count": 5,
   "id": "9cf34ddc-13cd-4b6e-b8bd-dfdf770981bd",
   "metadata": {},
   "outputs": [],
   "source": [
    "chars = [SPECIAL_CHAR] + list(string.ascii_lowercase)\n",
    "chars_to_int = {c: k for k, c in enumerate(chars)}"
   ]
  },
  {
   "cell_type": "markdown",
   "id": "fece04a8-bfb6-4ffa-ab35-9bfb5f51be6e",
   "metadata": {},
   "source": [
    "## Bigram count"
   ]
  },
  {
   "cell_type": "code",
   "execution_count": 6,
   "id": "e98e679e-45b4-43e5-a345-b72c0d2be7d6",
   "metadata": {},
   "outputs": [],
   "source": [
    "bigram_cnt = torch.zeros((len(chars), len(chars)))\n",
    "for n in map(lambda x: SPECIAL_CHAR + x + SPECIAL_CHAR, names):\n",
    "    for s, e in zip(n, n[1:]):\n",
    "        i, j = chars_to_int[s], chars_to_int[e]\n",
    "        bigram_cnt[i, j] += 1"
   ]
  },
  {
   "cell_type": "code",
   "execution_count": 7,
   "id": "a7ed835e-3890-4021-8913-a0b60ba806db",
   "metadata": {},
   "outputs": [
    {
     "data": {
      "image/png": "[encoded data removed]",
      "text/plain": [
       "<Figure size 800x800 with 1 Axes>"
      ]
     },
     "metadata": {},
     "output_type": "display_data"
    }
   ],
   "source": [
    "fig, ax = plt.subplots(figsize=(8, 8))\n",
    "ax.imshow(bigram_cnt)\n",
    "ax.set_xticks(range(len(chars)))\n",
    "ax.set_yticks(range(len(chars)))\n",
    "ax.set_xticklabels(chars)\n",
    "ax.set_yticklabels(chars)\n",
    "plt.show()"
   ]
  },
  {
   "cell_type": "code",
   "execution_count": 8,
   "id": "8e22bfa2-bd9e-4797-86e1-7d1f594d2e0a",
   "metadata": {},
   "outputs": [],
   "source": [
    "bigram_norm = (bigram_cnt.T / torch.sum(bigram_cnt, dim=1)).T"
   ]
  },
  {
   "cell_type": "markdown",
   "id": "6fb19797-ffea-44d6-8899-bc0617241d68",
   "metadata": {},
   "source": [
    "## Bigram Generation"
   ]
  },
  {
   "cell_type": "code",
   "execution_count": 9,
   "id": "3de73d8e-04d3-47f0-a1f0-2ae27c36bd9a",
   "metadata": {},
   "outputs": [
    {
     "name": "stdout",
     "output_type": "stream",
     "text": [
      "['ya', 'syahavilin', 'dleekahmangonya', 'tryahe', 'chen', 'ena', 'da', 'amiiae', 'a', 'keles']\n"
     ]
    }
   ],
   "source": [
    "n_samples = 10\n",
    "generator = torch.Generator().manual_seed(42)\n",
    "output = []\n",
    "for _ in range(n_samples):\n",
    "    idx = 0\n",
    "    new_name = chars[idx]\n",
    "    while (idx != 0) | (len(new_name) == 1):\n",
    "        idx = torch.multinomial(bigram_cnt[idx, :], num_samples=1, generator=generator).item()\n",
    "        new_name += chars[idx]\n",
    "    output.append(new_name[1:-1])\n",
    "print(output)"
   ]
  },
  {
   "cell_type": "markdown",
   "id": "871a1721-ae24-4fd8-9bc5-58ae31a18857",
   "metadata": {},
   "source": [
    "## Uniform Random Generation"
   ]
  },
  {
   "cell_type": "code",
   "execution_count": 10,
   "id": "4eb1ffbd-47f8-4108-b31c-7c896b81d2e4",
   "metadata": {},
   "outputs": [
    {
     "name": "stdout",
     "output_type": "stream",
     "text": [
      "['ebwk', 'qmpitpyydqiorqwc', 'axpkvgjsaxjtvbrkrgjltqtbcuyvtnsyxnlloeusniwxlcdjtwdqsvneollaagdyrywsmpixnuqetyc', 'mpgqyrbvkfwbbmhjfpfhyhbgoi', 'iulitjskxhtboacocya', 'kkirdsugtjsthiiuvq', 'ulbbbihcmqtilxejichsmxscpetnyfgntpelpeij', 'tiybwuodidcjbgjmsih', 'kqjcawfneyivlhmqkhewpgwegtvvuytpdnfwqrgop', 'ikijdylxebd']\n"
     ]
    }
   ],
   "source": [
    "n_samples = 10\n",
    "generator = torch.Generator().manual_seed(42)\n",
    "output = []\n",
    "for _ in range(n_samples):\n",
    "    idx = 0\n",
    "    new_name = chars[idx]\n",
    "    while (idx != 0) | (len(new_name) == 1):\n",
    "        idx = torch.randint(high=len(chars)-1, size=(1, 1)).item()\n",
    "        new_name += chars[idx]\n",
    "    output.append(new_name[1:-1])\n",
    "print(output)"
   ]
  },
  {
   "cell_type": "markdown",
   "id": "38df8806-f064-4b4f-8c84-ad72328ae782",
   "metadata": {},
   "source": [
    "## Optimization"
   ]
  },
  {
   "cell_type": "code",
   "execution_count": 11,
   "id": "b2c60160-4ce2-41f3-b66c-da9f46d702ed",
   "metadata": {},
   "outputs": [],
   "source": [
    "X_tr = torch.tensor([chars_to_int[c] for c in \"<\" + \"<\".join(names)])\n",
    "y_tr = X_tr[1:]\n",
    "X_tr = torch.nn.functional.one_hot(X_tr).float()[:-1]"
   ]
  },
  {
   "cell_type": "code",
   "execution_count": 49,
   "id": "9e46b3ac-a532-468d-86c3-5b9fdab345b3",
   "metadata": {},
   "outputs": [
    {
     "name": "stdout",
     "output_type": "stream",
     "text": [
      "Epoch 0 - log likelihood -3.341891050338745\n",
      "Epoch 1 - log likelihood -3.0786921977996826\n",
      "Epoch 2 - log likelihood -2.92421817779541\n",
      "Epoch 3 - log likelihood -2.8324737548828125\n",
      "Epoch 4 - log likelihood -2.7692160606384277\n",
      "Epoch 5 - log likelihood -2.7232515811920166\n",
      "Epoch 6 - log likelihood -2.688746690750122\n",
      "Epoch 7 - log likelihood -2.6620287895202637\n",
      "Epoch 8 - log likelihood -2.6407580375671387\n",
      "Epoch 9 - log likelihood -2.6234238147735596\n",
      "Epoch 10 - log likelihood -2.609023094177246\n",
      "Epoch 11 - log likelihood -2.596865653991699\n",
      "Epoch 12 - log likelihood -2.586463689804077\n",
      "Epoch 13 - log likelihood -2.5774600505828857\n",
      "Epoch 14 - log likelihood -2.569589853286743\n",
      "Epoch 15 - log likelihood -2.5626492500305176\n",
      "Epoch 16 - log likelihood -2.5564820766448975\n",
      "Epoch 17 - log likelihood -2.550966262817383\n",
      "Epoch 18 - log likelihood -2.5460026264190674\n",
      "Epoch 19 - log likelihood -2.5415120124816895\n",
      "Epoch 20 - log likelihood -2.5374293327331543\n",
      "Epoch 21 - log likelihood -2.533701181411743\n",
      "Epoch 22 - log likelihood -2.5302834510803223\n",
      "Epoch 23 - log likelihood -2.527137517929077\n",
      "Epoch 24 - log likelihood -2.524232864379883\n",
      "Epoch 25 - log likelihood -2.521542549133301\n",
      "Epoch 26 - log likelihood -2.519043207168579\n",
      "Epoch 27 - log likelihood -2.5167148113250732\n",
      "Epoch 28 - log likelihood -2.514540910720825\n",
      "Epoch 29 - log likelihood -2.5125062465667725\n",
      "Epoch 30 - log likelihood -2.5105979442596436\n",
      "Epoch 31 - log likelihood -2.5088050365448\n",
      "Epoch 32 - log likelihood -2.5071165561676025\n",
      "Epoch 33 - log likelihood -2.505524158477783\n",
      "Epoch 34 - log likelihood -2.5040202140808105\n",
      "Epoch 35 - log likelihood -2.5025970935821533\n",
      "Epoch 36 - log likelihood -2.501248836517334\n",
      "Epoch 37 - log likelihood -2.499969959259033\n",
      "Epoch 38 - log likelihood -2.4987549781799316\n",
      "Epoch 39 - log likelihood -2.4975991249084473\n",
      "Epoch 40 - log likelihood -2.4964988231658936\n",
      "Epoch 41 - log likelihood -2.495450019836426\n",
      "Epoch 42 - log likelihood -2.4944491386413574\n",
      "Epoch 43 - log likelihood -2.49349308013916\n",
      "Epoch 44 - log likelihood -2.4925789833068848\n",
      "Epoch 45 - log likelihood -2.491704225540161\n",
      "Epoch 46 - log likelihood -2.490866184234619\n",
      "Epoch 47 - log likelihood -2.490062713623047\n",
      "Epoch 48 - log likelihood -2.4892921447753906\n",
      "Epoch 49 - log likelihood -2.4885523319244385\n",
      "Epoch 50 - log likelihood -2.487840414047241\n",
      "Epoch 51 - log likelihood -2.487157106399536\n",
      "Epoch 52 - log likelihood -2.4864983558654785\n",
      "Epoch 53 - log likelihood -2.4858648777008057\n",
      "Epoch 54 - log likelihood -2.4852538108825684\n",
      "Epoch 55 - log likelihood -2.4846651554107666\n",
      "Epoch 56 - log likelihood -2.4840967655181885\n",
      "Epoch 57 - log likelihood -2.483548402786255\n",
      "Epoch 58 - log likelihood -2.483018398284912\n",
      "Epoch 59 - log likelihood -2.482506513595581\n",
      "Epoch 60 - log likelihood -2.482010841369629\n",
      "Epoch 61 - log likelihood -2.481531858444214\n",
      "Epoch 62 - log likelihood -2.4810678958892822\n",
      "Epoch 63 - log likelihood -2.480618715286255\n",
      "Epoch 64 - log likelihood -2.4801831245422363\n",
      "Epoch 65 - log likelihood -2.4797611236572266\n",
      "Epoch 66 - log likelihood -2.479351758956909\n",
      "Epoch 67 - log likelihood -2.478954792022705\n",
      "Epoch 68 - log likelihood -2.4785690307617188\n",
      "Epoch 69 - log likelihood -2.47819447517395\n",
      "Epoch 70 - log likelihood -2.4778308868408203\n",
      "Epoch 71 - log likelihood -2.4774773120880127\n",
      "Epoch 72 - log likelihood -2.4771335124969482\n",
      "Epoch 73 - log likelihood -2.476799249649048\n",
      "Epoch 74 - log likelihood -2.476473808288574\n",
      "Epoch 75 - log likelihood -2.4761574268341064\n",
      "Epoch 76 - log likelihood -2.475849151611328\n",
      "Epoch 77 - log likelihood -2.4755489826202393\n",
      "Epoch 78 - log likelihood -2.4752564430236816\n",
      "Epoch 79 - log likelihood -2.474971294403076\n",
      "Epoch 80 - log likelihood -2.4746930599212646\n",
      "Epoch 81 - log likelihood -2.4744224548339844\n",
      "Epoch 82 - log likelihood -2.4741575717926025\n",
      "Epoch 83 - log likelihood -2.4738998413085938\n",
      "Epoch 84 - log likelihood -2.4736478328704834\n",
      "Epoch 85 - log likelihood -2.4734017848968506\n",
      "Epoch 86 - log likelihood -2.4731616973876953\n",
      "Epoch 87 - log likelihood -2.4729273319244385\n",
      "Epoch 88 - log likelihood -2.4726977348327637\n",
      "Epoch 89 - log likelihood -2.472473621368408\n",
      "Epoch 90 - log likelihood -2.472254991531372\n",
      "Epoch 91 - log likelihood -2.472040891647339\n",
      "Epoch 92 - log likelihood -2.4718313217163086\n",
      "Epoch 93 - log likelihood -2.4716262817382812\n",
      "Epoch 94 - log likelihood -2.471426010131836\n",
      "Epoch 95 - log likelihood -2.4712295532226562\n",
      "Epoch 96 - log likelihood -2.4710376262664795\n",
      "Epoch 97 - log likelihood -2.4708497524261475\n",
      "Epoch 98 - log likelihood -2.470665216445923\n",
      "Epoch 99 - log likelihood -2.470485210418701\n",
      "Epoch 100 - log likelihood -2.470308542251587\n",
      "Epoch 101 - log likelihood -2.47013521194458\n",
      "Epoch 102 - log likelihood -2.469965696334839\n",
      "Epoch 103 - log likelihood -2.469799280166626\n",
      "Epoch 104 - log likelihood -2.4696362018585205\n",
      "Epoch 105 - log likelihood -2.4694759845733643\n",
      "Epoch 106 - log likelihood -2.4693193435668945\n",
      "Epoch 107 - log likelihood -2.469165325164795\n",
      "Epoch 108 - log likelihood -2.469014883041382\n",
      "Epoch 109 - log likelihood -2.4688663482666016\n",
      "Epoch 110 - log likelihood -2.4687211513519287\n",
      "Epoch 111 - log likelihood -2.468578338623047\n",
      "Epoch 112 - log likelihood -2.468438148498535\n",
      "Epoch 113 - log likelihood -2.4683005809783936\n",
      "Epoch 114 - log likelihood -2.468165636062622\n",
      "Epoch 115 - log likelihood -2.4680328369140625\n",
      "Epoch 116 - log likelihood -2.467902421951294\n",
      "Epoch 117 - log likelihood -2.4677746295928955\n",
      "Epoch 118 - log likelihood -2.4676482677459717\n",
      "Epoch 119 - log likelihood -2.467525005340576\n",
      "Epoch 120 - log likelihood -2.4674034118652344\n",
      "Epoch 121 - log likelihood -2.4672839641571045\n",
      "Epoch 122 - log likelihood -2.4671664237976074\n",
      "Epoch 123 - log likelihood -2.4670510292053223\n",
      "Epoch 124 - log likelihood -2.466937303543091\n",
      "Epoch 125 - log likelihood -2.466825485229492\n",
      "Epoch 126 - log likelihood -2.4667158126831055\n",
      "Epoch 127 - log likelihood -2.4666075706481934\n",
      "Epoch 128 - log likelihood -2.466501235961914\n",
      "Epoch 129 - log likelihood -2.4663963317871094\n",
      "Epoch 130 - log likelihood -2.4662933349609375\n",
      "Epoch 131 - log likelihood -2.4661922454833984\n",
      "Epoch 132 - log likelihood -2.466092348098755\n",
      "Epoch 133 - log likelihood -2.465994119644165\n",
      "Epoch 134 - log likelihood -2.46589732170105\n",
      "Epoch 135 - log likelihood -2.4658021926879883\n",
      "Epoch 136 - log likelihood -2.4657082557678223\n",
      "Epoch 137 - log likelihood -2.4656155109405518\n",
      "Epoch 138 - log likelihood -2.465524673461914\n",
      "Epoch 139 - log likelihood -2.465435266494751\n",
      "Epoch 140 - log likelihood -2.465346574783325\n",
      "Epoch 141 - log likelihood -2.4652597904205322\n",
      "Epoch 142 - log likelihood -2.4651737213134766\n",
      "Epoch 143 - log likelihood -2.4650890827178955\n",
      "Epoch 144 - log likelihood -2.465005874633789\n",
      "Epoch 145 - log likelihood -2.464923620223999\n",
      "Epoch 146 - log likelihood -2.4648427963256836\n",
      "Epoch 147 - log likelihood -2.4647631645202637\n",
      "Epoch 148 - log likelihood -2.464684247970581\n",
      "Epoch 149 - log likelihood -2.464606285095215\n",
      "Epoch 150 - log likelihood -2.4645297527313232\n",
      "Epoch 151 - log likelihood -2.4644546508789062\n",
      "Epoch 152 - log likelihood -2.4643797874450684\n",
      "Epoch 153 - log likelihood -2.464306354522705\n",
      "Epoch 154 - log likelihood -2.464233875274658\n",
      "Epoch 155 - log likelihood -2.464162588119507\n",
      "Epoch 156 - log likelihood -2.4640920162200928\n",
      "Epoch 157 - log likelihood -2.464022397994995\n",
      "Epoch 158 - log likelihood -2.4639532566070557\n",
      "Epoch 159 - log likelihood -2.463886022567749\n",
      "Epoch 160 - log likelihood -2.4638185501098633\n",
      "Epoch 161 - log likelihood -2.463752508163452\n",
      "Epoch 162 - log likelihood -2.4636871814727783\n",
      "Epoch 163 - log likelihood -2.463622808456421\n",
      "Epoch 164 - log likelihood -2.46355938911438\n",
      "Epoch 165 - log likelihood -2.463496446609497\n",
      "Epoch 166 - log likelihood -2.4634344577789307\n",
      "Epoch 167 - log likelihood -2.4633734226226807\n",
      "Epoch 168 - log likelihood -2.463312864303589\n",
      "Epoch 169 - log likelihood -2.4632530212402344\n",
      "Epoch 170 - log likelihood -2.463193893432617\n",
      "Epoch 171 - log likelihood -2.4631354808807373\n",
      "Epoch 172 - log likelihood -2.4630777835845947\n",
      "Epoch 173 - log likelihood -2.4630212783813477\n",
      "Epoch 174 - log likelihood -2.4629647731781006\n",
      "Epoch 175 - log likelihood -2.46290922164917\n",
      "Epoch 176 - log likelihood -2.4628541469573975\n",
      "Epoch 177 - log likelihood -2.4628000259399414\n",
      "Epoch 178 - log likelihood -2.4627463817596436\n",
      "Epoch 179 - log likelihood -2.462693452835083\n",
      "Epoch 180 - log likelihood -2.4626407623291016\n",
      "Epoch 181 - log likelihood -2.4625890254974365\n",
      "Epoch 182 - log likelihood -2.462538003921509\n",
      "Epoch 183 - log likelihood -2.46248722076416\n",
      "Epoch 184 - log likelihood -2.462437152862549\n",
      "Epoch 185 - log likelihood -2.4623873233795166\n",
      "Epoch 186 - log likelihood -2.46233868598938\n",
      "Epoch 187 - log likelihood -2.462290048599243\n",
      "Epoch 188 - log likelihood -2.4622421264648438\n",
      "Epoch 189 - log likelihood -2.4621949195861816\n",
      "Epoch 190 - log likelihood -2.4621479511260986\n",
      "Epoch 191 - log likelihood -2.462101459503174\n",
      "Epoch 192 - log likelihood -2.4620559215545654\n",
      "Epoch 193 - log likelihood -2.462010383605957\n",
      "Epoch 194 - log likelihood -2.461965560913086\n",
      "Epoch 195 - log likelihood -2.461921215057373\n",
      "Epoch 196 - log likelihood -2.4618773460388184\n",
      "Epoch 197 - log likelihood -2.4618337154388428\n",
      "Epoch 198 - log likelihood -2.4617908000946045\n",
      "Epoch 199 - log likelihood -2.4617481231689453\n"
     ]
    }
   ],
   "source": [
    "W = torch.rand((len(chars), len(chars)), requires_grad=True, generator=generator)\n",
    "\n",
    "lr = 50\n",
    "epochs = 200\n",
    "for e in range(epochs):\n",
    "    log_counts = X_tr @ W\n",
    "    counts = log_counts.exp()\n",
    "    probs = counts / counts.sum(dim=1, keepdims=True)\n",
    "    neg_log_likelihood = -probs[torch.arange(y_tr.shape[0]), y_tr].log().mean()\n",
    "    \n",
    "    W.grad = None\n",
    "    neg_log_likelihood.backward()\n",
    "    with torch.no_grad():\n",
    "        W += - W.grad * lr\n",
    "        W.requires_grad = True\n",
    "    print(f\"Epoch {e} - log likelihood {-neg_log_likelihood}\")"
   ]
  },
  {
   "cell_type": "code",
   "execution_count": 50,
   "id": "d430c494-4041-4aa8-b227-ce5497d682bf",
   "metadata": {},
   "outputs": [],
   "source": [
    "P = (W.exp() / W.exp().sum(dim=1, keepdims=True)).detach()"
   ]
  },
  {
   "cell_type": "code",
   "execution_count": 51,
   "id": "6cee0b4d-854f-4b04-bf44-ebddeabf65a2",
   "metadata": {},
   "outputs": [
    {
     "data": {
      "image/png": "[encoded data removed]",
      "text/plain": [
       "<Figure size 1600x800 with 2 Axes>"
      ]
     },
     "metadata": {},
     "output_type": "display_data"
    }
   ],
   "source": [
    "fig, axes = plt.subplots(1, 2, figsize=(16, 8))\n",
    "ax = axes[0]\n",
    "ax.imshow(bigram_norm)\n",
    "ax.set_xticks(range(len(chars)))\n",
    "ax.set_yticks(range(len(chars)))\n",
    "ax.set_xticklabels(chars)\n",
    "ax.set_yticklabels(chars)\n",
    "\n",
    "ax = axes[1]\n",
    "ax.imshow(P)\n",
    "ax.set_xticks(range(len(chars)))\n",
    "ax.set_yticks(range(len(chars)))\n",
    "ax.set_xticklabels(chars)\n",
    "ax.set_yticklabels(chars)\n",
    "plt.show()"
   ]
  },
  {
   "cell_type": "code",
   "execution_count": 52,
   "id": "2d39f9fb-0f62-46d1-8b8f-3f94bbc1381c",
   "metadata": {},
   "outputs": [
    {
     "name": "stdout",
     "output_type": "stream",
     "text": [
      "['ya', 'syahavilin', 'dleekahmangonya', 'tryahe', 'chen', 'ena', 'da', 'amiiae', 'a', 'keles']\n"
     ]
    }
   ],
   "source": [
    "n_samples = 10\n",
    "generator = torch.Generator().manual_seed(42)\n",
    "output = []\n",
    "for _ in range(n_samples):\n",
    "    idx = 0\n",
    "    new_name = chars[idx]\n",
    "    while (idx != 0) | (len(new_name) == 1):\n",
    "        idx = torch.multinomial(P[idx, :], num_samples=1, generator=generator).item()\n",
    "        new_name += chars[idx]\n",
    "    output.append(new_name[1:-1])\n",
    "print(output)"
   ]
  }
 ],
 "metadata": {
  "kernelspec": {
   "display_name": "Python 3 (ipykernel)",
   "language": "python",
   "name": "python3"
  },
  "language_info": {
   "codemirror_mode": {
    "name": "ipython",
    "version": 3
   },
   "file_extension": ".py",
   "mimetype": "text/x-python",
   "name": "python",
   "nbconvert_exporter": "python",
   "pygments_lexer": "ipython3",
   "version": "3.9.6"
  }
 },
 "nbformat": 4,
 "nbformat_minor": 5
}
