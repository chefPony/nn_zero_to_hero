{
  "cells": [
    {
      "cell_type": "markdown",
      "metadata": {
        "id": "view-in-github",
        "colab_type": "text"
      },
      "source": [
        "<a href=\"https://colab.research.google.com/github/chefPony/nn_zero_to_hero/blob/master/build_makemore_backprop_ninja.ipynb\" target=\"_parent\"><img src=\"https://colab.research.google.com/assets/colab-badge.svg\" alt=\"Open In Colab\"/></a>"
      ]
    },
    {
      "cell_type": "markdown",
      "metadata": {
        "id": "rToK0Tku8PPn"
      },
      "source": [
        "## makemore: becoming a backprop ninja"
      ]
    },
    {
      "cell_type": "code",
      "execution_count": 71,
      "metadata": {
        "id": "8sFElPqq8PPp"
      },
      "outputs": [],
      "source": [
        "# there no change change in the first several cells from last lecture"
      ]
    },
    {
      "cell_type": "code",
      "execution_count": 72,
      "metadata": {
        "id": "ChBbac4y8PPq"
      },
      "outputs": [],
      "source": [
        "import torch\n",
        "import torch.nn.functional as F\n",
        "import matplotlib.pyplot as plt # for making figures\n",
        "%matplotlib inline"
      ]
    },
    {
      "cell_type": "code",
      "source": [
        "# download the names.txt file from github\n",
        "!wget https://raw.githubusercontent.com/karpathy/makemore/master/names.txt"
      ],
      "metadata": {
        "id": "x6GhEWW18aCS",
        "outputId": "9d94da82-773a-44a2-cf5b-7a474f645056",
        "colab": {
          "base_uri": "https://localhost:8080/"
        }
      },
      "execution_count": 73,
      "outputs": [
        {
          "output_type": "stream",
          "name": "stdout",
          "text": [
            "--2024-07-29 18:56:34--  https://raw.githubusercontent.com/karpathy/makemore/master/names.txt\n",
            "Resolving raw.githubusercontent.com (raw.githubusercontent.com)... 185.199.110.133, 185.199.108.133, 185.199.109.133, ...\n",
            "Connecting to raw.githubusercontent.com (raw.githubusercontent.com)|185.199.110.133|:443... connected.\n",
            "HTTP request sent, awaiting response... 200 OK\n",
            "Length: 228145 (223K) [text/plain]\n",
            "Saving to: ‘names.txt.1’\n",
            "\n",
            "names.txt.1         100%[===================>] 222.80K  --.-KB/s    in 0.04s   \n",
            "\n",
            "2024-07-29 18:56:34 (6.19 MB/s) - ‘names.txt.1’ saved [228145/228145]\n",
            "\n"
          ]
        }
      ]
    },
    {
      "cell_type": "code",
      "execution_count": 74,
      "metadata": {
        "id": "klmu3ZG08PPr",
        "outputId": "30731682-debf-4a59-df7c-510efbf27db0",
        "colab": {
          "base_uri": "https://localhost:8080/"
        }
      },
      "outputs": [
        {
          "output_type": "stream",
          "name": "stdout",
          "text": [
            "32033\n",
            "15\n",
            "['emma', 'olivia', 'ava', 'isabella', 'sophia', 'charlotte', 'mia', 'amelia']\n"
          ]
        }
      ],
      "source": [
        "# read in all the words\n",
        "words = open('names.txt', 'r').read().splitlines()\n",
        "print(len(words))\n",
        "print(max(len(w) for w in words))\n",
        "print(words[:8])"
      ]
    },
    {
      "cell_type": "code",
      "execution_count": 75,
      "metadata": {
        "id": "BCQomLE_8PPs",
        "outputId": "80b147f9-4ae1-409f-e67b-e39de13f412f",
        "colab": {
          "base_uri": "https://localhost:8080/"
        }
      },
      "outputs": [
        {
          "output_type": "stream",
          "name": "stdout",
          "text": [
            "{1: 'a', 2: 'b', 3: 'c', 4: 'd', 5: 'e', 6: 'f', 7: 'g', 8: 'h', 9: 'i', 10: 'j', 11: 'k', 12: 'l', 13: 'm', 14: 'n', 15: 'o', 16: 'p', 17: 'q', 18: 'r', 19: 's', 20: 't', 21: 'u', 22: 'v', 23: 'w', 24: 'x', 25: 'y', 26: 'z', 0: '.'}\n",
            "27\n"
          ]
        }
      ],
      "source": [
        "# build the vocabulary of characters and mappings to/from integers\n",
        "chars = sorted(list(set(''.join(words))))\n",
        "stoi = {s:i+1 for i,s in enumerate(chars)}\n",
        "stoi['.'] = 0\n",
        "itos = {i:s for s,i in stoi.items()}\n",
        "vocab_size = len(itos)\n",
        "print(itos)\n",
        "print(vocab_size)"
      ]
    },
    {
      "cell_type": "code",
      "execution_count": 76,
      "metadata": {
        "id": "V_zt2QHr8PPs",
        "outputId": "cd73a8a5-a139-48fa-9607-aa138fa5cdaf",
        "colab": {
          "base_uri": "https://localhost:8080/"
        }
      },
      "outputs": [
        {
          "output_type": "stream",
          "name": "stdout",
          "text": [
            "torch.Size([182625, 3]) torch.Size([182625])\n",
            "torch.Size([22655, 3]) torch.Size([22655])\n",
            "torch.Size([22866, 3]) torch.Size([22866])\n"
          ]
        }
      ],
      "source": [
        "# build the dataset\n",
        "block_size = 3 # context length: how many characters do we take to predict the next one?\n",
        "\n",
        "def build_dataset(words):\n",
        "  X, Y = [], []\n",
        "\n",
        "  for w in words:\n",
        "    context = [0] * block_size\n",
        "    for ch in w + '.':\n",
        "      ix = stoi[ch]\n",
        "      X.append(context)\n",
        "      Y.append(ix)\n",
        "      context = context[1:] + [ix] # crop and append\n",
        "\n",
        "  X = torch.tensor(X)\n",
        "  Y = torch.tensor(Y)\n",
        "  print(X.shape, Y.shape)\n",
        "  return X, Y\n",
        "\n",
        "import random\n",
        "random.seed(42)\n",
        "random.shuffle(words)\n",
        "n1 = int(0.8*len(words))\n",
        "n2 = int(0.9*len(words))\n",
        "\n",
        "Xtr,  Ytr  = build_dataset(words[:n1])     # 80%\n",
        "Xdev, Ydev = build_dataset(words[n1:n2])   # 10%\n",
        "Xte,  Yte  = build_dataset(words[n2:])     # 10%"
      ]
    },
    {
      "cell_type": "code",
      "execution_count": 77,
      "metadata": {
        "id": "eg20-vsg8PPt"
      },
      "outputs": [],
      "source": [
        "# ok biolerplate done, now we get to the action:"
      ]
    },
    {
      "cell_type": "code",
      "execution_count": 78,
      "metadata": {
        "id": "MJPU8HT08PPu"
      },
      "outputs": [],
      "source": [
        "# utility function we will use later when comparing manual gradients to PyTorch gradients\n",
        "def cmp(s, dt, t):\n",
        "  ex = torch.all(dt == t.grad).item()\n",
        "  app = torch.allclose(dt, t.grad)\n",
        "  maxdiff = (dt - t.grad).abs().max().item()\n",
        "  print(f'{s:15s} | exact: {str(ex):5s} | approximate: {str(app):5s} | maxdiff: {maxdiff}')"
      ]
    },
    {
      "cell_type": "code",
      "execution_count": 79,
      "metadata": {
        "id": "ZlFLjQyT8PPu",
        "outputId": "254c3a6e-80fb-410b-bbdb-6ee7f8c79d97",
        "colab": {
          "base_uri": "https://localhost:8080/"
        }
      },
      "outputs": [
        {
          "output_type": "stream",
          "name": "stdout",
          "text": [
            "4137\n"
          ]
        }
      ],
      "source": [
        "n_embd = 10 # the dimensionality of the character embedding vectors\n",
        "n_hidden = 64 # the number of neurons in the hidden layer of the MLP\n",
        "\n",
        "g = torch.Generator().manual_seed(2147483647) # for reproducibility\n",
        "C  = torch.randn((vocab_size, n_embd),            generator=g)\n",
        "# Layer 1\n",
        "W1 = torch.randn((n_embd * block_size, n_hidden), generator=g) * (5/3)/((n_embd * block_size)**0.5)\n",
        "b1 = torch.randn(n_hidden,                        generator=g) * 0.1 # using b1 just for fun, it's useless because of BN\n",
        "# Layer 2\n",
        "W2 = torch.randn((n_hidden, vocab_size),          generator=g) * 0.1\n",
        "b2 = torch.randn(vocab_size,                      generator=g) * 0.1\n",
        "# BatchNorm parameters\n",
        "bngain = torch.randn((1, n_hidden))*0.1 + 1.0\n",
        "bnbias = torch.randn((1, n_hidden))*0.1\n",
        "\n",
        "# Note: I am initializating many of these parameters in non-standard ways\n",
        "# because sometimes initializating with e.g. all zeros could mask an incorrect\n",
        "# implementation of the backward pass.\n",
        "\n",
        "parameters = [C, W1, b1, W2, b2, bngain, bnbias]\n",
        "print(sum(p.nelement() for p in parameters)) # number of parameters in total\n",
        "for p in parameters:\n",
        "  p.requires_grad = True"
      ]
    },
    {
      "cell_type": "code",
      "execution_count": 80,
      "metadata": {
        "id": "QY-y96Y48PPv"
      },
      "outputs": [],
      "source": [
        "batch_size = 32\n",
        "n = batch_size # a shorter variable also, for convenience\n",
        "# construct a minibatch\n",
        "ix = torch.randint(0, Xtr.shape[0], (batch_size,), generator=g)\n",
        "Xb, Yb = Xtr[ix], Ytr[ix] # batch X,Y"
      ]
    },
    {
      "cell_type": "code",
      "execution_count": 81,
      "metadata": {
        "id": "8ofj1s6d8PPv",
        "outputId": "e5cefcb5-2cde-41dc-919b-0a1e02eb7d4f",
        "colab": {
          "base_uri": "https://localhost:8080/"
        }
      },
      "outputs": [
        {
          "output_type": "execute_result",
          "data": {
            "text/plain": [
              "tensor(3.3165, grad_fn=<NegBackward0>)"
            ]
          },
          "metadata": {},
          "execution_count": 81
        }
      ],
      "source": [
        "# forward pass, \"chunkated\" into smaller steps that are possible to backward one at a time\n",
        "\n",
        "emb = C[Xb] # embed the characters into vectors\n",
        "embcat = emb.view(emb.shape[0], -1) # concatenate the vectors\n",
        "# Linear layer 1\n",
        "hprebn = embcat @ W1 + b1 # hidden layer pre-activation\n",
        "# BatchNorm layer\n",
        "bnmeani = 1/n*hprebn.sum(0, keepdim=True)\n",
        "bndiff = hprebn - bnmeani\n",
        "bndiff2 = bndiff**2\n",
        "bnvar = 1/(n-1)*(bndiff2).sum(0, keepdim=True) # note: Bessel's correction (dividing by n-1, not n)\n",
        "bnvar_inv = (bnvar + 1e-5)**-0.5\n",
        "bnraw = bndiff * bnvar_inv\n",
        "hpreact = bngain * bnraw + bnbias\n",
        "# Non-linearity\n",
        "h = torch.tanh(hpreact) # hidden layer\n",
        "# Linear layer 2\n",
        "logits = h @ W2 + b2 # output layer\n",
        "# cross entropy loss (same as F.cross_entropy(logits, Yb))\n",
        "logit_maxes = logits.max(1, keepdim=True).values\n",
        "norm_logits = logits - logit_maxes # subtract max for numerical stability\n",
        "counts = norm_logits.exp()\n",
        "counts_sum = counts.sum(1, keepdims=True)\n",
        "counts_sum_inv = counts_sum**-1 # if I use (1.0 / counts_sum) instead then I can't get backprop to be bit exact...\n",
        "probs = counts * counts_sum_inv\n",
        "logprobs = probs.log()\n",
        "loss = -logprobs[range(n), Yb].mean()\n",
        "\n",
        "# PyTorch backward pass\n",
        "for p in parameters:\n",
        "  p.grad = None\n",
        "for t in [logprobs, probs, counts, counts_sum, counts_sum_inv, # afaik there is no cleaner way\n",
        "          norm_logits, logit_maxes, logits, h, hpreact, bnraw,\n",
        "         bnvar_inv, bnvar, bndiff2, bndiff, hprebn, bnmeani,\n",
        "         embcat, emb]:\n",
        "  t.retain_grad()\n",
        "loss.backward()\n",
        "loss"
      ]
    },
    {
      "cell_type": "markdown",
      "source": [
        "## Notation\n",
        "\n",
        "$$\n",
        "n = batch\\ size\\\\\n",
        "n_v = vocab\\ size\\\\\n",
        "i = 1, ..., n\\\\\n",
        "j = 1, 2, ..., n_v\\\\\n",
        "$$\n",
        "\n",
        "### Derivative with respect to logprobs\n",
        "$$\n",
        "z_{ij} = log(p_{ij})\\\\\n",
        "L(\\mathbf{Z}, \\mathbf{Y})=-\\frac{1}{n}\\sum_{i=1}^{n}\\sum_{j=1}^{n_v}z_{ij}y_{ij}\\\\\n",
        "\\frac{\\partial{L}}{\\partial{z_{ij}}} = -\\frac{1}{n}y_{ij}\n",
        "$$\n",
        "\n",
        "\n",
        "#### Computational graph\n",
        "```\n",
        "logprobs --  L\n",
        "```\n",
        "\n"
      ],
      "metadata": {
        "id": "JcC7GXAouRIA"
      }
    },
    {
      "cell_type": "code",
      "source": [
        "Ymat = torch.zeros((n, vocab_size))\n",
        "Ymat[range(n), Yb] = 1.\n",
        "dlogprobs = - 1/n * Ymat"
      ],
      "metadata": {
        "id": "xaA8zWqSuBbS"
      },
      "execution_count": 82,
      "outputs": []
    },
    {
      "cell_type": "markdown",
      "source": [
        "### Derivative with respect to probs\n",
        "\n",
        "$$\n",
        "\\frac{\\partial{L}}{\\partial{p_{ij}}}=\\frac{\\partial{L}}{\\partial{z_{ij}}}\\frac{\\partial{z_{ij}}}{\\partial{p_{ij}}}\\\\\n",
        "\\frac{\\partial{log(p_{ij})}}{\\partial{p_{ij}}} = \\frac{1}{p_{ij}}\n",
        "$$\n",
        "\n",
        "#### Computational graph\n",
        "```\n",
        "probs --  logprobs\n",
        "```"
      ],
      "metadata": {
        "id": "AuIMi0XQx_qA"
      }
    },
    {
      "cell_type": "code",
      "source": [
        "dprobs = dlogprobs * 1./probs"
      ],
      "metadata": {
        "id": "xvYF4E6ly853"
      },
      "execution_count": 83,
      "outputs": []
    },
    {
      "cell_type": "markdown",
      "source": [
        "### Derivative with respect to counts_sum_inv\n",
        "$$\n",
        "\\mathbf{P}(\\mathbf{cs}^{inv})=\n",
        "  \\left[ {\\begin{array}{cccc}\n",
        "    p_{11}(cs_1^{inv}) & p_{12}(cs_1^{inv}) & \\cdots & p_{1n_{v}}(cs_1^{inv})\\\\\n",
        "    p_{21}(cs_2^{inv}) & p_{22}(cs_2^{inv}) & \\cdots & p_{2n_{v}}(cs_2^{inv})\\\\\n",
        "    \\vdots & \\vdots & \\ddots & \\vdots\\\\\n",
        "    p_{n1}(cs_n^{inv}) & p_{n2}(cs_n^{inv}) & \\cdots & p_{nn_{v}}(cs_n^{inv})\\\\\n",
        "  \\end{array} } \\right]\\\\\n",
        "\\frac{\\partial{p_{kq}}}{\\partial{cs_{i}^{inv}}}=\\frac{\\partial{(c_{kq} \\cdot cs_{k}^{inv})}}{cs_i^{inv}} =\n",
        "\\begin{cases}\n",
        "  c_{iq} & \\text{if } i=k\\\\    \n",
        "  0      & \\text{if } i \\neq k\\\\\n",
        "\\end{cases}\\\\\n",
        "\\frac{\\partial{L(\\mathbf{P}(cs_i^{inv}))}}{\\partial{cs_i^{inv}}}=\n",
        "\\sum_{k=1}^{n}\\sum_{q=1}^{n_v}\\frac{\\partial{L}}{\\partial{p_{kq}}}\\frac{\\partial{p_{kq}}}{\\partial{cs_i^{inv}}}=\n",
        "\\sum_{q=1}^{n_v}\\frac{\\partial{L}}{\\partial{p_{iq}}}c_{iq}\\\\\n",
        "$$\n",
        "\n",
        "#### Computational graph\n",
        "```\n",
        "counts_sum_inv --  probs\n",
        "```"
      ],
      "metadata": {
        "id": "SuOWljArzLKL"
      }
    },
    {
      "cell_type": "code",
      "source": [
        "dcounts_sum_inv = (dprobs * Ymat * counts).sum(1, keepdim=True)"
      ],
      "metadata": {
        "id": "WhwM_2ZV3r1X"
      },
      "execution_count": 84,
      "outputs": []
    },
    {
      "cell_type": "markdown",
      "source": [
        "### Derivative with respect to counts_sum\n",
        "$$\n",
        "\\mathbf{cs^{inv}} = [cs_1^{inv}(cs_1), \\cdots, cs_n^{inv}(cs_n)]\\\\\n",
        "\\frac{\\partial{cs_j^{inv}}}{\\partial{cs_i}}=\\frac{\\partial{(cs_j^{-1})}}{\\partial{cs_i}}\n",
        "\\begin{cases}\n",
        "  -cs_{i}^{-2} & \\text{if } i=j\\\\    \n",
        "  0      & \\text{if } i \\neq j\\\\\n",
        "\\end{cases}\\\\\n",
        "\\frac{\\partial{L(\\mathbf{cs^{inv}}(cs_i))}}{\\partial{cs_i}}=\n",
        "\\sum_{j=1}^n\\frac{\\partial{L}}{\\partial{cs_j^{inv}}}\\frac{\\partial{cs_j^{inv}}}{\\partial{cs_i}}=\\frac{\\partial{L}}{\\partial{cs_i^{inv}}} \\cdot \\frac{-1}{cs_i^2}\n",
        "\\\\\n",
        "$$\n",
        "\n",
        "#### Computational graph\n",
        "```\n",
        "counts_sum -- counts_sum_inv\n",
        "```"
      ],
      "metadata": {
        "id": "vujo6M8uVysq"
      }
    },
    {
      "cell_type": "code",
      "source": [
        "dcounts_sum = dcounts_sum_inv * (-counts_sum**(-2))"
      ],
      "metadata": {
        "id": "w2g1lQjpYCmT"
      },
      "execution_count": 85,
      "outputs": []
    },
    {
      "cell_type": "markdown",
      "source": [
        "### Derivative with respect to counts\n",
        "$$\n",
        "p_{kq}(c_{kq}, cs_{k}^{inv})=c_{kq} \\cdot cs_k^{inv}(cs_{k}(c_{k1}, \\dots, c_{kn_v}))\\\\\n",
        "\\frac{\\partial{p_{kq}}}{\\partial{c_{ij}}}=\n",
        "  \\frac{\\partial{p_{kq}}}{\\partial{c_{kq}}} \\cdot\n",
        "  \\frac{\\partial{c_{kq}}}{\\partial{c_{ij}}} +\n",
        "  \\frac{\\partial{p_{kq}}}{\\partial{cs_k^{inv}}} \\cdot\n",
        "  \\frac{\\partial{cs_k^{inv}}}{\\partial{cs_k}} \\cdot\n",
        "  \\frac{\\partial{cs_k}}{\\partial{c_{ij}}} = \\\\\n",
        "  \\frac{\\partial{p_{kq}}}{\\partial{c_{ij}}} +\n",
        "  \\frac{\\partial{p_{kq}}}{\\partial{cs_k}} \\cdot\n",
        "  \\frac{\\partial{cs_k}}{\\partial{c_{ij}}} = \\\\\n",
        "\\begin{cases}\n",
        "  cs_i^{inv} + \\frac{\\partial{p_{ij}}}{\\partial{cs_i}} \\cdot 1\n",
        "  & \\text{if } i=k\\ and\\ j=q \\\\\n",
        "  0 + \\frac{\\partial{p_{iq}}}{\\partial{cs_i}} \\cdot 1\n",
        "  & \\text{if } i=k\\ and\\ j \\neq q\\\\\n",
        "  0 & otherwise\n",
        "\\end{cases}\n",
        "\\\\\n",
        "\\frac{\\partial{L}}{\\partial{c_{ij}}}=\n",
        "\\sum_{k=1}^{n}\n",
        "  \\sum_{q=1}^{n_v}\n",
        "    \\frac{\\partial{L}}{\\partial{p_{kq}}} \\cdot\n",
        "    \\frac{\\partial{p_{kq}}}{\\partial{c_{ij}}} =\n",
        "\\sum_{q=1}^{n_v}\\frac{\\partial{L}}{\\partial{p_{iq}}} \\cdot (\n",
        "  cs_i^{inv} +\n",
        "  \\frac{\\partial{p_{iq}}}{\\partial{cs_i}} \\cdot\n",
        "  \\frac{\\partial{cs_i}}{\\partial{c_{ij}}}) = \\\\\n",
        "\\sum_{q=1}^{n_v}{\n",
        "  \\frac{\\partial{L}}{\\partial{p_{iq}}} \\cdot cs_i^{inv} +\n",
        "  \\frac{\\partial{L}}{\\partial{cs_i}} \\cdot\n",
        "  \\frac{\\partial{cs_i}}{\\partial{c_{ij}}}}=\\\\\n",
        "\\frac{\\partial{L}}{\\partial{p_{ij}}} \\cdot cs_i^{inv} +\n",
        "\\sum_{q=1}^{n_v}{\n",
        "  \\frac{\\partial{L}}{\\partial{cs_i}} \\cdot 1\n",
        "  }\n",
        "$$\n",
        "\n",
        "Sums are gradient distributors:\n",
        "\n",
        "$$\n",
        "f(\\mathbf{x}) = \\sum_{i=1}^nx_i\\\\\n",
        "[\n",
        "  \\frac{\\partial{f(\\mathbf{x})}}{\\partial{x_n}},\n",
        "  \\cdots ,\n",
        "  \\frac{\\partial{f(\\mathbf{x})}}{\\partial{x_n}}] = [1, \\cdots, 1]\n",
        "$$\n",
        "\n",
        "Sums in the forward pass translates to broadcasts in the backward pass and viceversa.\n",
        "\n",
        "#### Computational graph\n",
        "```\n",
        "counts -- probs\n",
        " |\n",
        " --- counts_sum\n",
        "```"
      ],
      "metadata": {
        "id": "HfnZj4MTYzyy"
      }
    },
    {
      "cell_type": "code",
      "source": [
        "dcounts = dprobs * counts_sum_inv\n",
        "dcounts += dcounts_sum * torch.ones_like(counts)"
      ],
      "metadata": {
        "id": "LC2gPdmQga3G"
      },
      "execution_count": 86,
      "outputs": []
    },
    {
      "cell_type": "markdown",
      "source": [
        "### Derivative with respect to norm_logits\n",
        "$$\n",
        "nl_{ij} = \\text{normalized logits}\\\\\n",
        "c_{ij} = e^{nl_{ij}} \\\\\n",
        "\\frac{\\partial{c_{ij}}}{\\partial{nl_{ij}}} = e^{nl_{ij}} = c_{ij}\\\\\n",
        "\\frac{\\partial{L}}{\\partial{nl_{ij}}}=\n",
        "  \\frac{\\partial{L}}{\\partial{c_{ij}}} \\cdot\n",
        "  \\frac{\\partial{c_{ij}}}{\\partial{nl_{ij}}} =\n",
        "  \\frac{\\partial{L}}{\\partial{c_{ij}}} \\cdot\n",
        "  c_{ij}\n",
        "$$\n",
        "\n",
        "#### Computational graph\n",
        "```\n",
        "norm_logits -- counts\n",
        "```"
      ],
      "metadata": {
        "id": "0oj0Xq4ftkA8"
      }
    },
    {
      "cell_type": "code",
      "source": [
        "dnorm_logits = dcounts * counts"
      ],
      "metadata": {
        "id": "8cgUMn6RvG4r"
      },
      "execution_count": 87,
      "outputs": []
    },
    {
      "cell_type": "markdown",
      "source": [
        "### Derivative with respect to logit_maxes\n",
        "$$\n",
        "nl_{ij} = l_{ij} - l_i^{max}\\\\\n",
        "\\frac{\\partial{nl_{ij}}}{\\partial{l_i^{max}}}=-1\\\\\n",
        "\\frac{\\partial{L}}{\\partial{l_i^{max}}}=\n",
        "  \\sum_{k=1}^n\\sum_{j=1}^{n_v}\\frac{\\partial{L}}{\\partial{nl_{kj}}}\\frac{\\partial{nl_{kj}}}{\\partial{l_i^{max}}}=\n",
        "  \\sum_{j=1}^{n_v}\\frac{\\partial{L}}{\\partial{nl_{ij}}}\\frac{\\partial{nl_{ij}}}{\\partial{l_i^{max}}}=\n",
        "  -\\sum_{j=1}^{n_v}\\frac{\\partial{L}}{\\partial{nl_{ij}}}\n",
        "$$\n",
        "\n",
        "\n",
        "#### Computational graph\n",
        "```\n",
        "logit_maxes -- logits\n",
        "```\n",
        "\n"
      ],
      "metadata": {
        "id": "W4udoXfXwOw1"
      }
    },
    {
      "cell_type": "code",
      "source": [
        "dlogit_maxes = -dnorm_logits.sum(1, keepdim=True)"
      ],
      "metadata": {
        "id": "nR_3XJdFTlIu"
      },
      "execution_count": 88,
      "outputs": []
    },
    {
      "cell_type": "markdown",
      "source": [
        "### Derivative with respect to logits\n",
        "$$\n",
        "\\mathbf{nl}=  \\left[ {\\begin{array}{cccc}\n",
        "    nl_{11} & nl_{12} & \\cdots & nl_{1n_{v}}\\\\\n",
        "    nl_{21} & nl_{22} & \\cdots & nl_{2n_{v}}\\\\\\\\\n",
        "    \\vdots & \\vdots & \\ddots & \\vdots\\\\\n",
        "    nl_{n1} & nl_{n2} & \\cdots & nl_{nn_{v}}\\\\\\\\\n",
        "  \\end{array}} \\right]\\\\\n",
        "\\\\\n",
        "\\frac{\\partial{nl_{kq}(l_{kq}, l_k^{max})}}{\\partial{l_{ij}}} =\n",
        "  \\frac{\\partial{l_{kq}}}{\\partial{l_{ij}}} +\n",
        "  \\frac{\\partial{nl_{kq}}}{\\partial{l_k^{max}}}\n",
        "  \\frac{\\partial{l_k^{max}}}{\\partial{l_{ij}}}\n",
        "\\\\\n",
        "\\frac{\\partial{L(\\mathbf{nl})}}{\\partial{l_{ij}}}=\n",
        "  \\sum_{k=1}^n\\sum_{q=1}^{n_v}{\n",
        "    \\frac{\\partial{L}}{\\partial{nl_{kq}}}\\frac{\\partial{nl_{kq}}}{\\partial{l_{ij}}}=\n",
        "    \\sum_{q=1}^{n_v}\\frac{\\partial{L}}{\\partial{nl_{iq}}}\\frac{\\partial{nl_{iq}}}{\\partial{l_{ij}}}=\n",
        "    \\sum_{q=1}^{n_v}\\frac{\\partial{L}}{\\partial{nl_{iq}}}(\n",
        "      \\frac{\\partial{l_{iq}}}{\\partial{l_{ij}}} +\n",
        "      \\frac{\\partial{nl_{iq}}}{\\partial{l_i^{max}}} ⋅\n",
        "      \\frac{\\partial{l_i^{max}}}{\\partial{l_{ij}}}\n",
        "    )=\\\\\n",
        "    \\sum_{q=1}^{n_v}{\n",
        "      \\frac{\\partial{L}}{\\partial{nl_{iq}}} \\cdot\n",
        "      \\frac{\\partial{l_{iq}}}{\\partial{l_{ij}}} +\n",
        "      \\frac{\\partial{L}}{\\partial{l_i^{max}}} ⋅\n",
        "      \\frac{\\partial{l_i^{max}}}{\\partial{l_{ij}}}\n",
        "      }\n",
        "  }\\\\\n",
        "$$\n",
        "\n",
        "#### Max is a  gradient router\n",
        "$$\n",
        "\\frac{\\partial{l_i^{max}}}{\\partial{l_{ij}}}=\n",
        "\\begin{cases}\n",
        "  1  & \\text{if } l_{ij}=l_i^{max}\\\\\n",
        "  0  & \\text{otherwise}\n",
        "\\end{cases}\n",
        "$$\n",
        "\n",
        "\n",
        "#### Computational graph\n",
        "```\n",
        "logits -- normalized_logits\n",
        "  |                            \n",
        "  ------------- logit_maxes\n",
        "```\n",
        "\n"
      ],
      "metadata": {
        "id": "TRkHSBQyUT1N"
      }
    },
    {
      "cell_type": "code",
      "source": [
        "dlogits = dnorm_logits.clone()\n",
        "dlogits += dlogit_maxes * F.one_hot(logits.max(1).indices, num_classes=logits.shape[1])"
      ],
      "metadata": {
        "id": "W7XWlZRef5gv"
      },
      "execution_count": 89,
      "outputs": []
    },
    {
      "cell_type": "markdown",
      "source": [
        "## Derivative with respect to h\n",
        "$$\n",
        "l_{kq} = \\sum_{r=1}^m h_{kr} \\cdot w_{rq} + b_k\\\\\n",
        "\\frac{\\partial{l_{kq}}}{\\partial{h_{ij}}}=\n",
        "\\begin{cases}\n",
        "  w_{jq} & \\text{if } k=i\\\\\n",
        "  0 & \\text{otherwise}\n",
        "\\end{cases}\\\\\n",
        "\\frac{\\partial{L}}{\\partial{h_{ij}}} =\n",
        "\\sum_{k=1}^n\\sum_{q=1}^{n_v}{\n",
        "  \\frac{\\partial{L}}{\\partial{l_{kq}}}\n",
        "  \\frac{\\partial{l_{kq}}}{\\partial{h_{ij}}}\n",
        "}=\n",
        "\\sum_{q=1}^{n_v}{\n",
        "  \\frac{\\partial{L}}{\\partial{l_{iq}}}\n",
        "  \\frac{\\partial{l_{iq}}}{\\partial{h_{ij}}}\n",
        "}=\n",
        "\\sum_{q=1}^{n_v}{\n",
        "  \\frac{\\partial{L}}{\\partial{l_{iq}}}\n",
        "  w_{jq}\n",
        "}\n",
        "$$\n",
        "\n",
        "#### Computational graph\n",
        "```\n",
        "h -- logits\n",
        "```"
      ],
      "metadata": {
        "id": "17-wb2zCje0a"
      }
    },
    {
      "cell_type": "code",
      "source": [
        "dh = dlogits @ W2.T"
      ],
      "metadata": {
        "id": "bLbReHQTm79o"
      },
      "execution_count": 90,
      "outputs": []
    },
    {
      "cell_type": "markdown",
      "source": [
        "## Derivative with respect to w2\n",
        "$$\n",
        "l_{kq} = \\sum_{r=1}^m h_{kr} \\cdot w_{rq} + b_k\\\\\n",
        "\\frac{\\partial{l_{kq}}}{\\partial{w_{ij}}}=\n",
        "\\begin{cases}\n",
        "  h_{ki} & \\text{if } q=j\\\\\n",
        "  0 & \\text{otherwise}\n",
        "\\end{cases}\\\\\n",
        "\\frac{\\partial{L}}{\\partial{w_{ij}}} =\n",
        "\\sum_{k=1}^n\\sum_{q=1}^{n_v}{\n",
        "  \\frac{\\partial{L}}{\\partial{l_{kq}}}\n",
        "  \\frac{\\partial{l_{kq}}}{\\partial{w_{ij}}}\n",
        "}=\n",
        "\\sum_{k=1}^{n}{\n",
        "  \\frac{\\partial{L}}{\\partial{l_{kj}}}\n",
        "  \\frac{\\partial{l_{kj}}}{\\partial{w_{ij}}}\n",
        "}=\n",
        "\\sum_{k=1}^{n}{\n",
        "  \\frac{\\partial{L}}{\\partial{l_{kj}}}\n",
        "  h_{ki}\n",
        "}\n",
        "$$\n",
        "\n",
        "#### Computational graph\n",
        "```\n",
        "W2 -- logits\n",
        "```"
      ],
      "metadata": {
        "id": "4YRehVT6nau3"
      }
    },
    {
      "cell_type": "code",
      "source": [
        "dW2 = h.T @ dlogits"
      ],
      "metadata": {
        "id": "x4iGnnC1oKJ6"
      },
      "execution_count": 91,
      "outputs": []
    },
    {
      "cell_type": "markdown",
      "source": [
        "## Derivative with respect to b2\n",
        "$$\n",
        "l_{kq} = \\sum_{r=1}^m h_{kr} \\cdot w_{rq} + b_q\\\\\n",
        "\\frac{\\partial{l_{kq}}}{\\partial{b_i}}=\n",
        "\\begin{cases}\n",
        "  1 & \\text{if } q=i\\\\\n",
        "  0 & \\text{otherwise}\n",
        "\\end{cases}\\\\\n",
        "\\frac{\\partial{L}}{\\partial{b_i}} =\n",
        "\\sum_{k=1}^n\\sum_{q=1}^{n_v}{\n",
        "  \\frac{\\partial{L}}{\\partial{l_{kq}}}\n",
        "  \\frac{\\partial{l_{kq}}}{\\partial{b_i}}\n",
        "}=\n",
        "\\sum_{k=1}^{n}{\n",
        "  \\frac{\\partial{L}}{\\partial{l_{ki}}}\n",
        "  \\frac{\\partial{l_{ki}}}{\\partial{b_i}}\n",
        "}=\n",
        "\\sum_{k=1}^{n}{\n",
        "  \\frac{\\partial{L}}{\\partial{l_{ki}}}\n",
        "}\n",
        "$$\n",
        "\n",
        "#### Computational graph\n",
        "```\n",
        "b2 -- logits\n",
        "```"
      ],
      "metadata": {
        "id": "xgu_oz1rpDy7"
      }
    },
    {
      "cell_type": "code",
      "source": [
        "db2 = dlogits.sum(0, keepdim=True)"
      ],
      "metadata": {
        "id": "SPoK5T7RpfG7"
      },
      "execution_count": 92,
      "outputs": []
    },
    {
      "cell_type": "markdown",
      "source": [
        "### Derivative with respect to hpreact\n",
        "\n",
        "$$\n",
        "\\frac{\\partial{h_{ij}}}{\\partial{hp_{ij}}}=\n",
        "  \\frac{\\partial{tanh(hp_{ij})}}{\\partial{hp_{ij}}}=\n",
        "  1 - h_{ij}^2\n",
        "$$\n",
        "\n",
        "\n",
        "#### Computational graph\n",
        "```\n",
        "hpreact -- h\n",
        "```"
      ],
      "metadata": {
        "id": "Ek1tOnUY9Wlf"
      }
    },
    {
      "cell_type": "code",
      "source": [
        "dhpreact = dh * (1.0 - h**2)"
      ],
      "metadata": {
        "id": "DIfUBeaU-WQw"
      },
      "execution_count": 93,
      "outputs": []
    },
    {
      "cell_type": "markdown",
      "source": [
        "###  Derivative with respect to bgain\n",
        "\n",
        "$$\n",
        "\\frac{\\partial{hp_{ij}}}{\\partial{bg_j}}=\n",
        "  \\frac{\\partial{(bnr_{ij} \\cdot bg_j + bb_j)}}{\\partial{bg_j}}=bnr_{ij}\\\\\n",
        "\\frac{\\partial{L}}{\\partial{bg_j}}=\\sum_{k=1}^{n}\\sum_{q=1}^{n_v}{\n",
        "  \\frac{\\partial{L}}{\\partial{hp_{kq}}}\\frac{\\partial{hp_{kq}}}{\\partial{bg_j}}=\n",
        "  \\sum_{k=1}^n\\frac{\\partial{L}}{\\partial{hp_{kj}}}\\frac{\\partial{hp_{kj}}}{\\partial{bg_j}}=\n",
        "  \\sum_{k=1}^n\\frac{\\partial{L}}{\\partial{hp_{kj}}}bnr_{kj}\n",
        "}\n",
        "$$\n",
        "\n",
        "#### Computational graph\n",
        "```\n",
        "bngain -- hpreact\n",
        "```"
      ],
      "metadata": {
        "id": "VjUyYDLm_EYk"
      }
    },
    {
      "cell_type": "code",
      "source": [
        "dbngain = (dhpreact * bnraw).sum(0, keepdim=True)"
      ],
      "metadata": {
        "id": "H22ho8HGTyO-"
      },
      "execution_count": 94,
      "outputs": []
    },
    {
      "cell_type": "markdown",
      "source": [
        "### Derivative of bnbias\n",
        "\n",
        "$$\n",
        "\\frac{\\partial{hp_{ij}}}{\\partial{bb_j}}=\n",
        "  \\frac{\\partial{(bnr_{ij} \\cdot bg_j + bb_j)}}{\\partial{bb_j}}=1\\\\\n",
        "\\frac{\\partial{L}}{\\partial{bg_j}}=\\sum_{k=1}^{n}\\sum_{q=1}^{n_v}{\n",
        "  \\frac{\\partial{L}}{\\partial{hp_{kq}}}\\frac{\\partial{hp_{kq}}}{\\partial{bb_j}}=\n",
        "  \\sum_{k=1}^n\\frac{\\partial{L}}{\\partial{hp_{kj}}}\\frac{\\partial{hp_{kj}}}{\\partial{bb_j}}=\n",
        "  \\sum_{k=1}^n\\frac{\\partial{L}}{\\partial{hp_{kj}}}\n",
        "}\n",
        "$$\n",
        "\n",
        "#### Computational graph\n",
        "```\n",
        "bnbias -- hpreact\n",
        "```"
      ],
      "metadata": {
        "id": "9zx1g5WTpnaZ"
      }
    },
    {
      "cell_type": "code",
      "source": [
        "dbnbias = dhpreact.sum(0, keepdim=True)"
      ],
      "metadata": {
        "id": "szf1_WX5pmj1"
      },
      "execution_count": 95,
      "outputs": []
    },
    {
      "cell_type": "markdown",
      "source": [
        "### Derivative with respect  to bnraw\n",
        "\n",
        "\n",
        "$$\n",
        "\\frac{\\partial{hp_{ij}}}{\\partial{bnr_{ij}}}=\n",
        "  \\frac{\\partial{(bnr_{ij} \\cdot bg_j + bb_j)}}{\\partial{bnr_{ij}}}=bg_j\\\\\n",
        "\\frac{\\partial{L}}{\\partial{bnr_{ij}}}=\\sum_{k=1}^{n}\\sum_{q=1}^{n_v}{\n",
        "  \\frac{\\partial{L}}{\\partial{hp_{kq}}}\\frac{\\partial{hp_{kq}}}{\\partial{bnr_{ij}}}=\n",
        "  \\frac{\\partial{L}}{\\partial{hp_{ij}}}\\frac{\\partial{hp_{ij}}}{\\partial{bnr_{ij}}}\n",
        "}\n",
        "$$\n",
        "\n",
        "#### Computational graph\n",
        "```\n",
        "bnraw -- hpreact\n",
        "```"
      ],
      "metadata": {
        "id": "02o5lXVqSjd7"
      }
    },
    {
      "cell_type": "code",
      "source": [
        "dbnraw = dhpreact * bngain"
      ],
      "metadata": {
        "id": "zfCWttnLTSgY"
      },
      "execution_count": 96,
      "outputs": []
    },
    {
      "cell_type": "markdown",
      "source": [
        "### Derivative with respect  to bnvar_inv\n",
        "\n",
        "\n",
        "$$\n",
        "\\frac{\\partial{bnr_{ij}}}{\\partial{bnv_j^{inv}}}=\n",
        "  \\frac{\\partial{(bnd_{ij} \\cdot bnv_j^{inv})}}{\\partial{bnv_j^{inv}}}=bnd_{ij}\\\\\n",
        "\\frac{\\partial{L}}{\\partial{bnv_j^{inv}}}=\\sum_{k=1}^{n}\\sum_{q=1}^{n_v}{\n",
        "  \\frac{\\partial{L}}{\\partial{bnr_{kq}}}\\frac{\\partial{bnr_{kq}}}{\\partial{bnv_j^{inv}}}=\n",
        "  \\sum_{k=0}^n{\n",
        "    \\frac{\\partial{L}}{\\partial{bnr_{kj}}}\\frac{\\partial{bnr_{kj}}}{\\partial{bnv_j^{inv}}}\n",
        "  }=\n",
        "  \\sum_{k=0}^n{\n",
        "    \\frac{\\partial{L}}{\\partial{bnr_{kj}}}bnd_{kj}\n",
        "  }\n",
        "}\n",
        "$$\n",
        "\n",
        "#### Computational graph\n",
        "```\n",
        "bnvar_inv -- bnraw\n",
        "```"
      ],
      "metadata": {
        "id": "U02wCBSNUfVa"
      }
    },
    {
      "cell_type": "code",
      "source": [
        "dbnvar_inv = (dbnraw * bndiff).sum(0, keepdim=True)"
      ],
      "metadata": {
        "id": "YRtVC9jXU6LV"
      },
      "execution_count": 97,
      "outputs": []
    },
    {
      "cell_type": "markdown",
      "source": [
        "### Derivative with respect  to bnvar\n",
        "\n",
        "\n",
        "$$\n",
        "\\frac{\\partial{bnv_j^{inv}}}{\\partial{bnv_j}}=\n",
        "  \\frac{\\partial{(bnv_j + 1e^{-5})^{-0.5}}}{\\partial{bnv_j}}=\n",
        "  -0.5 \\cdot (bnv_j + 1e^{-5})^{-1.5} \\cdot 1\\\\\n",
        "\\frac{\\partial{L}}{\\partial{bnv_j}}=\n",
        "\\sum_{k=1}^{n_v}\n",
        "{\n",
        "  \\frac{\\partial{L}}{\\partial{bnv_k^{inv}}}\\frac{\\partial{bnv_k^{inv}}}{\\partial{bnv_j}}\n",
        "}=\n",
        "\\frac{\\partial{L}}{\\partial{bnv_j^{inv}}}\\frac{\\partial{bnv_j^{inv}}}{\\partial{bnv_j}}\n",
        "$$\n",
        "\n",
        "#### Computational graph\n",
        "```\n",
        "bnvar -- bnvar_inv\n",
        "```"
      ],
      "metadata": {
        "id": "ydwbk4FzZL7S"
      }
    },
    {
      "cell_type": "code",
      "source": [
        "dbnvar = dbnvar_inv  * (-0.5) * (bnvar + 1e-5)**(-1.5)"
      ],
      "metadata": {
        "id": "ondesWiWZhmm"
      },
      "execution_count": 98,
      "outputs": []
    },
    {
      "cell_type": "markdown",
      "source": [
        "### Derivative w.r.t bndiff2\n",
        "\n",
        "$$\n",
        "\\frac{\\partial{bnv_j}}{\\partial{bnd^2_{ij}}}=\n",
        "  \\frac{\\partial{(\\frac{1}{n-1}\\sum_{k=0}^n{bnd^2_{kj}})}}{\\partial{bnd^2_{ij}}}=\n",
        "  \\frac{1}{n-1}\\\\\n",
        "\\frac{\\partial{L}}{\\partial{bnd_{ij}^2}}=\n",
        "\\sum_{k=1}^{n_v}\n",
        "{\n",
        "  \\frac{\\partial{L}}{\\partial{bnv_k}}\\frac{\\partial{bnv_k}}{\\partial{bnd_{ij}^2}}\n",
        "}=\n",
        "\\frac{\\partial{L}}{\\partial{bnv_j}}\\frac{\\partial{bnv_j}}{\\partial{bnd_{ij}^2}\n",
        "}=\n",
        "\\frac{\\partial{L}}{\\partial{bnv_j}} \\cdot \\frac{1}{n-1}\n",
        "$$\n",
        "\n",
        "#### Computational graph\n",
        "```\n",
        "bndiff2 -- bnvar\n",
        "```"
      ],
      "metadata": {
        "id": "jTvsb0Y3cAK6"
      }
    },
    {
      "cell_type": "code",
      "source": [
        "dbndiff2 = dbnvar  * 1./(n-1) * torch.ones_like(bndiff2)"
      ],
      "metadata": {
        "id": "89NjTrchcOA4"
      },
      "execution_count": 99,
      "outputs": []
    },
    {
      "cell_type": "markdown",
      "source": [
        "### Derivative w.r.t bndiff\n",
        "\n",
        "$$\n",
        "\\frac{\\partial{bnr_{ij}}}{\\partial{bnd_{ij}}}=\n",
        "  \\frac{\\partial{(bnd_{ij} \\cdot bnv_j^{inv})}}{\\partial{bnd_{ij}}}=bnv_j^{inv}\\\\\n",
        "\\frac{\\partial{bnd^2_{ij}}}{\\partial{bnd_{ij}}}=2bnd_{ij}\\\\\n",
        "$$\n",
        "\n",
        "#### Computational graph\n",
        "```\n",
        "bndiff -- bnraw\n",
        "  |\n",
        "  ------- bndiff2\n",
        "```"
      ],
      "metadata": {
        "id": "Jnqe8k4KhL3r"
      }
    },
    {
      "cell_type": "code",
      "source": [
        "dbndiff = dbnraw * bnvar_inv\n",
        "dbndiff += dbndiff2 * 2 * bndiff"
      ],
      "metadata": {
        "id": "HeNkmgEAe9y4"
      },
      "execution_count": 100,
      "outputs": []
    },
    {
      "cell_type": "markdown",
      "source": [
        "### Derivative w.r.t bnmeani\n",
        "\n",
        "$$\n",
        "\\frac{\\partial{bnd_{ij}}}{\\partial{bnm_j}}=\n",
        "  \\frac{\\partial{(hpb_{ij} - bnm_j)}}{\\partial{bnm_j}}=-1\\\\\n",
        "\\frac{\\partial{L}}{\\partial{bnm_j}}=\n",
        "\\sum_{k=1}^{n}\n",
        "{\n",
        "  \\frac{\\partial{L}}{\\partial{bnd_{kj}}}\\frac{\\partial{bnd_{kj}}}{\\partial{bnm_j}}\n",
        "}=\n",
        "-\\sum_{k=1}^{n}\n",
        "{\n",
        "  \\frac{\\partial{L}}{\\partial{bnd_{kj}}}\n",
        "}\n",
        "$$\n",
        "\n",
        "#### Computational graph\n",
        "```\n",
        "bnmeani -- bndiff\n",
        "```"
      ],
      "metadata": {
        "id": "PNEGTYwDi2lt"
      }
    },
    {
      "cell_type": "code",
      "source": [
        "dbnmeani = -dbndiff.sum(0, keepdim=True)"
      ],
      "metadata": {
        "id": "a9JgRj-1jET0"
      },
      "execution_count": 101,
      "outputs": []
    },
    {
      "cell_type": "markdown",
      "source": [
        "### Derivative w.r.t hprebn\n",
        "\n",
        "$$\n",
        "\\frac{\\partial{bnd_{ij}}}{\\partial{hpb_{ij}}}=\n",
        "  \\frac{\\partial{(hpb_{ij} - bnm_j)}}{\\partial{hpb_{ij}}}=1\\\\\n",
        "\\frac{\\partial{bnm_{j}}}{\\partial{hpb_{ij}}}=\n",
        "  \\frac{1}{n}\\sum_{k=1}^nhpb_{kj}=\\frac{1}{n}\\\\\n",
        "$$\n",
        "\n",
        "#### Computational graph\n",
        "```\n",
        "hprebn -- bndiff\n",
        "  |\n",
        "  ------- bnmeani\n",
        "```"
      ],
      "metadata": {
        "id": "h2MeGC5yka7g"
      }
    },
    {
      "cell_type": "code",
      "source": [
        "dhprebn = dbndiff.clone()\n",
        "dhprebn += dbnmeani * (1.0/n) * torch.ones_like(hprebn)"
      ],
      "metadata": {
        "id": "PxgyE_mqks-R"
      },
      "execution_count": 102,
      "outputs": []
    },
    {
      "cell_type": "markdown",
      "source": [
        "### Derivative w.r.t embcat\n",
        "\n",
        "$$\n",
        "\\frac{\\partial{hpb_{kq}}}{\\partial{e_{ij}}}=\n",
        "  \\frac{\\partial{(\\sum_{r=1}^m e_{kr} \\cdot w1_{rq} + b1_q)}}{\\partial{e_{ij}}}=\n",
        "  \\begin{cases}\n",
        "  w1_{jq} & \\text{if } k=i\\\\\n",
        "  0  & \\text{otherwise}\n",
        "  \\end{cases}\\\\\n",
        "\\frac{\\partial{L}}{\\partial{e_{ij}}}=\\sum_{q=1}^{m}\n",
        "  {\n",
        "    \\frac{\\partial{L}}{\\partial{hpb_{iq}}} ⋅\n",
        "    \\frac{\\partial{hpb_{iq}}}{\\partial{e_{ij}}}\n",
        "  }=\n",
        "  \\sum_{q=1}^{m}\n",
        "  {\n",
        "    \\frac{\\partial{L}}{\\partial{hpb_{iq}}} ⋅\n",
        "    w1_{jq}\n",
        "  }\n",
        "$$\n",
        "#### Computational graph\n",
        "```\n",
        "embcat -- hprebn\n",
        "```"
      ],
      "metadata": {
        "id": "orj9paVWltn9"
      }
    },
    {
      "cell_type": "code",
      "source": [
        "dembcat = dhprebn @  W1.T"
      ],
      "metadata": {
        "id": "uhtXF1swmijQ"
      },
      "execution_count": 103,
      "outputs": []
    },
    {
      "cell_type": "markdown",
      "source": [
        "### Derivative w.r.t w1\n",
        "\n",
        "$$\n",
        "\\frac{\\partial{hpb_{kq}}}{\\partial{w1_{ij}}}=\n",
        "  \\frac{\\partial{(\\sum_{r=1}^m e_{kr} \\cdot w1_{rq} + b1_q)}}{\\partial{w1_{ij}}}=\n",
        "  \\begin{cases}\n",
        "  e_{ki} & \\text{if } q=j\\\\\n",
        "  0  & \\text{otherwise}\n",
        "  \\end{cases}\\\\\n",
        "\\frac{\\partial{L}}{\\partial{w1_{ij}}}=\\sum_{k=1}^{n}\n",
        "  {\n",
        "    \\frac{\\partial{L}}{\\partial{hpb_{kj}}} ⋅\n",
        "    \\frac{\\partial{hpb_{kj}}}{\\partial{w1_{ij}}}\n",
        "  }=\n",
        "  \\sum_{k=1}^{n}\n",
        "  {\n",
        "    \\frac{\\partial{L}}{\\partial{hpb_{kj}}} ⋅\n",
        "    e_{ki}\n",
        "  }\n",
        "$$\n",
        "#### Computational graph\n",
        "```\n",
        "w1 -- hprebn\n",
        "```"
      ],
      "metadata": {
        "id": "2NHlg-IyqSC0"
      }
    },
    {
      "cell_type": "code",
      "source": [
        "dW1 = embcat.T @  dhprebn"
      ],
      "metadata": {
        "id": "LEJpQCJ_ukUQ"
      },
      "execution_count": 104,
      "outputs": []
    },
    {
      "cell_type": "markdown",
      "source": [
        "### Derivative w.r.t b1\n",
        "\n",
        "$$\n",
        "\\frac{\\partial{hpb_{kj}}}{\\partial{b1_j}}=\n",
        "  \\frac{\\partial{(\\sum_{r=1}^m e_{kr} \\cdot w1_{rj} + b1_j)}}{\\partial{b1_j}}=1\\\\\n",
        "\\frac{\\partial{L}}{\\partial{b1_j}}=\\sum_{k=1}^{n}\n",
        "  {\n",
        "    \\frac{\\partial{L}}{\\partial{hpb_{kj}}} ⋅\n",
        "    1\n",
        "  }\n",
        "$$\n",
        "#### Computational graph\n",
        "```\n",
        "b1 -- hprebn\n",
        "```"
      ],
      "metadata": {
        "id": "Q51c6kOmvTAE"
      }
    },
    {
      "cell_type": "code",
      "source": [
        "db1 = dhprebn.sum(0, keepdim=True)"
      ],
      "metadata": {
        "id": "RTw3cx5SvzzE"
      },
      "execution_count": 105,
      "outputs": []
    },
    {
      "cell_type": "markdown",
      "source": [
        "### Derivative w.r.t emb\n",
        "\n",
        "$$\n",
        "E_{ikq} = e_{i(k \\cdot  q)}\\\\\n",
        "\\frac{\\partial{e_{ij}}}{\\partial{E_{ikq}}}=\n",
        "\\begin{cases}\n",
        "  1 & \\text{if } j=k \\cdot q\\\\\n",
        "  0 & otherwise\n",
        "\\end{cases}\n",
        "$$\n",
        "#### Computational graph\n",
        "```\n",
        "emb -- embcat\n",
        "```"
      ],
      "metadata": {
        "id": "gv5VK97fwpbp"
      }
    },
    {
      "cell_type": "code",
      "source": [
        "demb = dembcat.view(emb.shape)"
      ],
      "metadata": {
        "id": "e0Sw4iw3woom"
      },
      "execution_count": 106,
      "outputs": []
    },
    {
      "cell_type": "markdown",
      "source": [
        "### Derivative w.r.t C\n",
        "\n",
        "$$\n",
        "E_{ikq} = \\mathbf{C}[X_{ik}, q]\\\\\n",
        "\\frac{\\partial{E_{ikj}}}{\\partial{C_{mj}}}=\n",
        "\\begin{cases}\n",
        "  1 & \\text{if } m=X_{ik}\\\\\n",
        "  0 & otherwise\n",
        "\\end{cases}\\\\\n",
        "\\frac{\\partial{L}}{\\partial{C_{mj}}}=\n",
        "\\sum_{i=1}^n\\sum_{k=1}^{context\\ length}\\sum_{r=1}^{emb\\ dim}\n",
        "{\n",
        "  \\frac{\\partial{L}}{\\partial{E_{ikr}}}\\frac{\\partial{E_{ikr}}}{\\partial{C_{mj}}}\n",
        "}=\\\\\n",
        "\\sum_{i=1}^n\\sum_{k=1}^{context\\ length}\n",
        "{\n",
        "  \\frac{\\partial{L}}{\\partial{E_{ikj}}}I_{[X_{ik}=m]}\n",
        "}\n",
        "$$\n",
        "#### Computational graph\n",
        "```\n",
        "C -- emb\n",
        "```"
      ],
      "metadata": {
        "id": "G_gso-xByE1i"
      }
    },
    {
      "cell_type": "code",
      "source": [
        "dC  = torch.zeros(C.shape)\n",
        "for i in range(vocab_size):\n",
        "    dC[i, :] = ((Xb.view((-1, 1)) == i) * demb.view(-1, n_embd)).sum(0)"
      ],
      "metadata": {
        "id": "pR3C_jaj1f2V"
      },
      "execution_count": 107,
      "outputs": []
    },
    {
      "cell_type": "code",
      "execution_count": 108,
      "metadata": {
        "id": "mO-8aqxK8PPw",
        "outputId": "5ef224a1-2306-4958-e1a3-621b6c2e94d3",
        "colab": {
          "base_uri": "https://localhost:8080/"
        }
      },
      "outputs": [
        {
          "output_type": "stream",
          "name": "stdout",
          "text": [
            "logprobs        | exact: True  | approximate: True  | maxdiff: 0.0\n",
            "probs           | exact: True  | approximate: True  | maxdiff: 0.0\n",
            "counts_sum_inv  | exact: True  | approximate: True  | maxdiff: 0.0\n",
            "counts_sum      | exact: True  | approximate: True  | maxdiff: 0.0\n",
            "counts          | exact: True  | approximate: True  | maxdiff: 0.0\n",
            "norm_logits     | exact: True  | approximate: True  | maxdiff: 0.0\n",
            "logit_maxes     | exact: True  | approximate: True  | maxdiff: 0.0\n",
            "logits          | exact: True  | approximate: True  | maxdiff: 0.0\n",
            "h               | exact: True  | approximate: True  | maxdiff: 0.0\n",
            "W2              | exact: True  | approximate: True  | maxdiff: 0.0\n",
            "b2              | exact: True  | approximate: True  | maxdiff: 0.0\n",
            "hpreact         | exact: False | approximate: True  | maxdiff: 4.656612873077393e-10\n",
            "bngain          | exact: False | approximate: True  | maxdiff: 2.7939677238464355e-09\n",
            "bnbias          | exact: False | approximate: True  | maxdiff: 1.862645149230957e-09\n",
            "bnraw           | exact: False | approximate: True  | maxdiff: 4.656612873077393e-10\n",
            "bnvar_inv       | exact: False | approximate: True  | maxdiff: 3.725290298461914e-09\n",
            "bnvar           | exact: False | approximate: True  | maxdiff: 9.313225746154785e-10\n",
            "bndiff2         | exact: False | approximate: True  | maxdiff: 1.8189894035458565e-11\n",
            "bndiff          | exact: False | approximate: True  | maxdiff: 4.656612873077393e-10\n",
            "bnmeani         | exact: False | approximate: True  | maxdiff: 2.3283064365386963e-09\n",
            "hprebn          | exact: False | approximate: True  | maxdiff: 4.656612873077393e-10\n",
            "embcat          | exact: False | approximate: True  | maxdiff: 1.862645149230957e-09\n",
            "W1              | exact: False | approximate: True  | maxdiff: 3.725290298461914e-09\n",
            "b1              | exact: False | approximate: True  | maxdiff: 2.0954757928848267e-09\n",
            "emb             | exact: False | approximate: True  | maxdiff: 1.862645149230957e-09\n",
            "C               | exact: False | approximate: True  | maxdiff: 3.725290298461914e-09\n"
          ]
        }
      ],
      "source": [
        "# Exercise 1: backprop through the whole thing manually,\n",
        "# backpropagating through exactly all of the variables\n",
        "# as they are defined in the forward pass above, one by one\n",
        "\n",
        "Ymat = torch.zeros((n, vocab_size))\n",
        "Ymat[range(n), Yb] = 1.\n",
        "\n",
        "dlogprobs = - 1/n * Ymat\n",
        "dprobs = dlogprobs * 1./probs\n",
        "dcounts_sum_inv = (dprobs * counts).sum(1, keepdim=True)\n",
        "dcounts_sum = dcounts_sum_inv * (-counts_sum**(-2))\n",
        "dcounts = dprobs * counts_sum_inv\n",
        "dcounts += dcounts_sum * torch.ones_like(counts)\n",
        "dnorm_logits = dcounts * counts\n",
        "dlogit_maxes = -dnorm_logits.sum(1, keepdim=True)\n",
        "dlogits = dnorm_logits.clone()\n",
        "dlogits += dlogit_maxes * F.one_hot(logits.max(1).indices, num_classes=logits.shape[1])\n",
        "dh = dlogits @ W2.T\n",
        "dW2 = h.T @ dlogits\n",
        "db2 = dlogits.sum(0, keepdim=True)\n",
        "dhpreact = dh * (1.0 - h**2)\n",
        "dbngain = (dhpreact * bnraw).sum(0, keepdim=True)\n",
        "dbnbias = dhpreact.sum(0, keepdim=True)\n",
        "dbnraw = dhpreact * bngain\n",
        "dbnvar_inv = (dbnraw * bndiff).sum(0, keepdim=True)\n",
        "dbnvar = dbnvar_inv  * (-0.5) * (bnvar + 1e-5)**(-1.5)\n",
        "dbndiff2 = dbnvar  * 1./(n-1) * torch.ones_like(bndiff2)\n",
        "dbndiff = dbnraw * bnvar_inv\n",
        "dbndiff += dbndiff2 * 2 * bndiff\n",
        "dbnmeani = -dbndiff.sum(0, keepdim=True)\n",
        "dhprebn = dbndiff.clone()\n",
        "dhprebn += dbnmeani * (1.0/n) * torch.ones_like(hprebn)\n",
        "dembcat = dhprebn @  W1.T\n",
        "dW1 = embcat.T @  dhprebn\n",
        "db1 = dhprebn.sum(0, keepdim=True)\n",
        "demb = dembcat.view(emb.shape)\n",
        "dC  = torch.zeros(C.shape)\n",
        "for i in range(vocab_size):\n",
        "    dC[i, :] = ((Xb.view((-1, 1)) == i) * demb.view(-1, n_embd)).sum(0)\n",
        "\n",
        "cmp('logprobs', dlogprobs, logprobs)\n",
        "cmp('probs', dprobs, probs)\n",
        "cmp('counts_sum_inv', dcounts_sum_inv, counts_sum_inv)\n",
        "cmp('counts_sum', dcounts_sum, counts_sum)\n",
        "cmp('counts', dcounts, counts)\n",
        "cmp('norm_logits', dnorm_logits, norm_logits)\n",
        "cmp('logit_maxes', dlogit_maxes, logit_maxes)\n",
        "cmp('logits', dlogits, logits)\n",
        "cmp('h', dh, h)\n",
        "cmp('W2', dW2, W2)\n",
        "cmp('b2', db2, b2)\n",
        "cmp('hpreact', dhpreact, hpreact)\n",
        "cmp('bngain', dbngain, bngain)\n",
        "cmp('bnbias', dbnbias, bnbias)\n",
        "cmp('bnraw', dbnraw, bnraw)\n",
        "cmp('bnvar_inv', dbnvar_inv, bnvar_inv)\n",
        "cmp('bnvar', dbnvar, bnvar)\n",
        "cmp('bndiff2', dbndiff2, bndiff2)\n",
        "cmp('bndiff', dbndiff, bndiff)\n",
        "cmp('bnmeani', dbnmeani, bnmeani)\n",
        "cmp('hprebn', dhprebn, hprebn)\n",
        "cmp('embcat', dembcat, embcat)\n",
        "cmp('W1', dW1, W1)\n",
        "cmp('b1', db1, b1)\n",
        "cmp('emb', demb, emb)\n",
        "cmp('C', dC, C)"
      ]
    },
    {
      "cell_type": "code",
      "execution_count": 109,
      "metadata": {
        "id": "ebLtYji_8PPw",
        "colab": {
          "base_uri": "https://localhost:8080/"
        },
        "outputId": "ba3fef9f-9fad-424a-9b20-f0dbb17aa39e"
      },
      "outputs": [
        {
          "output_type": "stream",
          "name": "stdout",
          "text": [
            "3.316514015197754 diff: 0.0\n"
          ]
        }
      ],
      "source": [
        "# Exercise 2: backprop through cross_entropy but all in one go\n",
        "# to complete this challenge look at the mathematical expression of the loss,\n",
        "# take the derivative, simplify the expression, and just write it out\n",
        "\n",
        "# forward pass\n",
        "\n",
        "# before:\n",
        "# logit_maxes = logits.max(1, keepdim=True).values\n",
        "# norm_logits = logits - logit_maxes # subtract max for numerical stability\n",
        "# counts = norm_logits.exp()\n",
        "# counts_sum = counts.sum(1, keepdims=True)\n",
        "# counts_sum_inv = counts_sum**-1 # if I use (1.0 / counts_sum) instead then I can't get backprop to be bit exact...\n",
        "# probs = counts * counts_sum_inv\n",
        "# logprobs = probs.log()\n",
        "# loss = -logprobs[range(n), Yb].mean()\n",
        "\n",
        "# simplified\n",
        "# loss = -(counts * counts_sum**-1).log()[range(n), Yb].mean()\n",
        "\n",
        "# dloss/dcounts = - 1/n * Ymat * 1/probs * counts_sum_inv +\n",
        "#                (- 1/n * Ymat * 1/probs * Ymat * counts).sum(1, keepdim=True) * (-counts_sum**(-2)) * torch.ones_like(counts)\n",
        "\n",
        "\n",
        "# loss = -((logits - logit_maxes).exp() * (logits - logit_maxes).exp().sum(1)**-1).log()[range(n), Yb].mean()\n",
        "\n",
        "# now:\n",
        "loss_fast = F.cross_entropy(logits, Yb)\n",
        "print(loss_fast.item(), 'diff:', (loss_fast - loss).item())"
      ]
    },
    {
      "cell_type": "markdown",
      "source": [
        "## Derivative w.r.t counts in one go\n",
        "\n",
        "$$\n",
        "L = \\frac{1}{n} \\sum_{i=0}^n \\sum_{j=0}^{n^v}\n",
        "{\n",
        "  -log(c_{ij} (c_i^{sum})^{-1}) \\cdot y_{ij}\n",
        "} = \\frac{1}{n} \\sum_{i=0}^n \\sum_{j=0}^{n^v}\n",
        "{\n",
        "  -log(c_{ij} (\\sum_{k=0}^{n_v}c_{ik})^{-1}) \\cdot y_{ij}\n",
        "}\\\\\n",
        "\\frac{\\partial{L}}{\\partial{c_{ij}}} = {\n",
        "  -\\frac{1}{n}\\sum_{h=1}^n\\sum_{q=1}^{n_v}{\n",
        "    y_{hq}\\frac{1}{c_{hq} (c_h^{sum})^{-1}}({\n",
        "      \\frac{\\partial{c_{hq}}}{\\partial{c_{ij}}} \\cdot (c_h^{sum})^{-1} +\n",
        "      c_{hq} \\cdot \\frac{\\partial{(c_h^{sum})^{-1}}}{\\partial{c_{ij}}}\n",
        "    })\n",
        "  }\n",
        "}=\\\\\n",
        "{\n",
        "-\\frac{1}{n}\\sum_{q=1}^{n_v}{\n",
        "    y_{iq}\\frac{1}{p_{iq}}({\n",
        "      \\frac{\\partial{c_{iq}}}{\\partial{c_{ij}}} \\cdot (c_i^{sum})^{-1} - c_{iq} \\cdot (c_i^{sum})^{-2} \\cdot 1\n",
        "    })\n",
        "  }\n",
        "}=\\\\\n",
        "{\n",
        "-\\frac{1}{n}\\sum_{q=1}^{n_v}{\n",
        "    y_{iq}\\frac{1}{p_{iq}}({\n",
        "      I_{[q=j]} \\cdot (c_i^{sum})^{-1} -\n",
        "      c_{iq} \\cdot (c_i^{sum})^{-2} \\cdot 1\n",
        "    })\n",
        "  }\n",
        "}=\\\\\n",
        "{\n",
        "-\\frac{1}{n}\\frac{y_{ij}}{p_{ij}}(c_i^{sum})^{-1} +\n",
        "\\sum_{q=1}^{n_v}\n",
        "  {\n",
        "    \\frac{1}{n}\\frac{y_{iq}}{p_{iq}}c_{iq}(c_i^{sum})^{-2}\n",
        "  }\n",
        "}=\\\\\n",
        "-\\frac{1}{n}(\\frac{y_{ij}}{c_{ij}}+\n",
        "\\sum_{q=1}^{n_v}{y_{iq}(c_i^{sum})^{-1}}\n",
        ")=-\\frac{1}{n}(\\frac{y_{ij}}{c_{ij}}+(c_i^{sum})^{-1})\n",
        "\\\\\n",
        "$$"
      ],
      "metadata": {
        "id": "otXin-pmgKUR"
      }
    },
    {
      "cell_type": "markdown",
      "source": [
        "## Derivative of count w.r.t logits\n",
        "\n",
        "$$\n",
        "\\frac{\\partial{c_{hq}}}{\\partial{l_{ij}}}=\n",
        "\\frac{\\partial{e^{l_{hq} - max(l_{h⋅})}}}{\\partial{l_{ij}}}={\n",
        "  c_{hq} \\cdot (I_{[h=i]}I_{[q=j]}\n",
        "  - I_{[h=i]}I_{[argmax(l_{h⋅})=j]})\n",
        "}\\\\=  c_{iq} \\cdot (I_{[q=j]}\n",
        "  - I_{[argmax(l_{i⋅})=j]})\n",
        "$$\n",
        "\n",
        "## Derivative w.r.t logits in one go\n",
        "\n",
        "$$\n",
        "\\frac{\\partial{L}}{\\partial{l_{ij}}} ={\n",
        "  \\sum_{q=1}^{n_v}{\n",
        "    \\frac{\\partial{L}}{\\partial{c_{iq}}}\n",
        "    \\frac{\\partial{c_{iq}}}{\\partial{l_{ij}}}\n",
        "  }=\n",
        "  \\sum_{q=1}^{n_v}{\n",
        "    \\frac{\\partial{L}}{\\partial{c_{iq}}}\n",
        "    c_{iq} \\cdot (I_{[q=j]}\n",
        "  - I_{[argmax(l_{h⋅})=j]})\n",
        "  }=\\\\\n",
        "  \\frac{\\partial{L}}{\\partial{c_{ij}}}c_{ij}\n",
        "  - \\sum_{q=1}^{n_v}{\n",
        "    \\frac{\\partial{L}}{\\partial{c_{iq}}}\n",
        "    c_{iq} \\cdot I_{[argmax(l_{h⋅})=j]}\n",
        "  }=\\\\\n",
        "  \\frac{1}{n}[(-y_{ij}+p_{ij}) - I_{[argmax(l_{h⋅})=j]}\n",
        "  \\sum_{q=1}^{n_v}{\n",
        "    (-y_{iq}+p_{iq})\n",
        "  }\n",
        "}\n",
        "$$"
      ],
      "metadata": {
        "id": "poJUG7AvUjkr"
      }
    },
    {
      "cell_type": "code",
      "execution_count": 110,
      "metadata": {
        "id": "-gCXbB4C8PPx",
        "colab": {
          "base_uri": "https://localhost:8080/"
        },
        "outputId": "bb06fc52-486e-45bc-95a1-d0677c4fcd86"
      },
      "outputs": [
        {
          "output_type": "stream",
          "name": "stdout",
          "text": [
            "logits          | exact: False | approximate: True  | maxdiff: 7.916241884231567e-09\n"
          ]
        }
      ],
      "source": [
        "# backward pass\n",
        "\n",
        "# -----------------\n",
        "Ymat = F.one_hot(Yb, num_classes=logits.shape[1])\n",
        "psoftmax  = F.softmax(logits, dim=1)\n",
        "dlogits = 1/n * (\n",
        "    (-Ymat + psoftmax)  -\n",
        "    (-Ymat + psoftmax).sum(1, keepdim=True) *\n",
        "    F.one_hot(logits.max(1).indices, logits.shape[1])\n",
        ")\n",
        "# -----------------\n",
        "\n",
        "cmp('logits', dlogits, logits) # I can only get approximate to be true, my maxdiff is 6e-9"
      ]
    },
    {
      "cell_type": "code",
      "execution_count": 111,
      "metadata": {
        "id": "hd-MkhB68PPy",
        "colab": {
          "base_uri": "https://localhost:8080/"
        },
        "outputId": "2b1d78b7-79ec-4241-8175-c3b15d0aba55"
      },
      "outputs": [
        {
          "output_type": "stream",
          "name": "stdout",
          "text": [
            "max diff: tensor(4.7684e-07, grad_fn=<MaxBackward1>)\n"
          ]
        }
      ],
      "source": [
        "# Exercise 3: backprop through batchnorm but all in one go\n",
        "# to complete this challenge look at the mathematical expression of the output of batchnorm,\n",
        "# take the derivative w.r.t. its input, simplify the expression, and just write it out\n",
        "# BatchNorm paper: https://arxiv.org/abs/1502.03167\n",
        "\n",
        "# forward pass\n",
        "\n",
        "# before:\n",
        "# bnmeani = 1/n*hprebn.sum(0, keepdim=True)\n",
        "# bndiff = hprebn - bnmeani\n",
        "# bndiff2 = bndiff**2\n",
        "# bnvar = 1/(n-1)*(bndiff2).sum(0, keepdim=True) # note: Bessel's correction (dividing by n-1, not n)\n",
        "# bnvar_inv = (bnvar + 1e-5)**-0.5\n",
        "# bnraw = bndiff * bnvar_inv\n",
        "# hpreact = bngain * bnraw + bnbias\n",
        "\n",
        "# now:\n",
        "hpreact_fast = bngain * (hprebn - hprebn.mean(0, keepdim=True)) / torch.sqrt(hprebn.var(0, keepdim=True, unbiased=True) + 1e-5) + bnbias\n",
        "print('max diff:', (hpreact_fast - hpreact).abs().max())"
      ]
    },
    {
      "cell_type": "markdown",
      "source": [
        "## Batchnorm\n",
        "\n",
        "$$\n",
        "\\mu_j = \\frac{1}{n}\\sum_{i=1}^{n}x_{ij}\\\\\n",
        "\\sigma_j = \\frac{1}{n-1}\\sum_{i=1}^n{(x_{ij} - \\mu_j)^2}\\\\\n",
        "\\hat{x}_{ij} = (x_{ij} - \\mu_j) \\cdot (\\sigma_j + ϵ)^{-0.5}\\\\\n",
        "y_{ij} = \\gamma_j\\hat{x}_{ij} + \\beta_j ={\n",
        "   \\gamma_j(x_{ij} - \\mu_j) \\cdot (\\sigma_j + ϵ)^{-0.5} + \\beta_j\n",
        "}\n",
        "$$\n",
        "\n",
        "## Derivatives\n",
        "\n",
        "$$\n",
        "\\frac{\\partial{\\mu_j}}{\\partial{x_{ij}}}=\\frac{1}{n}\\\\\n",
        "$$\n",
        "$$\n",
        "\\frac{\\partial{\\sigma_j}}{\\partial{x_{ij}}}=\n",
        "  \\frac{2}{n-1}\\sum_{k=1}^{n}{(x_{kj} - \\mu_j)(I_{[k=i]} - \\frac{1}{n})}=\n",
        "  \\frac{2}{n-1}(x_{ij} - \\mu_j - \\frac{1}{n}\\sum_{k=1}^n({x_{kj} - \\mu_j}))=\\frac{2}{n-1}(x_{ij} - \\mu_j)\n",
        "$$\n",
        "$$\n",
        "\\frac{\\partial{\\hat{x}_{kj}}}{\\partial{x_ij}}=\n",
        "  \\frac{I_{[k=i]} - \\frac{1}{n}}{\\sqrt{\\sigma_j + \\epsilon}} +\n",
        "  (x_{kj} - \\mu_j) \\cdot\n",
        "  -\\frac{1}{2} (\\sigma_j + \\epsilon)^{-1.5} \\cdot\n",
        "  \\frac{2}{n-1}(x_{ij} - \\mu_j)=\\\\\n",
        "  \\frac{I_{[k=i]} - \\frac{1}{n}}{\\sqrt{\\sigma_j + \\epsilon}} -\n",
        "  \\frac{1}{\\sqrt{\\sigma_j + \\epsilon}} \\cdot\n",
        "  \\frac{1}{n-1}\\hat{x}_{ij}\\hat{x}_{kj}=\n",
        "  \\frac{1}{\\sqrt{\\sigma_j + \\epsilon}}(\n",
        "    \\frac{nI_{[k=i]} - 1}{{n}} - \\frac{\\hat{x}_{ij}\\hat{x}_{kj}}{n-1}\n",
        "    )\n",
        "$$\n",
        "\n",
        "$$\n",
        "\\frac{\\partial{y_{ij}}}{\\partial{\\hat{x}_{ij}}} = \\gamma_j\n",
        "$$"
      ],
      "metadata": {
        "id": "UTIhW0eM6ZSq"
      }
    },
    {
      "cell_type": "markdown",
      "source": [
        "## Derivative w.r.t loss\n",
        "$$\n",
        "\\frac{\\partial{L}}{\\partial{x_{ij}}} =\n",
        "\\sum_{k=1}^n{\n",
        "  \\frac{\\partial{L}}{\\partial{y_{kj}}}\\frac{\\partial{y_{kj}}}{\\partial{x_{ij}}}\n",
        "}=\\sum_{k=1}^n{\n",
        "  \\frac{\\partial{L}}{\\partial{y_{kj}}} (\\gamma_j\n",
        "  \\frac{\\partial{\\hat{x}_{kj}}}{\\partial{x_{ij}}})\n",
        "}=\\sum_{k=1}^n{\n",
        "    \\frac{\\partial{L}}{\\partial{y_{kj}}}\n",
        "    \\frac{\\gamma_j}{\\sqrt{\\sigma_j + \\epsilon}}(\n",
        "    \\frac{nI_{[k=i]} - 1}{{n}} - \\frac{\\hat{x}_{ij}\\hat{x}_{kj}}{n-1}\n",
        "    )\n",
        "}\\\\=\\frac{\\gamma_j}{n\\sqrt{\\sigma_j + \\epsilon}}\n",
        "{\n",
        "  (    \n",
        "    n\\frac{\\partial{L}}{\\partial{y_{ij}}} -\n",
        "    \\sum_{k=1}^n\\frac{\\partial{L}}{\\partial{y_{kj}}} -\n",
        "    \\frac{n}{n-1}\\hat{x}_{ij}\\sum_{k=1}^n\\hat{x}_{kj}\n",
        "  )\n",
        "}\n",
        "$$"
      ],
      "metadata": {
        "id": "D_cNhLZCIyOH"
      }
    },
    {
      "cell_type": "code",
      "execution_count": 112,
      "metadata": {
        "id": "POdeZSKT8PPy",
        "colab": {
          "base_uri": "https://localhost:8080/"
        },
        "outputId": "2685c21f-3dbe-4093-c1e7-ee4de196bf97"
      },
      "outputs": [
        {
          "output_type": "stream",
          "name": "stdout",
          "text": [
            "hprebn          | exact: False | approximate: True  | maxdiff: 9.313225746154785e-10\n"
          ]
        }
      ],
      "source": [
        "# backward pass\n",
        "\n",
        "# before we had:\n",
        "# dbnraw = bngain * dhpreact\n",
        "# dbndiff = bnvar_inv * dbnraw\n",
        "# dbnvar_inv = (bndiff * dbnraw).sum(0, keepdim=True)\n",
        "# dbnvar = (-0.5*(bnvar + 1e-5)**-1.5) * dbnvar_inv\n",
        "# dbndiff2 = (1.0/(n-1))*torch.ones_like(bndiff2) * dbnvar\n",
        "# dbndiff += (2*bndiff) * dbndiff2\n",
        "# dhprebn = dbndiff.clone()\n",
        "# dbnmeani = (-dbndiff).sum(0)\n",
        "# dhprebn += 1.0/n * (torch.ones_like(hprebn) * dbnmeani)\n",
        "\n",
        "# calculate dhprebn given dhpreact (i.e. backprop through the batchnorm)\n",
        "# (you'll also need to use some of the variables from the forward pass up above)\n",
        "\n",
        "# -----------------\n",
        "# YOUR CODE HERE :)\n",
        "dhprebn = (\n",
        "    bngain/n * bnvar_inv *\n",
        "     (n * dhpreact - dhpreact.sum(0, keepdim=True) - n/(n-1) * bnraw * (bnraw * dhpreact).sum(0, keepdim=True))\n",
        ")\n",
        "# -----------------\n",
        "\n",
        "cmp('hprebn', dhprebn, hprebn) # I can only get approximate to be true, my maxdiff is 9e-10"
      ]
    },
    {
      "cell_type": "code",
      "execution_count": 61,
      "metadata": {
        "id": "wPy8DhqB8PPz",
        "colab": {
          "base_uri": "https://localhost:8080/"
        },
        "outputId": "a657d489-8609-4d99-b4b4-070755b2aaf4"
      },
      "outputs": [
        {
          "output_type": "stream",
          "name": "stdout",
          "text": [
            "12297\n",
            "      0/ 200000: 3.7910\n",
            "  10000/ 200000: 2.1886\n",
            "  20000/ 200000: 2.3963\n",
            "  30000/ 200000: 2.4175\n",
            "  40000/ 200000: 1.9809\n",
            "  50000/ 200000: 2.3518\n",
            "  60000/ 200000: 2.4374\n",
            "  70000/ 200000: 2.1476\n",
            "  80000/ 200000: 2.3281\n",
            "  90000/ 200000: 2.0571\n",
            " 100000/ 200000: 1.9732\n",
            " 110000/ 200000: 2.4164\n",
            " 120000/ 200000: 2.0291\n",
            " 130000/ 200000: 2.4182\n",
            " 140000/ 200000: 2.2781\n",
            " 150000/ 200000: 2.2610\n",
            " 160000/ 200000: 1.9792\n",
            " 170000/ 200000: 1.8633\n",
            " 180000/ 200000: 1.9042\n",
            " 190000/ 200000: 1.9083\n"
          ]
        }
      ],
      "source": [
        "# Exercise 4: putting it all together!\n",
        "# Train the MLP neural net with your own backward pass\n",
        "\n",
        "# init\n",
        "n_embd = 10 # the dimensionality of the character embedding vectors\n",
        "n_hidden = 200 # the number of neurons in the hidden layer of the MLP\n",
        "\n",
        "g = torch.Generator().manual_seed(2147483647) # for reproducibility\n",
        "C  = torch.randn((vocab_size, n_embd),            generator=g)\n",
        "# Layer 1\n",
        "W1 = torch.randn((n_embd * block_size, n_hidden), generator=g) * (5/3)/((n_embd * block_size)**0.5)\n",
        "b1 = torch.randn(n_hidden,                        generator=g) * 0.1\n",
        "# Layer 2\n",
        "W2 = torch.randn((n_hidden, vocab_size),          generator=g) * 0.1\n",
        "b2 = torch.randn(vocab_size,                      generator=g) * 0.1\n",
        "# BatchNorm parameters\n",
        "bngain = torch.randn((1, n_hidden))*0.1 + 1.0\n",
        "bnbias = torch.randn((1, n_hidden))*0.1\n",
        "\n",
        "parameters = [C, W1, b1, W2, b2, bngain, bnbias]\n",
        "print(sum(p.nelement() for p in parameters)) # number of parameters in total\n",
        "for p in parameters:\n",
        "  p.requires_grad = True\n",
        "\n",
        "# same optimization as last time\n",
        "max_steps = 200000\n",
        "batch_size = 32\n",
        "n = batch_size # convenience\n",
        "lossi = []\n",
        "\n",
        "# use this context manager for efficiency once your backward pass is written (TODO)\n",
        "#with torch.no_grad():\n",
        "\n",
        "# kick off optimization\n",
        "for i in range(max_steps):\n",
        "\n",
        "  # minibatch construct\n",
        "  ix = torch.randint(0, Xtr.shape[0], (batch_size,), generator=g)\n",
        "  Xb, Yb = Xtr[ix], Ytr[ix] # batch X,Y\n",
        "\n",
        "  # forward pass\n",
        "  emb = C[Xb] # embed the characters into vectors\n",
        "  embcat = emb.view(emb.shape[0], -1) # concatenate the vectors\n",
        "  # Linear layer\n",
        "  hprebn = embcat @ W1 + b1 # hidden layer pre-activation\n",
        "  # BatchNorm layer\n",
        "  # -------------------------------------------------------------\n",
        "  bnmean = hprebn.mean(0, keepdim=True)\n",
        "  bnvar = hprebn.var(0, keepdim=True, unbiased=True)\n",
        "  bnvar_inv = (bnvar + 1e-5)**-0.5\n",
        "  bnraw = (hprebn - bnmean) * bnvar_inv\n",
        "  hpreact = bngain * bnraw + bnbias\n",
        "  # -------------------------------------------------------------\n",
        "  # Non-linearity\n",
        "  h = torch.tanh(hpreact) # hidden layer\n",
        "  logits = h @ W2 + b2 # output layer\n",
        "  loss = F.cross_entropy(logits, Yb) # loss function\n",
        "\n",
        "  # backward pass\n",
        "  for p in parameters:\n",
        "    p.grad = None\n",
        "  #loss.backward() # use this for correctness comparisons, delete it later!\n",
        "\n",
        "  # manual backprop! #swole_doge_meme\n",
        "  # -----------------\n",
        "  with torch.no_grad():\n",
        "    Ymat = torch.zeros((batch_size, vocab_size))\n",
        "    Ymat[range(batch_size), Yb] = 1.\n",
        "    probs = F.softmax(logits.clone(), dim=1)\n",
        "    dlogits = 1/n * ((-Ymat + probs)  - (-Ymat + probs).sum(1, keepdim=True) *\n",
        "      F.one_hot(logits.max(1).indices, logits.shape[1])\n",
        "    )\n",
        "    dW2 = h.T @ dlogits\n",
        "    db2 = dlogits.sum(0)\n",
        "    dh = dlogits @ W2.T\n",
        "    dhpreact = dh * (1.0 - h**2)\n",
        "    dbnbias = dhpreact.sum(0, keepdim=True)\n",
        "    dbngain = (dhpreact * bnraw).sum(0, keepdim=True)\n",
        "    dhprebn = (\n",
        "      bngain/batch_size * bnvar_inv *\n",
        "      (batch_size * dhpreact - dhpreact.sum(0, keepdim=True) - batch_size/(batch_size-1)\n",
        "      * bnraw * (bnraw * dhpreact).sum(0, keepdim=True))\n",
        "    )\n",
        "    dW1 = embcat.T @  dhprebn\n",
        "    db1 = dhprebn.sum(0)\n",
        "    dembcat = dhprebn @  W1.T\n",
        "    demb = dembcat.view(emb.shape)\n",
        "    dC  = torch.zeros(C.shape)\n",
        "    for v in range(vocab_size):\n",
        "      dC[v, :] = ((Xb.view((-1, 1)) == v) * demb.view(-1, n_embd)).sum(0)\n",
        "\n",
        "    dC, dW1, db1, dW2, db2, dbngain, dbnbias = dC, dW1, db1, dW2, db2, dbngain, dbnbias\n",
        "    grads = [dC, dW1, db1, dW2, db2, dbngain, dbnbias]\n",
        "\n",
        "    check = {\"C\": (C, dC), \"W1\": (W1, dW1), \"b1\": (b1, db1), \"W2\": (W2, dW2),\n",
        "             \"b2\": (b2, db2), \"bngain\": (bngain, dbngain), \"bnbias\": (bnbias, dbnbias),\n",
        "             #\"logits\":(logits, dlogits)\n",
        "             }\n",
        "    #for name, (par, dpar) in check.items():\n",
        "    #  cmp(name, dpar, par)\n",
        "  # -----------------\n",
        "\n",
        "  # update\n",
        "  lr = 0.1 if i < 100000 else 0.01 # step learning rate decay\n",
        "  for p, grad in zip(parameters, grads):\n",
        "    #p.data += -lr * p.grad # old way of cheems doge (using PyTorch grad from .backward())\n",
        "    p.data += -lr * grad # new way of swole doge TODO: enable\n",
        "\n",
        "  # track stats\n",
        "  if i % 10000 == 0: # print every once in a while\n",
        "    print(f'{i:7d}/{max_steps:7d}: {loss.item():.4f}')\n",
        "  lossi.append(loss.log10().item())\n",
        "\n",
        "  #if i >= 100: # TODO: delete early breaking when you're ready to train the full net\n",
        "  #  break"
      ]
    },
    {
      "cell_type": "code",
      "execution_count": 63,
      "metadata": {
        "id": "ZEpI0hMW8PPz"
      },
      "outputs": [],
      "source": [
        "# useful for checking your gradients\n",
        "#for p,g in zip(parameters, grads):\n",
        "#  cmp(str(tuple(p.shape)), g, p)"
      ]
    },
    {
      "cell_type": "code",
      "execution_count": 64,
      "metadata": {
        "id": "KImLWNoh8PP0"
      },
      "outputs": [],
      "source": [
        "# calibrate the batch norm at the end of training\n",
        "\n",
        "with torch.no_grad():\n",
        "  # pass the training set through\n",
        "  emb = C[Xtr]\n",
        "  embcat = emb.view(emb.shape[0], -1)\n",
        "  hpreact = embcat @ W1 + b1\n",
        "  # measure the mean/std over the entire training set\n",
        "  bnmean = hpreact.mean(0, keepdim=True)\n",
        "  bnvar = hpreact.var(0, keepdim=True, unbiased=True)\n"
      ]
    },
    {
      "cell_type": "code",
      "execution_count": 65,
      "metadata": {
        "id": "6aFnP_Zc8PP0",
        "colab": {
          "base_uri": "https://localhost:8080/"
        },
        "outputId": "72c6b20a-0ce2-44a0-ed0f-ba996110cae2"
      },
      "outputs": [
        {
          "output_type": "stream",
          "name": "stdout",
          "text": [
            "train 2.069854974746704\n",
            "val 2.107513189315796\n"
          ]
        }
      ],
      "source": [
        "# evaluate train and val loss\n",
        "\n",
        "@torch.no_grad() # this decorator disables gradient tracking\n",
        "def split_loss(split):\n",
        "  x,y = {\n",
        "    'train': (Xtr, Ytr),\n",
        "    'val': (Xdev, Ydev),\n",
        "    'test': (Xte, Yte),\n",
        "  }[split]\n",
        "  emb = C[x] # (N, block_size, n_embd)\n",
        "  embcat = emb.view(emb.shape[0], -1) # concat into (N, block_size * n_embd)\n",
        "  hpreact = embcat @ W1 + b1\n",
        "  hpreact = bngain * (hpreact - bnmean) * (bnvar + 1e-5)**-0.5 + bnbias\n",
        "  h = torch.tanh(hpreact) # (N, n_hidden)\n",
        "  logits = h @ W2 + b2 # (N, vocab_size)\n",
        "  loss = F.cross_entropy(logits, y)\n",
        "  print(split, loss.item())\n",
        "\n",
        "split_loss('train')\n",
        "split_loss('val')"
      ]
    },
    {
      "cell_type": "code",
      "execution_count": 66,
      "metadata": {
        "id": "esWqmhyj8PP1"
      },
      "outputs": [],
      "source": [
        "# I achieved:\n",
        "# train 2.0718822479248047\n",
        "# val 2.1162495613098145"
      ]
    },
    {
      "cell_type": "code",
      "execution_count": 67,
      "metadata": {
        "id": "xHeQNv3s8PP1",
        "colab": {
          "base_uri": "https://localhost:8080/"
        },
        "outputId": "8a88d26d-c0e1-4946-c269-32d5cf0f6966"
      },
      "outputs": [
        {
          "output_type": "stream",
          "name": "stdout",
          "text": [
            "mora.\n",
            "mayanniee.\n",
            "mad.\n",
            "ryla.\n",
            "reisa.\n",
            "jendra.\n",
            "gradelynnelin.\n",
            "shi.\n",
            "jen.\n",
            "eden.\n",
            "sananar.\n",
            "kayzion.\n",
            "kamin.\n",
            "shubergihira.\n",
            "sten.\n",
            "joselle.\n",
            "joseus.\n",
            "kus.\n",
            "macder.\n",
            "yarul.\n"
          ]
        }
      ],
      "source": [
        "# sample from the model\n",
        "g = torch.Generator().manual_seed(2147483647 + 10)\n",
        "\n",
        "for _ in range(20):\n",
        "\n",
        "    out = []\n",
        "    context = [0] * block_size # initialize with all ...\n",
        "    while True:\n",
        "      # forward pass\n",
        "      emb = C[torch.tensor([context])] # (1,block_size,d)\n",
        "      embcat = emb.view(emb.shape[0], -1) # concat into (N, block_size * n_embd)\n",
        "      hpreact = embcat @ W1 + b1\n",
        "      hpreact = bngain * (hpreact - bnmean) * (bnvar + 1e-5)**-0.5 + bnbias\n",
        "      h = torch.tanh(hpreact) # (N, n_hidden)\n",
        "      logits = h @ W2 + b2 # (N, vocab_size)\n",
        "      # sample\n",
        "      probs = F.softmax(logits, dim=1)\n",
        "      ix = torch.multinomial(probs, num_samples=1, generator=g).item()\n",
        "      context = context[1:] + [ix]\n",
        "      out.append(ix)\n",
        "      if ix == 0:\n",
        "        break\n",
        "\n",
        "    print(''.join(itos[i] for i in out))"
      ]
    }
  ],
  "metadata": {
    "kernelspec": {
      "display_name": "Python 3",
      "language": "python",
      "name": "python3"
    },
    "language_info": {
      "codemirror_mode": {
        "name": "ipython",
        "version": 3
      },
      "file_extension": ".py",
      "mimetype": "text/x-python",
      "name": "python",
      "nbconvert_exporter": "python",
      "pygments_lexer": "ipython3",
      "version": "3.8.5"
    },
    "colab": {
      "provenance": [],
      "include_colab_link": true
    }
  },
  "nbformat": 4,
  "nbformat_minor": 0
}