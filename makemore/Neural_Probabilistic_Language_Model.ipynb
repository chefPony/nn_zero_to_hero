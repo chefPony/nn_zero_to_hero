{
 "cells": [
  {
   "cell_type": "code",
   "execution_count": 1,
   "id": "b12f394a-a0b3-4cd7-9cd4-2dc65fdf9a0d",
   "metadata": {},
   "outputs": [],
   "source": [
    "import torch\n",
    "import numpy as np\n",
    "import string\n",
    "import matplotlib.pyplot as plt\n",
    "%matplotlib inline"
   ]
  },
  {
   "cell_type": "code",
   "execution_count": null,
   "id": "b6ca02d2-571c-400b-8817-ff2ba674582f",
   "metadata": {},
   "outputs": [],
   "source": [
    "CONTEXT_LENGTH = 3\n",
    "SPECIAL = '.'"
   ]
  },
  {
   "cell_type": "markdown",
   "id": "7f39609d-dcd0-4236-b53c-79b1cdf969c3",
   "metadata": {},
   "source": [
    "## Class and functions definitions"
   ]
  },
  {
   "cell_type": "code",
   "execution_count": 2,
   "id": "47065312-eb2c-49b0-b6ca-4ccc1f7d14fc",
   "metadata": {},
   "outputs": [],
   "source": [
    "class Dataset(torch.utils.data.Dataset):\n",
    "\n",
    "    def __init__(self, X, Y):\n",
    "        super().__init__()\n",
    "        assert(X.shape[0] == Y.shape[0])\n",
    "        self.X, self.Y = X, Y\n",
    "\n",
    "    def __getitem__(self, idx):\n",
    "        return self.X[idx, ...], self.Y[idx, ...]\n",
    "\n",
    "    def __len__(self):\n",
    "        return self.X.shape[0]"
   ]
  },
  {
   "cell_type": "code",
   "execution_count": 3,
   "id": "d9470b82-1866-4f5c-882f-12a0a0bdab22",
   "metadata": {},
   "outputs": [],
   "source": [
    "def build_dataset_from_names(names: list, context_length: int, special_char: str):\n",
    "    \"\"\"\n",
    "    Build dataset \n",
    "    \"\"\"\n",
    "    X = list()\n",
    "    Y = list()\n",
    "    prepend = \"\".join([special_char for i in range(context_length)])\n",
    "    for n in names:\n",
    "        n_ext = \"\".join([prepend, n, special_char])\n",
    "        for i in range(len(n_ext) - context_length):\n",
    "            x = n_ext[i:i + context_length]\n",
    "            Y.append(chars_to_int[n_ext[i + context_length]])\n",
    "            X.append([chars_to_int[c] for c in x])\n",
    "    X = torch.tensor(X)\n",
    "    Y = torch.tensor(Y)\n",
    "    return X, Y"
   ]
  },
  {
   "cell_type": "code",
   "execution_count": 87,
   "id": "b3ae7079-88fe-407b-ae18-e5d74d1eb734",
   "metadata": {},
   "outputs": [],
   "source": [
    "class MLP(torch.nn.Module):\n",
    "\n",
    "    def __init__(self, num_embeddings: int ,embedding_dim: int, hidden_dim: int, \n",
    "                 context_length: int, char_to_int: dict, original_architecture: bool = False):\n",
    "        \"\"\"\n",
    "        Neural Probabilistic model as defined in the paper from Bengio. It is slightly different\n",
    "        from what is described in the paper, since there are no skip connections between embedding\n",
    "        and ouput layer.\n",
    "\n",
    "        Parameters\n",
    "        num_embeddings: number of embeddings\n",
    "        embedding_dim: embedding dimension\n",
    "        hidden_dim: dimension of the hidden layer\n",
    "        context_length: number of characters to use for prediction\n",
    "        char_to_int: mapping character -> int\n",
    "        paper_architecture: if True add the skip connections as in the original paper\n",
    "        \"\"\"\n",
    "        super().__init__()\n",
    "        self.context_length = context_length\n",
    "        self.embedding_dim = embedding_dim\n",
    "        self.char_to_int = char_to_int\n",
    "        self.int_to_char = {v: k for k, v in self.char_to_int.items()}\n",
    "        self.original_architecture = original_architecture\n",
    "        self.embedding = torch.nn.Embedding(num_embeddings, embedding_dim)\n",
    "        self.hidden_layer = torch.nn.Linear(in_features=embedding_dim * context_length, \n",
    "                                            out_features=hidden_dim)\n",
    "\n",
    "        self.hidden_activation = torch.nn.Tanh()\n",
    "        if self.original_architecture:\n",
    "            output_dim = hidden_dim + embedding_dim * context_length \n",
    "        else:\n",
    "            output_dim = hidden_dim\n",
    "            \n",
    "        self.output_layer = torch.nn.Linear(in_features=output_dim, out_features=num_embeddings)\n",
    "        self.output_activation = torch.nn.Softmax(dim=1)\n",
    "\n",
    "    def forward(self, X):\n",
    "        \"\"\"\n",
    "        Forward pass outputs unnormalized logits\n",
    "        \"\"\"\n",
    "        C = self.embedding(X).view(-1, self.context_length * self.embedding_dim)\n",
    "        out = self.hidden_layer(C)\n",
    "        out = self.hidden_activation(out)\n",
    "        if self.original_architecture:\n",
    "            out = torch.cat([C, out], dim=1)\n",
    "        out = self.output_layer(out)\n",
    "        return out\n",
    "\n",
    "    def predict_proba(self, X):\n",
    "        \"\"\"\n",
    "        Predict next char proabilities\n",
    "        \"\"\"\n",
    "        logits = self(X)\n",
    "        return self.output_activation(logits)\n",
    "\n",
    "    def generate_name(self, generator=None):\n",
    "        with torch.no_grad():\n",
    "            res = \"\"\n",
    "            start = torch.tensor([[self.char_to_int[c] for c in SPECIAL * self.context_length]])\n",
    "            next_char = \"\"\n",
    "            while next_char != chars_to_int[SPECIAL]:\n",
    "                probs = model.predict_proba(start)\n",
    "                next_char = torch.multinomial(probs, num_samples=1, generator=generator)\n",
    "                res += self.int_to_char[next_char.item()]\n",
    "                new_start = torch.tensor([[c for c in start[0, 1:]] + [next_char]])\n",
    "                start = new_start\n",
    "        return res\n",
    "        "
   ]
  },
  {
   "cell_type": "code",
   "execution_count": 5,
   "id": "81565262-b39f-4a4c-9cb3-23a82c2e5e6c",
   "metadata": {},
   "outputs": [],
   "source": [
    "def regularization(model):\n",
    "    \"\"\"\n",
    "    Regularization loss as described in the paper\n",
    "    \"\"\"\n",
    "    C = list(model.embedding.parameters())[0]\n",
    "    W = list(model.hidden_layer.parameters())[0]\n",
    "    O = list(model.hidden_layer.parameters())[0]\n",
    "    return (C**2).sum() + (W**2).sum() + (O**2).sum()"
   ]
  },
  {
   "cell_type": "markdown",
   "id": "edce071c-b382-47b3-be55-6d5b4f539ce4",
   "metadata": {},
   "source": [
    "## Create data"
   ]
  },
  {
   "cell_type": "code",
   "execution_count": 7,
   "id": "b5b9b51e-e5fd-4f41-979d-e15b9ffa751f",
   "metadata": {},
   "outputs": [],
   "source": [
    "names = np.array(open(\"data/names_usa.txt\").read().splitlines())"
   ]
  },
  {
   "cell_type": "code",
   "execution_count": 8,
   "id": "4c694bc8-8d96-42a3-b7c9-c4ea55a48c61",
   "metadata": {},
   "outputs": [],
   "source": [
    "generator = torch.Generator().manual_seed(42)"
   ]
  },
  {
   "cell_type": "code",
   "execution_count": 9,
   "id": "47df834f-d329-4bea-bffd-7785dbe4719b",
   "metadata": {},
   "outputs": [],
   "source": [
    "chars = string.ascii_lowercase + SPECIAL\n",
    "chars_to_int = {c: k for k,c in enumerate(chars)}\n",
    "int_to_chars = {k: c for c, k in chars_to_int.items()}"
   ]
  },
  {
   "cell_type": "code",
   "execution_count": 10,
   "id": "e86e8149-9337-46fd-8dff-a8c539eb1fd9",
   "metadata": {},
   "outputs": [],
   "source": [
    "n_names = len(names)\n",
    "idx = torch.randperm(n_names, generator=generator)\n",
    "tr_idx = idx[:int(n_names*0.8)]\n",
    "dev_idx = idx[int(n_names*0.8):int(n_names*0.9)]\n",
    "te_idx = idx[int(n_names*0.9):]\n",
    "\n",
    "Xtr, Ytr = build_dataset_from_names(names[tr_idx], \n",
    "                               context_length=CONTEXT_LENGTH, \n",
    "                               special_char=SPECIAL)\n",
    "\n",
    "Xdev, Ydev = build_dataset_from_names(names[dev_idx], \n",
    "                               context_length=CONTEXT_LENGTH, \n",
    "                               special_char=SPECIAL)\n",
    "\n",
    "Xte, Yte = build_dataset_from_names(names[te_idx], \n",
    "                               context_length=CONTEXT_LENGTH, \n",
    "                               special_char=SPECIAL)"
   ]
  },
  {
   "cell_type": "markdown",
   "id": "1b043e4a-2aec-4c0c-b7ae-c7bd0fbc1dbb",
   "metadata": {},
   "source": [
    "## Model"
   ]
  },
  {
   "cell_type": "markdown",
   "id": "f6cc1caf-c385-42a9-a550-70514db1a9e5",
   "metadata": {},
   "source": [
    "### Parameters"
   ]
  },
  {
   "cell_type": "code",
   "execution_count": 82,
   "id": "60adde15-d304-48bd-a6da-4d1d1b708605",
   "metadata": {},
   "outputs": [],
   "source": [
    "model_parameters = {\n",
    "    \"num_embeddings\": len(chars),\n",
    "    \"embedding_dim\": 15,\n",
    "    \"hidden_dim\": 60,\n",
    "    \"context_length\": CONTEXT_LENGTH,\n",
    "    \"char_to_int\": chars_to_int,\n",
    "    \"original_architecture\": False\n",
    "}\n",
    "\n",
    "epochs = 60\n",
    "batch_size = 32\n",
    "loss = torch.nn.CrossEntropyLoss()"
   ]
  },
  {
   "cell_type": "markdown",
   "id": "f76bd00a-aa6e-4874-a7e8-43fad41b3b58",
   "metadata": {},
   "source": [
    "### Learning rate search"
   ]
  },
  {
   "cell_type": "code",
   "execution_count": 88,
   "id": "c6ba425a-cc24-45e4-baaf-e4ffe63f86b2",
   "metadata": {},
   "outputs": [],
   "source": [
    "model = MLP(**model_parameters)\n",
    "lre = torch.linspace(-3, 0, 1000)\n",
    "lri = 10 ** lre\n",
    "\n",
    "stats = list()\n",
    "\n",
    "for lr in lri:\n",
    "    idx = torch.randperm(Xtr.shape[0], generator=generator)[:batch_size]\n",
    "    optimizer = torch.optim.Adam(model.parameters(), lr=lr)\n",
    "    yhat = model(Xtr[idx, ...])\n",
    "    l = loss(yhat.float(), Ytr[idx]) #+ regularization(model)\n",
    "    l.backward()\n",
    "    optimizer.step()\n",
    "    optimizer.zero_grad()\n",
    "\n",
    "    stats.append(l.item())"
   ]
  },
  {
   "cell_type": "code",
   "execution_count": 89,
   "id": "b4019e3f-c9bb-4b03-b70d-934dde143452",
   "metadata": {},
   "outputs": [
    {
     "data": {
      "text/plain": [
       "(-3.0, 0.0)"
      ]
     },
     "execution_count": 89,
     "metadata": {},
     "output_type": "execute_result"
    },
    {
     "data": {
      "image/png": "[encoded data removed]",
      "text/plain": [
       "<Figure size 640x480 with 1 Axes>"
      ]
     },
     "metadata": {},
     "output_type": "display_data"
    }
   ],
   "source": [
    "plt.plot(lre, stats)\n",
    "plt.xlim(-3, 0)\n",
    "#plt.yscale(\"log\")"
   ]
  },
  {
   "cell_type": "markdown",
   "id": "cd6869c1-be5d-4487-8808-068171ced2fb",
   "metadata": {},
   "source": [
    "### Training"
   ]
  },
  {
   "cell_type": "code",
   "execution_count": 90,
   "id": "5c5be0a4-e795-4f14-b6a1-e9b27ef31806",
   "metadata": {},
   "outputs": [
    {
     "name": "stdout",
     "output_type": "stream",
     "text": [
      "Epoch 0: loss 2.3009 2.3196\n",
      "Epoch 1: loss 2.2876 2.3166\n",
      "Epoch 2: loss 2.2721 2.3019\n",
      "Epoch 3: loss 2.2478 2.2805\n",
      "Epoch 4: loss 2.2622 2.2947\n",
      "Epoch 5: loss 2.2613 2.2965\n",
      "Epoch 6: loss 2.2289 2.2584\n",
      "Epoch 7: loss 2.2379 2.2647\n",
      "Epoch 8: loss 2.2338 2.2738\n",
      "Epoch 9: loss 2.2197 2.2608\n",
      "Epoch 10: loss 2.2193 2.2598\n",
      "Epoch 11: loss 2.2115 2.2474\n",
      "Epoch 12: loss 2.2123 2.2568\n",
      "Epoch 13: loss 2.2069 2.2498\n",
      "Epoch 14: loss 2.2013 2.2420\n",
      "Epoch 15: loss 2.1913 2.2286\n",
      "Epoch 16: loss 2.1904 2.2340\n",
      "Epoch 17: loss 2.1926 2.2414\n",
      "Epoch 18: loss 2.1774 2.2205\n",
      "Epoch 19: loss 2.1776 2.2226\n",
      "Epoch 20: loss 2.1765 2.2241\n",
      "Epoch 21: loss 2.1680 2.2156\n",
      "Epoch 22: loss 2.1747 2.2160\n",
      "Epoch 23: loss 2.1602 2.2084\n",
      "Epoch 24: loss 2.1664 2.2160\n",
      "Epoch 25: loss 2.1603 2.2048\n",
      "Epoch 26: loss 2.1583 2.2032\n",
      "Epoch 27: loss 2.1523 2.2004\n",
      "Epoch 28: loss 2.1529 2.2046\n",
      "Epoch 29: loss 2.1464 2.1991\n",
      "Epoch 30: loss 2.1362 2.1865\n",
      "Epoch 31: loss 2.1384 2.1874\n",
      "Epoch 32: loss 2.1429 2.1960\n",
      "Epoch 33: loss 2.1388 2.1883\n",
      "Epoch 34: loss 2.1302 2.1823\n",
      "Epoch 35: loss 2.1360 2.1878\n",
      "Epoch 36: loss 2.1211 2.1747\n",
      "Epoch 37: loss 2.1244 2.1794\n",
      "Epoch 38: loss 2.1292 2.1829\n",
      "Epoch 39: loss 2.1219 2.1782\n",
      "Epoch 40: loss 2.1204 2.1748\n",
      "Epoch 41: loss 2.1241 2.1801\n",
      "Epoch 42: loss 2.1183 2.1742\n",
      "Epoch 43: loss 2.1146 2.1739\n",
      "Epoch 44: loss 2.1119 2.1697\n",
      "Epoch 45: loss 2.1107 2.1683\n",
      "Epoch 46: loss 2.1104 2.1694\n",
      "Epoch 47: loss 2.1121 2.1719\n",
      "Epoch 48: loss 2.1049 2.1625\n",
      "Epoch 49: loss 2.1041 2.1623\n",
      "Epoch 50: loss 2.1067 2.1657\n",
      "Epoch 51: loss 2.1038 2.1624\n",
      "Epoch 52: loss 2.1046 2.1665\n",
      "Epoch 53: loss 2.1046 2.1634\n",
      "Epoch 54: loss 2.1029 2.1634\n",
      "Epoch 55: loss 2.1010 2.1616\n",
      "Epoch 56: loss 2.0988 2.1561\n",
      "Epoch 57: loss 2.0976 2.1587\n",
      "Epoch 58: loss 2.0971 2.1578\n",
      "Epoch 59: loss 2.1012 2.1623\n"
     ]
    }
   ],
   "source": [
    "model = MLP(**model_parameters)\n",
    "\n",
    "data_loader = torch.utils.data.DataLoader(\n",
    "    Dataset(Xtr, Ytr), \n",
    "    batch_size=batch_size, \n",
    "    shuffle=True, \n",
    "    generator=generator\n",
    ")\n",
    "\n",
    "optimizer = torch.optim.Adam(model.parameters(), lr=10**(-2))\n",
    "scheduler = torch.optim.lr_scheduler.MultiplicativeLR(\n",
    "    optimizer, lr_lambda=lambda x: 0.9 if x % 3 == 0 and x > 0 else 1.)\n",
    "\n",
    "epochs = 60\n",
    "for e in range(epochs):\n",
    "    for x, y in data_loader:\n",
    "        \n",
    "        optimizer.zero_grad()\n",
    "        yhat = model(x)\n",
    "        l = loss(yhat.float(), y)\n",
    "        l.backward()\n",
    "        optimizer.step()\n",
    "        \n",
    "    with torch.no_grad():\n",
    "        yhat = model(Xtr)\n",
    "        ltr = loss(yhat.float(), Ytr)\n",
    "        yhat_dev = model(Xdev)\n",
    "        ldev = loss(yhat_dev.float(), Ydev)\n",
    "        print(f\"Epoch {e}: loss {ltr.item():.4f} {ldev.item():.4f}\")\n",
    "    scheduler.step()"
   ]
  },
  {
   "cell_type": "markdown",
   "id": "31b81316-535e-47a1-880c-dc9acae82a42",
   "metadata": {},
   "source": [
    "### Evaluation"
   ]
  },
  {
   "cell_type": "code",
   "execution_count": 91,
   "id": "e1bea16a-9908-4014-a4bb-4d0d1c79129c",
   "metadata": {},
   "outputs": [
    {
     "name": "stdout",
     "output_type": "stream",
     "text": [
      "Loss: train 2.1012 dev 2.1623 test 2.1626\n"
     ]
    }
   ],
   "source": [
    "with torch.no_grad():\n",
    "    yhat = model(Xtr)\n",
    "    ltr = loss(yhat.float(), Ytr)\n",
    "    yhat_dev = model(Xdev)\n",
    "    ldev = loss(yhat_dev.float(), Ydev)\n",
    "    yhat_te = model(Xte)\n",
    "    lte = loss(yhat_te.float(), Yte)\n",
    "    print(f\"Loss: train {ltr.item():.4f} dev {ldev.item():.4f} test {lte:.4f}\")"
   ]
  },
  {
   "cell_type": "markdown",
   "id": "8b167730-1c77-4722-b841-cc44afe8d35b",
   "metadata": {},
   "source": [
    "## Generate new names"
   ]
  },
  {
   "cell_type": "code",
   "execution_count": 93,
   "id": "8fba2737-3972-4a49-bf0d-663831511e05",
   "metadata": {},
   "outputs": [
    {
     "name": "stdout",
     "output_type": "stream",
     "text": [
      "keli.\n",
      "jia.\n",
      "alee.\n",
      "awin.\n",
      "hano.\n",
      "liah.\n",
      "liphine.\n",
      "mari.\n",
      "alo.\n",
      "bechi.\n"
     ]
    }
   ],
   "source": [
    "for _ in range(10):\n",
    "    print(model.generate_name(generator=generator))"
   ]
  }
 ],
 "metadata": {
  "kernelspec": {
   "display_name": "Python 3 (ipykernel)",
   "language": "python",
   "name": "python3"
  },
  "language_info": {
   "codemirror_mode": {
    "name": "ipython",
    "version": 3
   },
   "file_extension": ".py",
   "mimetype": "text/x-python",
   "name": "python",
   "nbconvert_exporter": "python",
   "pygments_lexer": "ipython3",
   "version": "3.9.6"
  }
 },
 "nbformat": 4,
 "nbformat_minor": 5
}
