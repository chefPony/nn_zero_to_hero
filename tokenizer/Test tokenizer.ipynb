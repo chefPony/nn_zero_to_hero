{
 "cells": [
  {
   "cell_type": "code",
   "execution_count": 1,
   "id": "29050988-d802-4e6a-9b2e-53045ffefde3",
   "metadata": {},
   "outputs": [],
   "source": [
    "%reload_ext autoreload\n",
    "%autoreload 2\n",
    "from tokenizer import BasicTokenizer"
   ]
  },
  {
   "cell_type": "markdown",
   "id": "ad3f294c-43d0-4e66-996c-335cb643e086",
   "metadata": {},
   "source": [
    "## Little test"
   ]
  },
  {
   "cell_type": "code",
   "execution_count": 2,
   "id": "202dc850-86b9-4b16-8e8f-d3b7e0d16115",
   "metadata": {},
   "outputs": [
    {
     "name": "stdout",
     "output_type": "stream",
     "text": [
      "(32 , 98) => 14\n",
      "((0, 3) , 97) => 15\n",
      "(66 , 97) => 16\n",
      "((2, 1) , 108) => 17\n",
      "((16, 8) , 98) => 18\n",
      "((17, 3) , 101) => 19\n"
     ]
    }
   ],
   "source": [
    "test = \"Balbettante bambocciona banda di babbuini\"\n",
    "tok = BasicTokenizer()\n",
    "tok.train(test, vocab_size=20, verbose=True)"
   ]
  },
  {
   "cell_type": "code",
   "execution_count": 3,
   "id": "d2dcb995-d5bd-4a8b-88d9-1323fcd97311",
   "metadata": {},
   "outputs": [
    {
     "data": {
      "text/plain": [
       "{0: b' ',\n",
       " 1: b'a',\n",
       " 2: b'B',\n",
       " 3: b'b',\n",
       " 4: b'c',\n",
       " 5: b'e',\n",
       " 6: b'd',\n",
       " 7: b'i',\n",
       " 8: b'l',\n",
       " 9: b'm',\n",
       " 10: b'n',\n",
       " 11: b'o',\n",
       " 12: b't',\n",
       " 13: b'u',\n",
       " 14: b' b',\n",
       " 15: b' ba',\n",
       " 16: b'Ba',\n",
       " 17: b'Bal',\n",
       " 18: b'Balb',\n",
       " 19: b'Balbe'}"
      ]
     },
     "execution_count": 3,
     "metadata": {},
     "output_type": "execute_result"
    }
   ],
   "source": [
    "{i: tok.show_token(i) for i in range(len(tok.tokens))}"
   ]
  },
  {
   "cell_type": "code",
   "execution_count": 4,
   "id": "6d10ae07-791d-44a9-b97c-056e8f6afcca",
   "metadata": {},
   "outputs": [],
   "source": [
    "encoded_test = tok.encode(test)"
   ]
  },
  {
   "cell_type": "code",
   "execution_count": 5,
   "id": "10a1de67-5083-4a4d-b91d-3e18808de59e",
   "metadata": {},
   "outputs": [
    {
     "data": {
      "text/plain": [
       "[2,\n",
       " 1,\n",
       " 8,\n",
       " 3,\n",
       " 5,\n",
       " 12,\n",
       " 12,\n",
       " 1,\n",
       " 10,\n",
       " 12,\n",
       " 5,\n",
       " 0,\n",
       " 3,\n",
       " 1,\n",
       " 9,\n",
       " 3,\n",
       " 11,\n",
       " 4,\n",
       " 4,\n",
       " 7,\n",
       " 11,\n",
       " 10,\n",
       " 1,\n",
       " 0,\n",
       " 3,\n",
       " 1,\n",
       " 10,\n",
       " 6,\n",
       " 1,\n",
       " 0,\n",
       " 6,\n",
       " 7,\n",
       " 0,\n",
       " 3,\n",
       " 1,\n",
       " 3,\n",
       " 3,\n",
       " 13,\n",
       " 7,\n",
       " 10,\n",
       " 7]"
      ]
     },
     "execution_count": 5,
     "metadata": {},
     "output_type": "execute_result"
    }
   ],
   "source": [
    "encoded_test"
   ]
  },
  {
   "cell_type": "code",
   "execution_count": 6,
   "id": "bc6942c8-4df9-4360-834e-9b3ca9ff19d2",
   "metadata": {},
   "outputs": [
    {
     "data": {
      "text/plain": [
       "b'Balbettante bambocciona banda di babbuini'"
      ]
     },
     "execution_count": 6,
     "metadata": {},
     "output_type": "execute_result"
    }
   ],
   "source": [
    "tok.decode(encoded_test)"
   ]
  },
  {
   "cell_type": "markdown",
   "id": "f8b25e89-6d1d-40b7-9dac-1b7ffe6770b5",
   "metadata": {},
   "source": [
    "Big test"
   ]
  },
  {
   "cell_type": "code",
   "execution_count": 7,
   "id": "81523f9a-eb52-4023-8c9d-22ed5c486ecf",
   "metadata": {},
   "outputs": [],
   "source": [
    "with open(\"taylor_swift.txt\", \"r\") as f:\n",
    "    text = f.read()"
   ]
  },
  {
   "cell_type": "code",
   "execution_count": 8,
   "id": "8333b3a1-e9fa-4ac1-be9a-b38cfcfff810",
   "metadata": {
    "scrolled": true
   },
   "outputs": [
    {
     "name": "stdout",
     "output_type": "stream",
     "text": [
      "(101 , 32) => 99\n",
      "(44 , 32) => 100\n",
      "(100 , 32) => 101\n",
      "(46 , 32) => 102\n",
      "(114 , 32) => 103\n",
      "(50 , 48) => 104\n",
      "(115 , 32) => 105\n",
      "(105 , 110) => 106\n",
      "(111 , 110) => 107\n",
      "(114 , 105) => 108\n",
      "(116 , 32) => 109\n",
      "(116 , 104) => 110\n",
      "(101 , (61, 2)) => 111\n",
      "((12, 2) , (18, 16)) => 112\n",
      "(97 , 110) => 113\n",
      "(97 , 114) => 114\n",
      "(101 , (75, 2)) => 115\n",
      "(121 , 32) => 116\n",
      "(97 , 108) => 117\n",
      "((77, 65) , (62, 2)) => 118\n",
      "(118 , (62, 101)) => 119\n",
      "(119 , 105) => 120\n",
      "(101 , 114) => 121\n",
      "((72, 71) , 32) => 122\n",
      "((80, 66) , 102) => 123\n",
      "(82 , 101) => 124\n",
      "(83 , (120, 63)) => 125\n",
      "(111 , (75, 2)) => 126\n",
      "(99 , 104) => 127\n",
      "((100, 104) , 49) => 128\n",
      "(111 , 109) => 129\n",
      "(98 , (62, 103)) => 130\n",
      "(32 , (110, 99)) => 131\n",
      "(97 , 121) => 132\n",
      "(101 , 110) => 133\n",
      "(111 , 114) => 134\n",
      "((58, 69) , 32) => 135\n",
      "(101 , 109) => 136\n",
      "(46 , 10) => 137\n",
      "((75, 66) , 101) => 138\n",
      "((66, 71) , 103) => 139\n",
      "((100, 104) , 50) => 140\n",
      "(116 , 105) => 141\n",
      "((58, 82) , 108) => 142\n",
      "(34 , (14, 2)) => 143\n",
      "(108 , 108) => 144\n",
      "(84 , (132, 69)) => 145\n",
      "(116 , (108, 62)) => 146\n",
      "((14, 1) , 32) => 147\n",
      "(116 , 111) => 148\n",
      "((14, 2) , (47, 62)) => 149\n",
      "((102, 124) , (77, 138)) => 150\n",
      "((149, 146) , (79, 111)) => 151\n",
      "((49, 142) , (72, 103)) => 152\n",
      "(101 , 115) => 153\n",
      "((145, 126) , (48, 123)) => 154\n",
      "(117 , 115) => 155\n",
      "(114 , (72, 70)) => 156\n",
      "((62, 70) , (59, 115)) => 157\n",
      "(41 , (14, 2)) => 158\n",
      "(65 , 114) => 159\n",
      "(102 , (75, 129)) => 160\n",
      "((10, 102) , 34) => 161\n",
      "((58, 71) , (61, 2)) => 162\n",
      "(114 , 101) => 163\n",
      "(111 , 117) => 164\n",
      "(111 , (75, 66)) => 165\n",
      "(111 , 102) => 166\n",
      "(103 , (66, 71)) => 167\n",
      "((106, 64) , 32) => 168\n",
      "((60, 65) , 105) => 169\n",
      "(93 , 32) => 170\n",
      "((64, 106) , (117, 2)) => 171\n",
      "((63, 156) , (2, 118)) => 172\n",
      "((72, 108) , (167, 135)) => 173\n",
      "(104 , (62, 2)) => 174\n",
      "((30, 75) , (127, 66)) => 175\n",
      "((159, 169) , (79, 111)) => 176\n",
      "((160, 131) , (165, 171)) => 177\n",
      "((175, 119) , (172, 173)) => 178\n",
      "((176, 177) , (107, 2)) => 179\n",
      "((14, 2) , (178, 122)) => 180\n",
      "(97 , 32) => 181\n",
      "(115 , 116) => 182\n",
      "(105 , 99) => 183\n",
      "(46 , 91) => 184\n",
      "(101 , 99) => 185\n",
      "(105 , (69, 69)) => 186\n",
      "(39 , (76, 2)) => 187\n",
      "((152, 125) , (77, 2)) => 188\n",
      "(111 , 118) => 189\n",
      "(97 , 116) => 190\n",
      "(97 , (76, 2)) => 191\n",
      "(101 , (76, 2)) => 192\n",
      "(74 , 117) => 193\n",
      "((72, 63) , 32) => 194\n",
      "((77, 72) , 32) => 195\n",
      "(117 , 109) => 196\n",
      "(84 , (65, 99)) => 197\n",
      "((58, 75) , 100) => 198\n",
      "((66, 71) , 32) => 199\n"
     ]
    }
   ],
   "source": [
    "tokenizer = BasicTokenizer()\n",
    "tokenizer.train(text, vocab_size=200, verbose=True)"
   ]
  },
  {
   "cell_type": "code",
   "execution_count": 10,
   "id": "ab711da0-ec79-49a1-be8a-ac3c152632b3",
   "metadata": {},
   "outputs": [
    {
     "data": {
      "text/plain": [
       "{0: b'\\t',\n",
       " 1: b'\\n',\n",
       " 2: b' ',\n",
       " 3: b'!',\n",
       " 4: b'\"',\n",
       " 5: b'#',\n",
       " 6: b'$',\n",
       " 7: b'&',\n",
       " 8: b\"'\",\n",
       " 9: b'(',\n",
       " 10: b')',\n",
       " 11: b'+',\n",
       " 12: b',',\n",
       " 13: b'-',\n",
       " 14: b'.',\n",
       " 15: b'/',\n",
       " 16: b'0',\n",
       " 17: b'1',\n",
       " 18: b'2',\n",
       " 19: b'3',\n",
       " 20: b'4',\n",
       " 21: b'5',\n",
       " 22: b'6',\n",
       " 23: b'7',\n",
       " 24: b'8',\n",
       " 25: b'9',\n",
       " 26: b':',\n",
       " 27: b';',\n",
       " 28: b'?',\n",
       " 29: b'@',\n",
       " 30: b'A',\n",
       " 31: b'B',\n",
       " 32: b'C',\n",
       " 33: b'D',\n",
       " 34: b'E',\n",
       " 35: b'F',\n",
       " 36: b'G',\n",
       " 37: b'H',\n",
       " 38: b'I',\n",
       " 39: b'J',\n",
       " 40: b'K',\n",
       " 41: b'L',\n",
       " 42: b'M',\n",
       " 43: b'N',\n",
       " 44: b'O',\n",
       " 45: b'P',\n",
       " 46: b'Q',\n",
       " 47: b'R',\n",
       " 48: b'S',\n",
       " 49: b'T',\n",
       " 50: b'U',\n",
       " 51: b'V',\n",
       " 52: b'W',\n",
       " 53: b'X',\n",
       " 54: b'Y',\n",
       " 55: b'Z',\n",
       " 56: b'[',\n",
       " 57: b']',\n",
       " 58: b'a',\n",
       " 59: b'b',\n",
       " 60: b'c',\n",
       " 61: b'd',\n",
       " 62: b'e',\n",
       " 63: b'f',\n",
       " 64: b'g',\n",
       " 65: b'h',\n",
       " 66: b'i',\n",
       " 67: b'j',\n",
       " 68: b'k',\n",
       " 69: b'l',\n",
       " 70: b'm',\n",
       " 71: b'n',\n",
       " 72: b'o',\n",
       " 73: b'p',\n",
       " 74: b'q',\n",
       " 75: b'r',\n",
       " 76: b's',\n",
       " 77: b't',\n",
       " 78: b'u',\n",
       " 79: b'v',\n",
       " 80: b'w',\n",
       " 81: b'x',\n",
       " 82: b'y',\n",
       " 83: b'z',\n",
       " 84: b'\\x80',\n",
       " 85: b'\\x84',\n",
       " 86: b'\\x93',\n",
       " 87: b'\\x94',\n",
       " 88: b'\\xa1',\n",
       " 89: b'\\xa2',\n",
       " 90: b'\\xa3',\n",
       " 91: b'\\xa9',\n",
       " 92: b'\\xad',\n",
       " 93: b'\\xae',\n",
       " 94: b'\\xb1',\n",
       " 95: b'\\xb6',\n",
       " 96: b'\\xc2',\n",
       " 97: b'\\xc3',\n",
       " 98: b'\\xe2',\n",
       " 99: b'e ',\n",
       " 100: b', ',\n",
       " 101: b'd ',\n",
       " 102: b'. ',\n",
       " 103: b'r ',\n",
       " 104: b'20',\n",
       " 105: b's ',\n",
       " 106: b'in',\n",
       " 107: b'on',\n",
       " 108: b'ri',\n",
       " 109: b't ',\n",
       " 110: b'th',\n",
       " 111: b'ed ',\n",
       " 112: b', 20',\n",
       " 113: b'an',\n",
       " 114: b'ar',\n",
       " 115: b'er ',\n",
       " 116: b'y ',\n",
       " 117: b'al',\n",
       " 118: b'the ',\n",
       " 119: b'ved ',\n",
       " 120: b'wi',\n",
       " 121: b'er',\n",
       " 122: b'on ',\n",
       " 123: b'wif',\n",
       " 124: b'Re',\n",
       " 125: b'Swif',\n",
       " 126: b'or ',\n",
       " 127: b'ch',\n",
       " 128: b', 201',\n",
       " 129: b'om',\n",
       " 130: b'ber ',\n",
       " 131: b' the ',\n",
       " 132: b'ay',\n",
       " 133: b'en',\n",
       " 134: b'or',\n",
       " 135: b'al ',\n",
       " 136: b'em',\n",
       " 137: b'.\\n',\n",
       " 138: b'rie',\n",
       " 139: b'ing',\n",
       " 140: b', 202',\n",
       " 141: b'ti',\n",
       " 142: b'ayl',\n",
       " 143: b'\". ',\n",
       " 144: b'll',\n",
       " 145: b'Tayl',\n",
       " 146: b'trie',\n",
       " 147: b'.\\n ',\n",
       " 148: b'to',\n",
       " 149: b'. Re',\n",
       " 150: b'. Retrie',\n",
       " 151: b'. Retrieved ',\n",
       " 152: b'Taylor ',\n",
       " 153: b'es',\n",
       " 154: b'Taylor Swif',\n",
       " 155: b'us',\n",
       " 156: b'rom',\n",
       " 157: b'ember ',\n",
       " 158: b'). ',\n",
       " 159: b'Ar',\n",
       " 160: b'from',\n",
       " 161: b'). \"',\n",
       " 162: b'and ',\n",
       " 163: b're',\n",
       " 164: b'ou',\n",
       " 165: b'ori',\n",
       " 166: b'of',\n",
       " 167: b'gin',\n",
       " 168: b'ing ',\n",
       " 169: b'chi',\n",
       " 170: b'] ',\n",
       " 171: b'ginal ',\n",
       " 172: b'from the ',\n",
       " 173: b'original ',\n",
       " 174: b'he ',\n",
       " 175: b'Archi',\n",
       " 176: b'Archived ',\n",
       " 177: b'from the original ',\n",
       " 178: b'Archived from the original ',\n",
       " 179: b'Archived from the original on ',\n",
       " 180: b'. Archived from the original on ',\n",
       " 181: b'a ',\n",
       " 182: b'st',\n",
       " 183: b'ic',\n",
       " 184: b'.[',\n",
       " 185: b'ec',\n",
       " 186: b'ill',\n",
       " 187: b\"'s \",\n",
       " 188: b'Taylor Swift ',\n",
       " 189: b'ov',\n",
       " 190: b'at',\n",
       " 191: b'as ',\n",
       " 192: b'es ',\n",
       " 193: b'Ju',\n",
       " 194: b'of ',\n",
       " 195: b'to ',\n",
       " 196: b'um',\n",
       " 197: b'The ',\n",
       " 198: b'ard',\n",
       " 199: b'in '}"
      ]
     },
     "execution_count": 10,
     "metadata": {},
     "output_type": "execute_result"
    }
   ],
   "source": [
    "{i: tokenizer.show_token(i) for i in range(len(tokenizer.tokens))}"
   ]
  },
  {
   "cell_type": "code",
   "execution_count": 67,
   "id": "255ea9e2-cee9-4323-be5d-b314852a9040",
   "metadata": {},
   "outputs": [
    {
     "data": {
      "text/plain": [
       "(18, 5)"
      ]
     },
     "execution_count": 67,
     "metadata": {},
     "output_type": "execute_result"
    }
   ],
   "source": [
    "tok.tokens[19]"
   ]
  },
  {
   "cell_type": "code",
   "execution_count": 69,
   "id": "4566fe99-ea1f-47b2-9376-1d562110887a",
   "metadata": {},
   "outputs": [
    {
     "data": {
      "text/plain": [
       "{0: b' ',\n",
       " 1: b'a',\n",
       " 2: b'B',\n",
       " 3: b'b',\n",
       " 4: b'c',\n",
       " 5: b'e',\n",
       " 6: b'd',\n",
       " 7: b'i',\n",
       " 8: b'l',\n",
       " 9: b'm',\n",
       " 10: b'n',\n",
       " 11: b'o',\n",
       " 12: b't',\n",
       " 13: b'u',\n",
       " 14: b' b',\n",
       " 15: b' ba',\n",
       " 16: b'Ba',\n",
       " 17: b'Bal',\n",
       " 18: b'Balb',\n",
       " 19: b'Balbe'}"
      ]
     },
     "execution_count": 69,
     "metadata": {},
     "output_type": "execute_result"
    }
   ],
   "source": []
  },
  {
   "cell_type": "code",
   "execution_count": 39,
   "id": "19ed9fcf-97b7-4de9-887b-7cb83b230732",
   "metadata": {},
   "outputs": [
    {
     "data": {
      "text/plain": [
       "[32,\n",
       " 97,\n",
       " 66,\n",
       " 98,\n",
       " 99,\n",
       " 101,\n",
       " 100,\n",
       " 105,\n",
       " 108,\n",
       " 109,\n",
       " 110,\n",
       " 111,\n",
       " 116,\n",
       " 117,\n",
       " (0, 3),\n",
       " (15, 1),\n",
       " (2, 1),\n",
       " (17, 8),\n",
       " (18, 3),\n",
       " (19, 5)]"
      ]
     },
     "execution_count": 39,
     "metadata": {},
     "output_type": "execute_result"
    }
   ],
   "source": [
    "tok.tokens"
   ]
  },
  {
   "cell_type": "code",
   "execution_count": 70,
   "id": "e148504c-fbd2-4770-8472-9ffdcc0e1e53",
   "metadata": {},
   "outputs": [],
   "source": [
    "encoded_test = tok.encode(test)"
   ]
  },
  {
   "cell_type": "code",
   "execution_count": 71,
   "id": "032d7a5e-754b-477f-a64f-98edcf3fe19b",
   "metadata": {},
   "outputs": [
    {
     "data": {
      "text/plain": [
       "[2,\n",
       " 1,\n",
       " 8,\n",
       " 3,\n",
       " 5,\n",
       " 12,\n",
       " 12,\n",
       " 1,\n",
       " 10,\n",
       " 12,\n",
       " 5,\n",
       " 0,\n",
       " 3,\n",
       " 1,\n",
       " 9,\n",
       " 3,\n",
       " 11,\n",
       " 4,\n",
       " 4,\n",
       " 7,\n",
       " 11,\n",
       " 10,\n",
       " 1,\n",
       " 0,\n",
       " 3,\n",
       " 1,\n",
       " 10,\n",
       " 6,\n",
       " 1,\n",
       " 0,\n",
       " 6,\n",
       " 7,\n",
       " 0,\n",
       " 3,\n",
       " 1,\n",
       " 3,\n",
       " 3,\n",
       " 13,\n",
       " 7,\n",
       " 10,\n",
       " 7]"
      ]
     },
     "execution_count": 71,
     "metadata": {},
     "output_type": "execute_result"
    }
   ],
   "source": [
    "encoded_test"
   ]
  },
  {
   "cell_type": "code",
   "execution_count": 72,
   "id": "964fe589-8a50-477d-bc66-7668d1011729",
   "metadata": {},
   "outputs": [
    {
     "data": {
      "text/plain": [
       "b'Balbettante bambocciona banda di babbuini'"
      ]
     },
     "execution_count": 72,
     "metadata": {},
     "output_type": "execute_result"
    }
   ],
   "source": []
  },
  {
   "cell_type": "code",
   "execution_count": 20,
   "id": "08c7ea55-c0b3-49d9-b2c8-7e727a6dfe8a",
   "metadata": {},
   "outputs": [
    {
     "data": {
      "text/plain": [
       "[32, 97, 66, 98, 99, 101, 100, 105, 108, 109, 110, 111, 116, 117]"
      ]
     },
     "execution_count": 20,
     "metadata": {},
     "output_type": "execute_result"
    }
   ],
   "source": [
    "tok.tokens"
   ]
  },
  {
   "cell_type": "code",
   "execution_count": 8,
   "id": "e5e3f454-5b31-467e-88a7-de5aab27bc7e",
   "metadata": {},
   "outputs": [
    {
     "data": {
      "text/plain": [
       "b'Balbettante bambocciona banda di babbuini'"
      ]
     },
     "execution_count": 8,
     "metadata": {},
     "output_type": "execute_result"
    }
   ],
   "source": [
    "foo = list(bytes(test, \"utf-8\"))\n",
    "bytes(foo)"
   ]
  },
  {
   "cell_type": "code",
   "execution_count": 14,
   "id": "b40ee622-6944-4fd0-b63c-24fb8fbbf9eb",
   "metadata": {},
   "outputs": [
    {
     "data": {
      "text/plain": [
       "b'Balbettante bambocciona banda di babbuini'"
      ]
     },
     "execution_count": 14,
     "metadata": {},
     "output_type": "execute_result"
    }
   ],
   "source": [
    "bytes(tok.decode(foo))"
   ]
  },
  {
   "cell_type": "code",
   "execution_count": 9,
   "id": "9d175ca7-cca6-40a4-adf8-76cc751e23a1",
   "metadata": {},
   "outputs": [
    {
     "ename": "TypeError",
     "evalue": "sequence item 0: expected a bytes-like object, int found",
     "output_type": "error",
     "traceback": [
      "\u001b[0;31m---------------------------------------------------------------------------\u001b[0m",
      "\u001b[0;31mTypeError\u001b[0m                                 Traceback (most recent call last)",
      "Cell \u001b[0;32mIn[9], line 1\u001b[0m\n\u001b[0;32m----> 1\u001b[0m \u001b[38;5;124;43mb\u001b[39;49m\u001b[38;5;124;43m\"\u001b[39;49m\u001b[38;5;124;43m\"\u001b[39;49m\u001b[38;5;241;43m.\u001b[39;49m\u001b[43mjoin\u001b[49m\u001b[43m(\u001b[49m\u001b[43mtok\u001b[49m\u001b[38;5;241;43m.\u001b[39;49m\u001b[43mdecode\u001b[49m\u001b[43m(\u001b[49m\u001b[43mencoded_test\u001b[49m\u001b[43m)\u001b[49m\u001b[43m)\u001b[49m\n",
      "\u001b[0;31mTypeError\u001b[0m: sequence item 0: expected a bytes-like object, int found"
     ]
    }
   ],
   "source": [
    "b\"\".join(tok.decode(encoded_test))"
   ]
  },
  {
   "cell_type": "code",
   "execution_count": 29,
   "id": "551d0b8e-5ccb-4593-84a7-3ee0087a72f5",
   "metadata": {},
   "outputs": [
    {
     "data": {
      "text/plain": [
       "b'Balbettante bambocciona banda di babbuini'"
      ]
     },
     "execution_count": 29,
     "metadata": {},
     "output_type": "execute_result"
    }
   ],
   "source": [
    "bytes(list(bytearray(test, \"utf-8\")))"
   ]
  },
  {
   "cell_type": "code",
   "execution_count": 30,
   "id": "34f7d7bf-8636-4e85-b693-0e179cd98a6a",
   "metadata": {},
   "outputs": [
    {
     "ename": "AttributeError",
     "evalue": "type object 'str' has no attribute 'decode'",
     "output_type": "error",
     "traceback": [
      "\u001b[0;31m---------------------------------------------------------------------------\u001b[0m",
      "\u001b[0;31mAttributeError\u001b[0m                            Traceback (most recent call last)",
      "Cell \u001b[0;32mIn[30], line 1\u001b[0m\n\u001b[0;32m----> 1\u001b[0m \u001b[38;5;28;43mstr\u001b[39;49m\u001b[38;5;241;43m.\u001b[39;49m\u001b[43mdecode\u001b[49m(tok\u001b[38;5;241m.\u001b[39mdecode(encoded_test))\n",
      "\u001b[0;31mAttributeError\u001b[0m: type object 'str' has no attribute 'decode'"
     ]
    }
   ],
   "source": [
    "str.decode(tok.decode(encoded_test))"
   ]
  }
 ],
 "metadata": {
  "kernelspec": {
   "display_name": "Python 3 (ipykernel)",
   "language": "python",
   "name": "python3"
  },
  "language_info": {
   "codemirror_mode": {
    "name": "ipython",
    "version": 3
   },
   "file_extension": ".py",
   "mimetype": "text/x-python",
   "name": "python",
   "nbconvert_exporter": "python",
   "pygments_lexer": "ipython3",
   "version": "3.9.6"
  }
 },
 "nbformat": 4,
 "nbformat_minor": 5
}
