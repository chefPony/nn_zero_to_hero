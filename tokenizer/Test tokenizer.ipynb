{
 "cells": [
  {
   "cell_type": "code",
   "execution_count": null,
   "id": "29050988-d802-4e6a-9b2e-53045ffefde3",
   "metadata": {},
   "outputs": [],
   "source": [
    "%reload_ext autoreload\n",
    "%autoreload 2\n",
    "from tokenizer import BasicTokenizer"
   ]
  },
  {
   "cell_type": "markdown",
   "id": "ad3f294c-43d0-4e66-996c-335cb643e086",
   "metadata": {},
   "source": [
    "## Little test"
   ]
  },
  {
   "cell_type": "code",
   "execution_count": null,
   "id": "202dc850-86b9-4b16-8e8f-d3b7e0d16115",
   "metadata": {},
   "outputs": [],
   "source": [
    "test = \"Balbettante bambocciona banda di babbuini\"\n",
    "tok = BasicTokenizer()\n",
    "tok.train(test, vocab_size=20, verbose=True)"
   ]
  },
  {
   "cell_type": "code",
   "execution_count": null,
   "id": "d2dcb995-d5bd-4a8b-88d9-1323fcd97311",
   "metadata": {},
   "outputs": [],
   "source": [
    "{i: tok.decode_token(i) for i in range(len(tok.tokens))}"
   ]
  },
  {
   "cell_type": "code",
   "execution_count": null,
   "id": "6d10ae07-791d-44a9-b97c-056e8f6afcca",
   "metadata": {},
   "outputs": [],
   "source": [
    "encoded_test = tok.encode(test, tok.tokens)"
   ]
  },
  {
   "cell_type": "code",
   "execution_count": null,
   "id": "10a1de67-5083-4a4d-b91d-3e18808de59e",
   "metadata": {},
   "outputs": [],
   "source": [
    "encoded_test"
   ]
  },
  {
   "cell_type": "code",
   "execution_count": null,
   "id": "bc6942c8-4df9-4360-834e-9b3ca9ff19d2",
   "metadata": {},
   "outputs": [],
   "source": [
    "tok.decode(encoded_test)"
   ]
  },
  {
   "cell_type": "markdown",
   "id": "f8b25e89-6d1d-40b7-9dac-1b7ffe6770b5",
   "metadata": {},
   "source": [
    "Big test"
   ]
  },
  {
   "cell_type": "code",
   "execution_count": null,
   "id": "81523f9a-eb52-4023-8c9d-22ed5c486ecf",
   "metadata": {},
   "outputs": [],
   "source": [
    "with open(\"taylor_swift.txt\", \"r\") as f:\n",
    "    text = f.read()"
   ]
  },
  {
   "cell_type": "code",
   "execution_count": null,
   "id": "8333b3a1-e9fa-4ac1-be9a-b38cfcfff810",
   "metadata": {
    "scrolled": true
   },
   "outputs": [],
   "source": [
    "tokenizer = BasicTokenizer()\n",
    "tokenizer.train(text, vocab_size=200, verbose=True)"
   ]
  },
  {
   "cell_type": "code",
   "execution_count": null,
   "id": "ab711da0-ec79-49a1-be8a-ac3c152632b3",
   "metadata": {
    "scrolled": true
   },
   "outputs": [],
   "source": [
    "decode = {i: tokenizer.decode_token(i) for i in range(len(tokenizer.tokens))}"
   ]
  },
  {
   "cell_type": "code",
   "execution_count": null,
   "id": "a68dbcb4-22f2-4d8e-8a84-709cf1612a04",
   "metadata": {},
   "outputs": [],
   "source": [
    "encoded_text = tokenizer.encode(text, tokenizer.tokens)"
   ]
  },
  {
   "cell_type": "code",
   "execution_count": null,
   "id": "0bd57eda-d3d7-4998-be5d-6e2a8b4dbe60",
   "metadata": {
    "scrolled": true
   },
   "outputs": [],
   "source": [
    "b''.join([decode[t] for t in encoded_text])"
   ]
  },
  {
   "cell_type": "code",
   "execution_count": null,
   "id": "4ba1b1cf-1de8-41f4-a1c4-361a2a03cb7c",
   "metadata": {},
   "outputs": [],
   "source": [
    "%reload_ext autoreload\n",
    "%autoreload 2\n",
    "from tokenizer import RegexTokenizer\n",
    "import regex as re"
   ]
  },
  {
   "cell_type": "code",
   "execution_count": null,
   "id": "19ed9fcf-97b7-4de9-887b-7cb83b230732",
   "metadata": {},
   "outputs": [],
   "source": [
    "regex_tok = RegexTokenizer()"
   ]
  },
  {
   "cell_type": "code",
   "execution_count": null,
   "id": "18312334-659c-4171-9aba-fbb3f1bbaf4e",
   "metadata": {},
   "outputs": [],
   "source": [
    "regex_tok.train(text, vocab_size=200)"
   ]
  },
  {
   "cell_type": "code",
   "execution_count": null,
   "id": "e148504c-fbd2-4770-8472-9ffdcc0e1e53",
   "metadata": {},
   "outputs": [],
   "source": [
    "decode = {i: regex_tok.decode_token(i) for i in range(len(regex_tok.tokens))}"
   ]
  },
  {
   "cell_type": "code",
   "execution_count": null,
   "id": "0b3a2d3d-ac42-4205-9264-bdc2a20650cc",
   "metadata": {},
   "outputs": [],
   "source": [
    "encoded_text = regex_tok.encode(text, regex_tok.tokens)"
   ]
  },
  {
   "cell_type": "code",
   "execution_count": null,
   "id": "7fb66aa2-284f-4bc3-a4d1-15ef55d77cb8",
   "metadata": {},
   "outputs": [],
   "source": [
    "decode"
   ]
  },
  {
   "cell_type": "code",
   "execution_count": null,
   "id": "f4754e8e-c8f6-41df-a387-7b657de2748a",
   "metadata": {
    "scrolled": true
   },
   "outputs": [],
   "source": [
    "regex_tok.decode(encoded_text)"
   ]
  }
 ],
 "metadata": {
  "kernelspec": {
   "display_name": "Python 3 (ipykernel)",
   "language": "python",
   "name": "python3"
  },
  "language_info": {
   "codemirror_mode": {
    "name": "ipython",
    "version": 3
   },
   "file_extension": ".py",
   "mimetype": "text/x-python",
   "name": "python",
   "nbconvert_exporter": "python",
   "pygments_lexer": "ipython3",
   "version": "3.9.6"
  }
 },
 "nbformat": 4,
 "nbformat_minor": 5
}
