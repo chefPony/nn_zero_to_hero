{
  "nbformat": 4,
  "nbformat_minor": 0,
  "metadata": {
    "colab": {
      "provenance": [],
      "gpuType": "T4",
      "authorship_tag": "ABX9TyOr+ly+o6eexTD/BTOWyKbx",
      "include_colab_link": true
    },
    "kernelspec": {
      "name": "python3",
      "display_name": "Python 3"
    },
    "language_info": {
      "name": "python"
    },
    "accelerator": "GPU"
  },
  "cells": [
    {
      "cell_type": "markdown",
      "metadata": {
        "id": "view-in-github",
        "colab_type": "text"
      },
      "source": [
        "<a href=\"https://colab.research.google.com/github/chefPony/nn_zero_to_hero/blob/master/makemore_part5_wavenet.ipynb\" target=\"_parent\"><img src=\"https://colab.research.google.com/assets/colab-badge.svg\" alt=\"Open In Colab\"/></a>"
      ]
    },
    {
      "cell_type": "code",
      "execution_count": 1,
      "metadata": {
        "id": "LfgaTqz3w6ct"
      },
      "outputs": [],
      "source": [
        "from collections import deque\n",
        "import torch\n",
        "import torch.nn.functional as F\n",
        "import matplotlib.pyplot as plt # for making figures\n",
        "%matplotlib inline"
      ]
    },
    {
      "cell_type": "code",
      "source": [
        "!wget https://raw.githubusercontent.com/chefPony/nn_zero_to_hero/master/makemore/data/names_usa.txt"
      ],
      "metadata": {
        "colab": {
          "base_uri": "https://localhost:8080/"
        },
        "id": "bAJDuCvqxGMh",
        "outputId": "e1632e39-5a83-4cbc-b1e1-a42693f3adb1"
      },
      "execution_count": 2,
      "outputs": [
        {
          "output_type": "stream",
          "name": "stdout",
          "text": [
            "--2024-08-31 12:26:50--  https://raw.githubusercontent.com/chefPony/nn_zero_to_hero/master/makemore/data/names_usa.txt\n",
            "Resolving raw.githubusercontent.com (raw.githubusercontent.com)... 185.199.110.133, 185.199.111.133, 185.199.108.133, ...\n",
            "Connecting to raw.githubusercontent.com (raw.githubusercontent.com)|185.199.110.133|:443... connected.\n",
            "HTTP request sent, awaiting response... 200 OK\n",
            "Length: 228145 (223K) [text/plain]\n",
            "Saving to: ‘names_usa.txt’\n",
            "\n",
            "\rnames_usa.txt         0%[                    ]       0  --.-KB/s               \rnames_usa.txt       100%[===================>] 222.80K  --.-KB/s    in 0.03s   \n",
            "\n",
            "2024-08-31 12:26:51 (6.33 MB/s) - ‘names_usa.txt’ saved [228145/228145]\n",
            "\n"
          ]
        }
      ]
    },
    {
      "cell_type": "code",
      "source": [
        "# read in all the words\n",
        "words = open('names_usa.txt', 'r').read().splitlines()\n",
        "print(len(words))\n",
        "print(max(len(w) for w in words))\n",
        "print(words[:8])"
      ],
      "metadata": {
        "colab": {
          "base_uri": "https://localhost:8080/"
        },
        "id": "PbL0f6LExUBc",
        "outputId": "70db9b9a-5a66-4303-d16a-9f611bb58e22"
      },
      "execution_count": 3,
      "outputs": [
        {
          "output_type": "stream",
          "name": "stdout",
          "text": [
            "32033\n",
            "15\n",
            "['emma', 'olivia', 'ava', 'isabella', 'sophia', 'charlotte', 'mia', 'amelia']\n"
          ]
        }
      ]
    },
    {
      "cell_type": "code",
      "source": [
        "# build the vocabulary of characters and mappings to/from integers\n",
        "chars = sorted(list(set(''.join(words))))\n",
        "stoi = {s:i+1 for i,s in enumerate(chars)}\n",
        "stoi['.'] = 0\n",
        "itos = {i:s for s,i in stoi.items()}\n",
        "vocab_size = len(itos)\n",
        "print(itos)\n",
        "print(vocab_size)"
      ],
      "metadata": {
        "id": "XhLQkRqsxZVi",
        "colab": {
          "base_uri": "https://localhost:8080/"
        },
        "outputId": "ffc0681b-c169-4834-a11e-2cf5db965482"
      },
      "execution_count": 4,
      "outputs": [
        {
          "output_type": "stream",
          "name": "stdout",
          "text": [
            "{1: 'a', 2: 'b', 3: 'c', 4: 'd', 5: 'e', 6: 'f', 7: 'g', 8: 'h', 9: 'i', 10: 'j', 11: 'k', 12: 'l', 13: 'm', 14: 'n', 15: 'o', 16: 'p', 17: 'q', 18: 'r', 19: 's', 20: 't', 21: 'u', 22: 'v', 23: 'w', 24: 'x', 25: 'y', 26: 'z', 0: '.'}\n",
            "27\n"
          ]
        }
      ]
    },
    {
      "cell_type": "code",
      "source": [
        "# shuffle up the words\n",
        "import random\n",
        "random.seed(42)\n",
        "random.shuffle(words)"
      ],
      "metadata": {
        "id": "q95dHzDFxc2r"
      },
      "execution_count": 5,
      "outputs": []
    },
    {
      "cell_type": "code",
      "source": [
        "# build dataset\n",
        "context_length = 8\n",
        "\n",
        "def build_dataset(words: list, vocabulary: dict, context_length: int):\n",
        "  X, Y = [], []\n",
        "  for w in words:\n",
        "    context = deque([vocabulary['.']] * context_length)\n",
        "    for x in w + '.':\n",
        "      Y.append(vocabulary[x])\n",
        "      X.append(list(context))\n",
        "      context.popleft()\n",
        "      context.append(vocabulary[x])\n",
        "\n",
        "  X = torch.tensor(X)\n",
        "  Y = torch.tensor(Y)\n",
        "  return X, Y\n",
        "\n",
        "n1 = int(0.8*len(words))\n",
        "n2 = int(0.9*len(words))\n",
        "Xtr,  Ytr  = build_dataset(words[:n1], stoi, context_length)     # 80%\n",
        "Xdev, Ydev = build_dataset(words[n1:n2], stoi, context_length)   # 10%\n",
        "Xte,  Yte  = build_dataset(words[n2:], stoi, context_length)     # 10%"
      ],
      "metadata": {
        "id": "63nzkb4kyxWw"
      },
      "execution_count": 23,
      "outputs": []
    },
    {
      "cell_type": "code",
      "source": [
        "# Check\n",
        "for x, y in zip(Xdev[:10], Ydev):\n",
        "  print(''.join(itos[i.item()] for i in x), '-->', itos[y.item()])"
      ],
      "metadata": {
        "colab": {
          "base_uri": "https://localhost:8080/"
        },
        "id": "rpdckFuJ1dfy",
        "outputId": "ec9ad58b-42af-4717-c286-8589707f37ff"
      },
      "execution_count": 54,
      "outputs": [
        {
          "output_type": "stream",
          "name": "stdout",
          "text": [
            "........ --> a\n",
            ".......a --> m\n",
            "......am --> a\n",
            ".....ama --> y\n",
            "....amay --> .\n",
            "........ --> a\n",
            ".......a --> y\n",
            "......ay --> t\n",
            ".....ayt --> a\n",
            "....ayta --> n\n"
          ]
        }
      ]
    },
    {
      "cell_type": "code",
      "source": [
        "# Layers\n",
        "\n",
        "class Linear:\n",
        "  def __init__(self, in_features, out_features, bias=True):\n",
        "    self.bias = bias\n",
        "    self.W = torch.randn((in_features, out_features)) / (in_features ** 0.5)\n",
        "    if self.bias:\n",
        "      self.b = torch.zeros(out_features)\n",
        "    else:\n",
        "      self.b = None\n",
        "\n",
        "  def __call__(self, x):\n",
        "    self.out = x @ self.W\n",
        "    if self.bias:\n",
        "      self.out += self.b\n",
        "    return self.out\n",
        "\n",
        "  def parameters(self):\n",
        "    return [self.W, self.b] if self.bias else [self.W]\n",
        "\n",
        "test = Linear(Xtr.shape[1], 12, True)(Xtr[:4, :].float())\n",
        "assert(test.shape == (4, 12))\n",
        "\n",
        "\n",
        "class BatchNorm1d:\n",
        "\n",
        "  def __init__(self, dim, momentum = 0.1, eps = 1e-6):\n",
        "    self.gamma = torch.randn((1, dim))\n",
        "    self.beta = torch.randn((1, dim))\n",
        "    self.mu = torch.zeros((1, dim))\n",
        "    self.sigma = torch.zeros((1, dim))\n",
        "    self.momentum = momentum\n",
        "    self.eps = eps\n",
        "    self.training = True\n",
        "\n",
        "  def __call__(self, x):\n",
        "    if self.training:\n",
        "      if len(x.shape) == 2:\n",
        "        batch_mean = torch.mean(x, dim=0)\n",
        "        batch_sigma = torch.std(x, dim=0)\n",
        "      elif len(x.shape) == 3:\n",
        "        batch_mean = torch.mean(x, dim=(0, 1))\n",
        "        batch_sigma = torch.std(x, dim=(0, 1))\n",
        "      else:\n",
        "        raise ValueError\n",
        "\n",
        "      self.out = (x - batch_mean)/torch.sqrt(batch_sigma + self.eps)\n",
        "      with torch.no_grad():\n",
        "        self.mu = (1 - self.momentum) * batch_mean + self.momentum * self.mu\n",
        "        self.sigma = (1 - self.momentum) * batch_sigma + self.momentum * self.sigma\n",
        "    else:\n",
        "      self.out = (x - self.mu)/torch.sqrt(self.sigma + self.eps)\n",
        "\n",
        "    self.out = self.gamma * self.out + self.beta\n",
        "    return self.out\n",
        "\n",
        "  def parameters(self):\n",
        "    return [self.gamma, self.beta]\n",
        "\n",
        "  def set_training(self, tr: bool):\n",
        "    self.training = tr\n",
        "\n",
        "\n",
        "l = BatchNorm1d(12)\n",
        "test_x = torch.randn((4, 4, 12))\n",
        "test_out = l(test_x)\n",
        "assert(test_out.shape == (4, 4, 12))\n",
        "l.set_training(False)\n",
        "test_out = l(test_x)\n",
        "assert(test_out.shape == (4, 4, 12))\n",
        "\n",
        "\n",
        "class Tanh:\n",
        "\n",
        "  def __call__(self, x):\n",
        "    self.out = torch.tanh(x)\n",
        "    return self.out\n",
        "\n",
        "  def parameters(self):\n",
        "    return []\n",
        "\n",
        "\n",
        "class Embedding:\n",
        "\n",
        "  def __init__(self, num_embeddings, embedding_dim):\n",
        "    self.n_emb = num_embeddings\n",
        "    self.dim = embedding_dim\n",
        "    self.C = torch.randn((self.n_emb, self.dim))\n",
        "\n",
        "  def __call__(self, x):\n",
        "    B, C = x.shape\n",
        "    self.out = self.C[x]\n",
        "    #self.out = self.out.reshape((B, C, self.dim))\n",
        "    return self.out\n",
        "\n",
        "  def parameters(self):\n",
        "    return [self.C]\n",
        "\n",
        "test_x = Xtr[:4, :]\n",
        "l = Embedding(vocab_size, 10)\n",
        "test_out = l(test_x)\n",
        "assert(test_out.shape == (4, 8, 10))\n",
        "\n",
        "class FlattenConsecutive:\n",
        "\n",
        "  def __init__(self, n: int):\n",
        "    self.n = n\n",
        "\n",
        "  def __call__(self, x):\n",
        "    B, T, C = x.shape\n",
        "    x = x.view((B, T//self.n, C * self.n))\n",
        "    if x.shape[1] == 1:\n",
        "      x = x.squeeze(1)\n",
        "    self.out = x\n",
        "    return self.out\n",
        "\n",
        "  def parameters(self):\n",
        "    return []\n",
        "\n",
        "test_x = torch.randn((4, 8, 10))\n",
        "l = FlattenConsecutive(n=2)\n",
        "test_out = l(test_x)\n",
        "assert(test_out.shape == (4, 4, 20))\n",
        "\n",
        "\n",
        "class Sequential:\n",
        "  def __init__(self, layers: list):\n",
        "    self.layers = layers\n",
        "\n",
        "  def __call__(self, x):\n",
        "    self.out = x\n",
        "    for l in self.layers:\n",
        "      self.out = l(self.out)\n",
        "    return self.out\n",
        "\n",
        "  def parameters(self):\n",
        "    return [p for l in self.layers for p in l.parameters() ]\n"
      ],
      "metadata": {
        "id": "jbbZV6vh2Eel"
      },
      "execution_count": 46,
      "outputs": []
    },
    {
      "cell_type": "code",
      "source": [
        "# Set seed\n",
        "torch.manual_seed(42)"
      ],
      "metadata": {
        "colab": {
          "base_uri": "https://localhost:8080/"
        },
        "id": "QuJHPELJWC93",
        "outputId": "7bcdeed6-4fcf-4cd8-84c3-1a775f7a0cf5"
      },
      "execution_count": 11,
      "outputs": [
        {
          "output_type": "execute_result",
          "data": {
            "text/plain": [
              "<torch._C.Generator at 0x7a8691f8cbf0>"
            ]
          },
          "metadata": {},
          "execution_count": 11
        }
      ]
    },
    {
      "cell_type": "code",
      "source": [
        "# Network\n",
        "num_embeddings = vocab_size\n",
        "dim_embeddings = 24\n",
        "hidden_dim = 128\n",
        "\n",
        "model = Sequential(layers=[\n",
        "    Embedding(num_embeddings, dim_embeddings),\n",
        "    FlattenConsecutive(n=2),Linear(dim_embeddings * 2, hidden_dim, False),BatchNorm1d(hidden_dim), Tanh(),\n",
        "    FlattenConsecutive(n=2),Linear(hidden_dim * 2, hidden_dim, False),BatchNorm1d(hidden_dim), Tanh(),\n",
        "    FlattenConsecutive(n=2),Linear(hidden_dim * 2, hidden_dim, False),BatchNorm1d(hidden_dim), Tanh(),\n",
        "    Linear(hidden_dim, vocab_size)\n",
        "])\n",
        "\n",
        "# parameter init\n",
        "with torch.no_grad():\n",
        "  model.layers[-1].W *= 0.1 # last layer make less confident\n",
        "\n",
        "print(f\"Number of parameters {sum([p.nelement() for p in model.parameters()])}\")\n",
        "for p in model.parameters():\n",
        "  p.requires_grad = True"
      ],
      "metadata": {
        "colab": {
          "base_uri": "https://localhost:8080/"
        },
        "id": "g9NhHuFsM9fT",
        "outputId": "2ca20cb9-32b2-4382-ebc5-fc13594aff58"
      },
      "execution_count": 55,
      "outputs": [
        {
          "output_type": "stream",
          "name": "stdout",
          "text": [
            "Number of parameters 76579\n"
          ]
        }
      ]
    },
    {
      "cell_type": "code",
      "source": [
        "# Training loop\n",
        "batch_size = 32\n",
        "n_iter = 200000\n",
        "lr = 0.1\n",
        "\n",
        "loss_tracker = list()\n",
        "for i in range(n_iter):\n",
        "  ix = torch.randint(0, Xtr.shape[0], size=(batch_size, ))\n",
        "  xb, yb = Xtr[ix], Ytr[ix]\n",
        "\n",
        "  logits = model(xb)\n",
        "  loss = F.cross_entropy(logits, yb)\n",
        "\n",
        "  for p in model.parameters():\n",
        "    p.grad = None\n",
        "\n",
        "  loss.backward()\n",
        "\n",
        "  if i > 150000:\n",
        "    lr = 0.01\n",
        "\n",
        "  for p in model.parameters():\n",
        "    p.data += - lr * p.grad\n",
        "\n",
        "  loss_tracker.append(loss.log10().item())\n",
        "  if i % 10000 == 0:\n",
        "    print(f\"{i}/{n_iter}  {loss.item()}\")"
      ],
      "metadata": {
        "colab": {
          "base_uri": "https://localhost:8080/"
        },
        "id": "iS5oV-PQJZLn",
        "outputId": "3880614c-3f05-4f07-ece2-5482caf449f2"
      },
      "execution_count": 56,
      "outputs": [
        {
          "output_type": "stream",
          "name": "stdout",
          "text": [
            "0/200000  3.297420024871826\n",
            "10000/200000  1.9009685516357422\n",
            "20000/200000  1.6694543361663818\n",
            "30000/200000  1.8465951681137085\n",
            "40000/200000  1.8007925748825073\n",
            "50000/200000  2.100294828414917\n",
            "60000/200000  1.9570350646972656\n",
            "70000/200000  1.8522686958312988\n",
            "80000/200000  1.6944615840911865\n",
            "90000/200000  1.928874135017395\n",
            "100000/200000  1.624273657798767\n",
            "110000/200000  2.167072296142578\n",
            "120000/200000  2.293593406677246\n",
            "130000/200000  2.3259012699127197\n",
            "140000/200000  1.964626669883728\n",
            "150000/200000  2.007993698120117\n",
            "160000/200000  1.7684580087661743\n",
            "170000/200000  1.9936727285385132\n",
            "180000/200000  1.7248011827468872\n",
            "190000/200000  1.8408355712890625\n"
          ]
        }
      ]
    },
    {
      "cell_type": "code",
      "source": [
        "loss_tracker = torch.tensor(loss_tracker)\n",
        "rolling_avg = loss_tracker.view(-1, 1000, 1).mean(dim=1)\n",
        "plt.plot(rolling_avg)"
      ],
      "metadata": {
        "colab": {
          "base_uri": "https://localhost:8080/",
          "height": 469
        },
        "id": "WqzdFZdodVmp",
        "outputId": "f3185a03-0dd8-4fa4-b73c-7da2c09d13b1"
      },
      "execution_count": 57,
      "outputs": [
        {
          "output_type": "execute_result",
          "data": {
            "text/plain": [
              "[<matplotlib.lines.Line2D at 0x7a85c304c490>]"
            ]
          },
          "metadata": {},
          "execution_count": 57
        },
        {
          "output_type": "display_data",
          "data": {
            "text/plain": [
              "<Figure size 640x480 with 1 Axes>"
            ],
            "image/png": "[encoded data removed]"
          },
          "metadata": {}
        }
      ]
    },
    {
      "cell_type": "code",
      "source": [
        "# loss evaluation\n",
        "@torch.no_grad()\n",
        "def eval_on_split(split):\n",
        "  X, Y = {\"train\": (Xtr, Ytr), \"dev\": (Xdev, Ydev), \"test\": (Xte, Yte)}[split]\n",
        "  Yhat = model(X)\n",
        "  loss = F.cross_entropy(Yhat, Y)\n",
        "  return loss.item()\n",
        "\n",
        "print(f\"Train loss: {eval_on_split('train'):.6f}\")\n",
        "print(f\"Dev loss: {eval_on_split('dev'):.6f}\")\n",
        "print(f\"Test loss: {eval_on_split('test'):.6f}\")"
      ],
      "metadata": {
        "colab": {
          "base_uri": "https://localhost:8080/"
        },
        "id": "IYDREeLIemKa",
        "outputId": "d3ed89cc-cd80-4c09-a39b-22f838ca14b1"
      },
      "execution_count": 58,
      "outputs": [
        {
          "output_type": "stream",
          "name": "stdout",
          "text": [
            "Train loss: 1.794186\n",
            "Dev loss: 1.993524\n",
            "Test loss: 1.992829\n"
          ]
        }
      ]
    },
    {
      "cell_type": "code",
      "source": [
        "for l in model.layers:\n",
        "  l.training = False\n",
        "\n",
        "name = list()\n",
        "next_s = None\n",
        "with torch.no_grad():\n",
        "    context = deque([stoi['.'] for _ in range(context_length)])\n",
        "    while next_s != '.':\n",
        "      logits = model(torch.tensor(context).view((1, -1)))\n",
        "      next_i = torch.multinomial(logits.exp()/logits.exp().sum(), num_samples=1).item()\n",
        "      next_s = itos[next_i]\n",
        "      name.append(next_s)\n",
        "      context.popleft()\n",
        "      context.append(next_i)\n",
        "      print(\"\".join(name))\n",
        "\n"
      ],
      "metadata": {
        "colab": {
          "base_uri": "https://localhost:8080/"
        },
        "id": "IpbfLlZDfeSi",
        "outputId": "1dbc753c-e75e-4fe9-968b-151384454d3a"
      },
      "execution_count": 59,
      "outputs": [
        {
          "output_type": "stream",
          "name": "stdout",
          "text": [
            "a\n",
            "ad\n",
            "ade\n",
            "aden\n",
            "adeni\n",
            "adenik\n",
            "adenika\n",
            "adenika.\n"
          ]
        }
      ]
    }
  ]
}