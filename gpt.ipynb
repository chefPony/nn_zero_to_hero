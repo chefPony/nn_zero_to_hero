{
 "cells": [
  {
   "cell_type": "markdown",
   "metadata": {
    "colab_type": "text",
    "id": "view-in-github"
   },
   "source": [
    "<a href=\"https://colab.research.google.com/github/chefPony/nn_zero_to_hero/blob/master/gpt.ipynb\" target=\"_parent\"><img src=\"https://colab.research.google.com/assets/colab-badge.svg\" alt=\"Open In Colab\"/></a>"
   ]
  },
  {
   "cell_type": "markdown",
   "metadata": {
    "id": "HtBmp2VVvbBA"
   },
   "source": [
    "# Building a Transformer from scratch\n",
    "\n",
    "## Load Data"
   ]
  },
  {
   "cell_type": "code",
   "execution_count": 1,
   "metadata": {
    "colab": {
     "base_uri": "https://localhost:8080/"
    },
    "id": "G3EnxEKDu8hJ",
    "outputId": "0873d8c8-86cc-4c3d-b095-4e685d5bad7e"
   },
   "outputs": [
    {
     "name": "stdout",
     "output_type": "stream",
     "text": [
      "--2024-09-07 09:09:11--  https://raw.githubusercontent.com/karpathy/char-rnn/master/data/tinyshakespeare/input.txt\n",
      "Resolving raw.githubusercontent.com (raw.githubusercontent.com)... 185.199.108.133, 185.199.109.133, 185.199.110.133, ...\n",
      "Connecting to raw.githubusercontent.com (raw.githubusercontent.com)|185.199.108.133|:443... connected.\n",
      "HTTP request sent, awaiting response... 200 OK\n",
      "Length: 1115394 (1.1M) [text/plain]\n",
      "Saving to: ‘input.txt’\n",
      "\n",
      "input.txt           100%[===================>]   1.06M  --.-KB/s    in 0.04s   \n",
      "\n",
      "2024-09-07 09:09:11 (25.8 MB/s) - ‘input.txt’ saved [1115394/1115394]\n",
      "\n"
     ]
    }
   ],
   "source": [
    "# We always start with a dataset to train on. Let's download the tiny shakespeare dataset\n",
    "!wget https://raw.githubusercontent.com/karpathy/char-rnn/master/data/tinyshakespeare/input.txt"
   ]
  },
  {
   "cell_type": "code",
   "execution_count": 2,
   "metadata": {
    "id": "hh-bFBlsvsuz"
   },
   "outputs": [],
   "source": [
    "with open(\"input.txt\", \"r\", encoding=\"utf-8\") as f:\n",
    "    text = f.read()"
   ]
  },
  {
   "cell_type": "code",
   "execution_count": 3,
   "metadata": {
    "colab": {
     "base_uri": "https://localhost:8080/"
    },
    "id": "x69QjSSIv0PF",
    "outputId": "852b86f1-974a-4354-80b6-dc70e0ad9fdf"
   },
   "outputs": [
    {
     "name": "stdout",
     "output_type": "stream",
     "text": [
      "First Citizen:\n",
      "Before we proceed any further, hear me speak.\n",
      "\n",
      "All:\n",
      "Speak, speak.\n",
      "\n",
      "First Citizen:\n",
      "You are all resolved rather to die than to famish?\n",
      "\n",
      "All:\n",
      "Resolved. resolved.\n",
      "\n",
      "First Citizen:\n",
      "First, you know Caius Marcius is chief enemy to the people.\n",
      "\n",
      "All:\n",
      "We know't, we know't.\n",
      "\n",
      "First Citizen:\n",
      "Let us kill him, and we'll have corn at our own price.\n",
      "Is't a verdict?\n",
      "\n",
      "All:\n",
      "No more talking on't; let it be done: away, away!\n",
      "\n",
      "Second Citizen:\n",
      "One word, good citizens.\n",
      "\n",
      "First Citizen:\n",
      "We are accounted poor citizens, the patricians good.\n",
      "What authority surfeits on would relieve us: if they\n",
      "would yield us but the superfluity, while it were\n",
      "wholesome, we might guess they relieved us humanely;\n",
      "but they think we are too dear: the leanness that\n",
      "afflicts us, the object of our misery, is as an\n",
      "inventory to particularise their abundance; our\n",
      "sufferance is a gain to them Let us revenge this with\n",
      "our pikes, ere we become rakes: for the gods know I\n",
      "speak this in hunger for bread, not in thirst for revenge.\n",
      "\n",
      "\n"
     ]
    }
   ],
   "source": [
    "print(text[:1000])"
   ]
  },
  {
   "cell_type": "code",
   "execution_count": 69,
   "metadata": {
    "colab": {
     "base_uri": "https://localhost:8080/"
    },
    "id": "At9PyaHvv4Mg",
    "outputId": "222aae03-d305-4875-a00c-36d7ab57a4f0"
   },
   "outputs": [
    {
     "name": "stdout",
     "output_type": "stream",
     "text": [
      "65\n",
      "\n",
      " !$&',-.3:;?ABCDEFGHIJKLMNOPQRSTUVWXYZabcdefghijklmnopqrstuvwxyz\n",
      "{0: '\\n', 1: ' ', 2: '!', 3: '$', 4: '&', 5: \"'\", 6: ',', 7: '-', 8: '.', 9: '3', 10: ':', 11: ';', 12: '?', 13: 'A', 14: 'B', 15: 'C', 16: 'D', 17: 'E', 18: 'F', 19: 'G', 20: 'H', 21: 'I', 22: 'J', 23: 'K', 24: 'L', 25: 'M', 26: 'N', 27: 'O', 28: 'P', 29: 'Q', 30: 'R', 31: 'S', 32: 'T', 33: 'U', 34: 'V', 35: 'W', 36: 'X', 37: 'Y', 38: 'Z', 39: 'a', 40: 'b', 41: 'c', 42: 'd', 43: 'e', 44: 'f', 45: 'g', 46: 'h', 47: 'i', 48: 'j', 49: 'k', 50: 'l', 51: 'm', 52: 'n', 53: 'o', 54: 'p', 55: 'q', 56: 'r', 57: 's', 58: 't', 59: 'u', 60: 'v', 61: 'w', 62: 'x', 63: 'y', 64: 'z'}\n",
      "{'\\n': 0, ' ': 1, '!': 2, '$': 3, '&': 4, \"'\": 5, ',': 6, '-': 7, '.': 8, '3': 9, ':': 10, ';': 11, '?': 12, 'A': 13, 'B': 14, 'C': 15, 'D': 16, 'E': 17, 'F': 18, 'G': 19, 'H': 20, 'I': 21, 'J': 22, 'K': 23, 'L': 24, 'M': 25, 'N': 26, 'O': 27, 'P': 28, 'Q': 29, 'R': 30, 'S': 31, 'T': 32, 'U': 33, 'V': 34, 'W': 35, 'X': 36, 'Y': 37, 'Z': 38, 'a': 39, 'b': 40, 'c': 41, 'd': 42, 'e': 43, 'f': 44, 'g': 45, 'h': 46, 'i': 47, 'j': 48, 'k': 49, 'l': 50, 'm': 51, 'n': 52, 'o': 53, 'p': 54, 'q': 55, 'r': 56, 's': 57, 't': 58, 'u': 59, 'v': 60, 'w': 61, 'x': 62, 'y': 63, 'z': 64}\n"
     ]
    }
   ],
   "source": [
    "chars = sorted(list(set(text)))\n",
    "vocab_size = len(chars)\n",
    "stoi = {c: i for i, c in enumerate(chars)}\n",
    "itos = {i: c for c, i in stoi.items()}\n",
    "\n",
    "encode = lambda x: [stoi[c] for c in x]\n",
    "decode = lambda x: [itos[i] for i in x]\n",
    "print(vocab_size)\n",
    "print(\"\".join(chars))\n",
    "print(itos)\n",
    "print(stoi)"
   ]
  },
  {
   "cell_type": "code",
   "execution_count": 70,
   "metadata": {
    "colab": {
     "base_uri": "https://localhost:8080/"
    },
    "id": "DoRNiePAxAAv",
    "outputId": "08abce91-e959-4fd3-d332-7deb5b7f8630"
   },
   "outputs": [
    {
     "name": "stdout",
     "output_type": "stream",
     "text": [
      "tensor([18, 47, 56, 57, 58,  1, 15, 47, 58, 47, 64, 43, 52, 10,  0, 14, 43, 44,\n",
      "        53, 56, 43,  1, 61, 43,  1, 54, 56, 53, 41, 43, 43, 42,  1, 39, 52, 63,\n",
      "         1, 44, 59, 56, 58, 46, 43, 56,  6,  1, 46, 43, 39, 56,  1, 51, 43,  1,\n",
      "        57, 54, 43, 39, 49,  8,  0,  0, 13, 50, 50, 10,  0, 31, 54, 43, 39, 49,\n",
      "         6,  1, 57, 54, 43, 39, 49,  8,  0,  0, 18, 47, 56, 57, 58,  1, 15, 47,\n",
      "        58, 47, 64, 43, 52, 10,  0, 37, 53, 59,  1, 39, 56, 43,  1, 39, 50, 50,\n",
      "         1, 56, 43, 57, 53, 50, 60, 43, 42,  1, 56, 39, 58, 46, 43, 56,  1, 58,\n",
      "        53,  1, 42, 47, 43,  1, 58, 46, 39, 52,  1, 58, 53,  1, 44, 39, 51, 47,\n",
      "        57, 46, 12,  0,  0, 13, 50, 50, 10,  0, 30, 43, 57, 53, 50, 60, 43, 42,\n",
      "         8,  1, 56, 43, 57, 53, 50, 60, 43, 42,  8,  0,  0, 18, 47, 56, 57, 58,\n",
      "         1, 15, 47, 58, 47, 64, 43, 52, 10,  0, 18, 47, 56, 57, 58,  6,  1, 63,\n",
      "        53, 59,  1, 49, 52, 53, 61,  1, 15, 39, 47, 59, 57,  1, 25, 39, 56, 41,\n",
      "        47, 59, 57,  1, 47, 57,  1, 41, 46, 47, 43, 44,  1, 43, 52, 43, 51, 63,\n",
      "         1, 58, 53,  1, 58, 46, 43,  1, 54, 43, 53, 54, 50, 43,  8,  0,  0, 13,\n",
      "        50, 50, 10,  0, 35, 43,  1, 49, 52, 53, 61,  5, 58,  6,  1, 61, 43,  1,\n",
      "        49, 52, 53, 61,  5, 58,  8,  0,  0, 18, 47, 56, 57, 58,  1, 15, 47, 58,\n",
      "        47, 64, 43, 52, 10,  0, 24, 43, 58,  1, 59, 57,  1, 49, 47, 50, 50,  1,\n",
      "        46, 47, 51,  6,  1, 39, 52, 42,  1, 61, 43,  5, 50, 50,  1, 46, 39, 60,\n",
      "        43,  1, 41, 53, 56, 52,  1, 39, 58,  1, 53, 59, 56,  1, 53, 61, 52,  1,\n",
      "        54, 56, 47, 41, 43,  8,  0, 21, 57,  5, 58,  1, 39,  1, 60, 43, 56, 42,\n",
      "        47, 41, 58, 12,  0,  0, 13, 50, 50, 10,  0, 26, 53,  1, 51, 53, 56, 43,\n",
      "         1, 58, 39, 50, 49, 47, 52, 45,  1, 53, 52,  5, 58, 11,  1, 50, 43, 58,\n",
      "         1, 47, 58,  1, 40, 43,  1, 42, 53, 52, 43, 10,  1, 39, 61, 39, 63,  6,\n",
      "         1, 39, 61, 39, 63,  2,  0,  0, 31, 43, 41, 53, 52, 42,  1, 15, 47, 58,\n",
      "        47, 64, 43, 52, 10,  0, 27, 52, 43,  1, 61, 53, 56, 42,  6,  1, 45, 53,\n",
      "        53, 42,  1, 41, 47, 58, 47, 64, 43, 52, 57,  8,  0,  0, 18, 47, 56, 57,\n",
      "        58,  1, 15, 47, 58, 47, 64, 43, 52, 10,  0, 35, 43,  1, 39, 56, 43,  1,\n",
      "        39, 41, 41, 53, 59, 52, 58, 43, 42,  1, 54, 53, 53, 56,  1, 41, 47, 58,\n",
      "        47, 64, 43, 52, 57,  6,  1, 58, 46, 43,  1, 54, 39, 58, 56, 47, 41, 47,\n",
      "        39, 52, 57,  1, 45, 53, 53, 42,  8,  0, 35, 46, 39, 58,  1, 39, 59, 58,\n",
      "        46, 53, 56, 47, 58, 63,  1, 57, 59, 56, 44, 43, 47, 58, 57,  1, 53, 52,\n",
      "         1, 61, 53, 59, 50, 42,  1, 56, 43, 50, 47, 43, 60, 43,  1, 59, 57, 10,\n",
      "         1, 47, 44,  1, 58, 46, 43, 63,  0, 61, 53, 59, 50, 42,  1, 63, 47, 43,\n",
      "        50, 42,  1, 59, 57,  1, 40, 59, 58,  1, 58, 46, 43,  1, 57, 59, 54, 43,\n",
      "        56, 44, 50, 59, 47, 58, 63,  6,  1, 61, 46, 47, 50, 43,  1, 47, 58,  1,\n",
      "        61, 43, 56, 43,  0, 61, 46, 53, 50, 43, 57, 53, 51, 43,  6,  1, 61, 43,\n",
      "         1, 51, 47, 45, 46, 58,  1, 45, 59, 43, 57, 57,  1, 58, 46, 43, 63,  1,\n",
      "        56, 43, 50, 47, 43, 60, 43, 42,  1, 59, 57,  1, 46, 59, 51, 39, 52, 43,\n",
      "        50, 63, 11,  0, 40, 59, 58,  1, 58, 46, 43, 63,  1, 58, 46, 47, 52, 49,\n",
      "         1, 61, 43,  1, 39, 56, 43,  1, 58, 53, 53,  1, 42, 43, 39, 56, 10,  1,\n",
      "        58, 46, 43,  1, 50, 43, 39, 52, 52, 43, 57, 57,  1, 58, 46, 39, 58,  0,\n",
      "        39, 44, 44, 50, 47, 41, 58, 57,  1, 59, 57,  6,  1, 58, 46, 43,  1, 53,\n",
      "        40, 48, 43, 41, 58,  1, 53, 44,  1, 53, 59, 56,  1, 51, 47, 57, 43, 56,\n",
      "        63,  6,  1, 47, 57,  1, 39, 57,  1, 39, 52,  0, 47, 52, 60, 43, 52, 58,\n",
      "        53, 56, 63,  1, 58, 53,  1, 54, 39, 56, 58, 47, 41, 59, 50, 39, 56, 47,\n",
      "        57, 43,  1, 58, 46, 43, 47, 56,  1, 39, 40, 59, 52, 42, 39, 52, 41, 43,\n",
      "        11,  1, 53, 59, 56,  0, 57, 59, 44, 44, 43, 56, 39, 52, 41, 43,  1, 47,\n",
      "        57,  1, 39,  1, 45, 39, 47, 52,  1, 58, 53,  1, 58, 46, 43, 51,  1, 24,\n",
      "        43, 58,  1, 59, 57,  1, 56, 43, 60, 43, 52, 45, 43,  1, 58, 46, 47, 57,\n",
      "         1, 61, 47, 58, 46,  0, 53, 59, 56,  1, 54, 47, 49, 43, 57,  6,  1, 43,\n",
      "        56, 43,  1, 61, 43,  1, 40, 43, 41, 53, 51, 43,  1, 56, 39, 49, 43, 57,\n",
      "        10,  1, 44, 53, 56,  1, 58, 46, 43,  1, 45, 53, 42, 57,  1, 49, 52, 53,\n",
      "        61,  1, 21,  0, 57, 54, 43, 39, 49,  1, 58, 46, 47, 57,  1, 47, 52,  1,\n",
      "        46, 59, 52, 45, 43, 56,  1, 44, 53, 56,  1, 40, 56, 43, 39, 42,  6,  1,\n",
      "        52, 53, 58,  1, 47, 52,  1, 58, 46, 47, 56, 57, 58,  1, 44, 53, 56,  1,\n",
      "        56, 43, 60, 43, 52, 45, 43,  8,  0,  0])\n"
     ]
    }
   ],
   "source": [
    "import torch\n",
    "\n",
    "DEVICE = \"cuda\" if torch.cuda.is_available() else \"cpu\"\n",
    "\n",
    "encoded_data = torch.tensor([stoi[c] for c in text])\n",
    "print(encoded_data[:1000])\n",
    "\n",
    "train_data = encoded_data[:int(len(text) * 0.9)]\n",
    "val_data = encoded_data[int(len(text) * 0.9):]"
   ]
  },
  {
   "cell_type": "code",
   "execution_count": 71,
   "metadata": {
    "colab": {
     "base_uri": "https://localhost:8080/"
    },
    "id": "qjgCPXCBxivS",
    "outputId": "a4249751-a039-40a5-cba3-87341305f2b9"
   },
   "outputs": [
    {
     "name": "stdout",
     "output_type": "stream",
     "text": [
      "torch.Size([4, 8])\n",
      "torch.Size([4, 8])\n",
      "batch\n",
      "tensor([[42,  1, 58, 46, 59, 57,  1, 21],\n",
      "        [54, 56, 47, 43, 57, 58, 11,  0],\n",
      "        [49, 47, 52, 45, 12,  1, 58, 46],\n",
      "        [58, 46, 53, 59, 58,  1, 56, 43]])\n",
      "target\n",
      "tensor([[ 1, 58, 46, 59, 57,  1, 21,  1],\n",
      "        [56, 47, 43, 57, 58, 11,  0, 37],\n",
      "        [47, 52, 45, 12,  1, 58, 46, 53],\n",
      "        [46, 53, 59, 58,  1, 56, 43, 42]])\n"
     ]
    }
   ],
   "source": [
    "torch.manual_seed(42)\n",
    "\n",
    "def get_batch(data: torch.Tensor, batch_size: int, block_size: int):\n",
    "  ix = torch.randint(low=0, high=data.shape[0] - block_size, size=(batch_size, 1))\n",
    "  xb = torch.stack([data[i : i+block_size] for i in ix], dim=0)\n",
    "  yb = torch.stack([data[i+1 : i+block_size+1] for i in ix], dim=0)\n",
    "  return xb, yb\n",
    "\n",
    "xb, yb = get_batch(encoded_data, 4, 8)\n",
    "print(xb.shape)\n",
    "print(yb.shape)\n",
    "print(\"batch\")\n",
    "print(xb)\n",
    "print(\"target\")\n",
    "print(yb)"
   ]
  },
  {
   "cell_type": "markdown",
   "metadata": {
    "id": "e1AUb0Zd5BhB"
   },
   "source": [
    "## Baseline: Bigram Model"
   ]
  },
  {
   "cell_type": "code",
   "execution_count": 75,
   "metadata": {
    "colab": {
     "base_uri": "https://localhost:8080/"
    },
    "id": "b2laIlU05BFP",
    "outputId": "cf2469e3-d04a-4751-8558-07a2af29548d"
   },
   "outputs": [
    {
     "name": "stdout",
     "output_type": "stream",
     "text": [
      "(tensor([[[-0.2904,  0.2590,  0.7079,  ...,  0.7628,  1.8667, -1.1203],\n",
      "         [-0.4843,  0.9146,  1.1201,  ...,  0.6532, -0.1009, -0.8900]],\n",
      "\n",
      "        [[ 0.8944, -0.6316, -0.3824,  ..., -0.5481, -0.2681, -0.7464],\n",
      "         [ 0.0475, -0.4170, -0.5255,  ...,  1.3355,  0.6254, -0.4938]],\n",
      "\n",
      "        [[-0.8011,  1.0484, -0.2927,  ..., -0.0139,  0.0979, -2.2571],\n",
      "         [ 0.9068,  2.1892,  1.7476,  ...,  0.3176, -1.0368, -0.7474]],\n",
      "\n",
      "        ...,\n",
      "\n",
      "        [[ 1.3910,  0.9389,  0.0155,  ...,  0.0100, -0.5601, -1.3799],\n",
      "         [ 0.1100,  1.6044,  0.1107,  ..., -1.1784,  0.5426,  0.3707]],\n",
      "\n",
      "        [[-0.4843,  0.9146,  1.1201,  ...,  0.6532, -0.1009, -0.8900],\n",
      "         [-1.0480,  0.0925,  0.6995,  ..., -1.3171, -2.0305,  1.4573]],\n",
      "\n",
      "        [[ 0.6370,  0.4737, -1.3896,  ..., -0.7042, -2.9895, -0.5418],\n",
      "         [-0.6855,  2.2579,  0.7349,  ..., -1.6794,  0.0107,  0.0091]]],\n",
      "       grad_fn=<EmbeddingBackward0>), tensor(4.4246, grad_fn=<NllLossBackward0>))\n",
      "\n",
      "\n",
      "&xG.gbXlFFCzWpUVAXDhgL\n",
      "R PvR3GzcB$sUz\n",
      "\n",
      "ItKjf$ov'AGf$oZMzwrEyjKfXBCwMJ&OLPmOe!xey'SjJmMNh-:;:;LaFDbuT\n"
     ]
    }
   ],
   "source": [
    "import torch.nn as nn\n",
    "from torch.nn import functional as F\n",
    "\n",
    "class BigramModel(nn.Module):\n",
    "\n",
    "  def __init__(self, vocab_size: int):\n",
    "    super().__init__()\n",
    "    self.logits = nn.Embedding(num_embeddings=vocab_size, embedding_dim=vocab_size)\n",
    "\n",
    "\n",
    "  def forward(self, x, targets=None):\n",
    "    logits = self.logits(x) # (B, T, C)\n",
    "    if targets is None:\n",
    "      loss = None\n",
    "    else:\n",
    "       B, T, C = logits.shape\n",
    "       loss = F.cross_entropy(logits.view(B * T, C), targets.view(B * T))\n",
    "    return logits, loss\n",
    "\n",
    "  @torch.no_grad\n",
    "  def generate(self, idx, max_new_tokens):\n",
    "    for _ in range(max_new_tokens):\n",
    "      logits, _ = self(idx)  #(B, n_vocab)\n",
    "      probs = F.softmax(logits, dim=-1)[:, -1, :]\n",
    "      next_idx = torch.multinomial(probs, 1)\n",
    "      idx = torch.cat([idx, next_idx], dim=1)\n",
    "    return idx\n",
    "\n",
    "\n",
    "xb, yb = get_batch(train_data, batch_size=8, block_size=2)\n",
    "bigram = BigramModel(vocab_size)\n",
    "print(bigram(xb, yb))\n",
    "print(\"\".join(decode(bigram.generate(torch.tensor([[0 , 0]]), 100).squeeze().tolist())))"
   ]
  },
  {
   "cell_type": "code",
   "execution_count": 78,
   "metadata": {
    "colab": {
     "base_uri": "https://localhost:8080/"
    },
    "id": "R9vQRDs28OTL",
    "outputId": "84fd9042-b51d-4454-d91c-a1968d3087a4"
   },
   "outputs": [
    {
     "name": "stdout",
     "output_type": "stream",
     "text": [
      "Train: 4.6459 Validation: 4.6332\n",
      "Train: 2.9655 Validation: 2.9123\n",
      "Train: 2.7739 Validation: 2.7765\n",
      "Train: 2.6468 Validation: 2.6758\n",
      "Train: 2.6503 Validation: 2.6450\n",
      "Train: 2.6039 Validation: 2.6303\n",
      "Train: 2.5625 Validation: 2.6065\n",
      "Train: 2.5952 Validation: 2.6100\n",
      "Train: 2.5765 Validation: 2.6054\n",
      "Train: 2.5661 Validation: 2.5468\n",
      "Train: 2.5249 Validation: 2.5553\n",
      "Train: 2.5466 Validation: 2.5220\n",
      "Train: 2.5221 Validation: 2.5160\n",
      "Train: 2.5155 Validation: 2.5485\n",
      "Train: 2.5137 Validation: 2.5543\n",
      "Train: 2.4912 Validation: 2.5097\n",
      "Train: 2.5491 Validation: 2.5359\n",
      "Train: 2.5521 Validation: 2.5370\n",
      "Train: 2.4920 Validation: 2.5409\n",
      "Train: 2.4892 Validation: 2.5389\n"
     ]
    }
   ],
   "source": [
    "lr = 1.\n",
    "block_size = 2\n",
    "batch_size = 16\n",
    "n_iter = 20000\n",
    "model = BigramModel(vocab_size)\n",
    "\n",
    "@torch.no_grad\n",
    "def evaluate_model(model, batch_size, block_size, num_batches=100):\n",
    "  loss_tr, loss_va = 0, 0\n",
    "  for _ in range(num_batches):\n",
    "    xb_tr, yb_tr = get_batch(train_data, batch_size, block_size)\n",
    "    xb_va, yb_va = get_batch(val_data, batch_size, block_size)\n",
    "    _, lossb_tr = model(xb_tr, yb_tr)\n",
    "    _, lossb_va = model(xb_va, yb_va)\n",
    "    loss_tr += lossb_tr\n",
    "    loss_va += lossb_va\n",
    "  return loss_tr/num_batches, loss_va/num_batches\n",
    "\n",
    "for i in range(n_iter):\n",
    "  xb, yb = get_batch(train_data, batch_size, 2)\n",
    "  _, loss = model(xb, yb)\n",
    "\n",
    "  for p in model.parameters():\n",
    "    p.grad = None\n",
    "\n",
    "  loss.backward()\n",
    "\n",
    "  for p in model.parameters():\n",
    "    p.data += -lr * p.grad\n",
    "\n",
    "  if i % 1000 == 0:\n",
    "    loss_tr, loss_va = evaluate_model(model, batch_size, block_size)\n",
    "    print(f\"Train: {loss_tr:.4f} Validation: {loss_va:.4f}\")"
   ]
  },
  {
   "cell_type": "code",
   "execution_count": 80,
   "metadata": {
    "colab": {
     "base_uri": "https://localhost:8080/"
    },
    "id": "vqNg7VUyHhWD",
    "outputId": "cebfdaf9-1d2c-4486-eea9-394005ab11f2"
   },
   "outputs": [
    {
     "name": "stdout",
     "output_type": "stream",
     "text": [
      "\n",
      "\n",
      "\n",
      "MI y I t ndier:\n",
      "B3t te iste ire?\n",
      "HLAn ayor fe, y ir towean Whee withmirswan, engrird wiowiconthance\n"
     ]
    }
   ],
   "source": [
    "print(\"\".join(decode(model.generate(torch.tensor([[0 , 0]]), 100).squeeze().tolist())))"
   ]
  }
 ],
 "metadata": {
  "colab": {
   "authorship_tag": "ABX9TyMUfWYwNJ3TX5/iuZ1bFAim",
   "include_colab_link": true,
   "provenance": []
  },
  "kernelspec": {
   "display_name": "Python 3 (ipykernel)",
   "language": "python",
   "name": "python3"
  },
  "language_info": {
   "codemirror_mode": {
    "name": "ipython",
    "version": 3
   },
   "file_extension": ".py",
   "mimetype": "text/x-python",
   "name": "python",
   "nbconvert_exporter": "python",
   "pygments_lexer": "ipython3",
   "version": "3.9.6"
  }
 },
 "nbformat": 4,
 "nbformat_minor": 4
}
